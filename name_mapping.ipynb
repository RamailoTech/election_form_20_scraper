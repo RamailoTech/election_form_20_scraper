{
 "cells": [
  {
   "cell_type": "code",
   "execution_count": 12,
   "metadata": {},
   "outputs": [],
   "source": [
    "import json\n",
    "import os\n",
    "import re\n",
    "\n",
    "# Function to extract mapping entries from a JSON file\n",
    "def extract_mapping_entries(filename):\n",
    "    # match = re.search(r'JSON_([a-zA-Z]+)_AssemblyElection_(\\d{4})_A(\\d{3}).json', filename)\n",
    "    match = re.search(r\"Form20-(\\d+)\", filename)\n",
    "\n",
    "    if match:\n",
    "        # state = match.group(1).lower()  # Convert state name to lowercase\n",
    "        state = 'rajasthan'\n",
    "        year = 2018\n",
    "        AC = int(match.group(1))\n",
    "    else:\n",
    "        print(f\"Filename {filename} does not match expected format.\")\n",
    "        return []\n",
    "\n",
    "    with open(filename) as f:\n",
    "        data = json.load(f)\n",
    "\n",
    "    table = data['tables'][0]\n",
    "    col_headers = []\n",
    "    cells = table.get('cells')\n",
    "\n",
    "    for i in range(table.get('column_count')):\n",
    "        col_cells = [cell for cell in cells if cell.get('column_index') == i and cell.get('kind') == 'columnHeader' and cell.get('column_span') == 1 and cell.get('row_span') == 1]\n",
    "                \n",
    "        contents = [cell.get('content') for cell in col_cells]\n",
    "                \n",
    "        contents = [content for content in contents if re.search(r'[a-zA-Z]', content) and len(content) > 4]\n",
    "        content = contents[0] if len(contents) else None\n",
    "        if content: \n",
    "            col_headers.append({\n",
    "                \"name\": content.replace('\\n', ' ').strip(),\n",
    "                \"index\" : i + 1 \n",
    "            })\n",
    "\n",
    "    mapping_entries = []\n",
    "    for column in col_headers:\n",
    "        mapping_entry = {\n",
    "            \"state\": state,\n",
    "            \"year\": year,\n",
    "            \"AC\": AC,\n",
    "            \"name\": column.get('name'),\n",
    "            \"column\": column.get('index'),\n",
    "        }\n",
    "        mapping_entries.append(mapping_entry)\n",
    "\n",
    "    return mapping_entries\n"
   ]
  },
  {
   "cell_type": "code",
   "execution_count": 13,
   "metadata": {},
   "outputs": [
    {
     "name": "stdout",
     "output_type": "stream",
     "text": [
      "Final mapping file created: results/name_mappings/rajasthan_2023.json\n"
     ]
    }
   ],
   "source": [
    "folder_path = 'results/Parsed_Pdfs/RA_filtered/2023'\n",
    "\n",
    "final_mapping_entries = []\n",
    "\n",
    "# Iterate over all files in the folder\n",
    "for filename in os.listdir(folder_path):\n",
    "    if filename.endswith(\".json\"):\n",
    "        file_path = os.path.join(folder_path, filename)\n",
    "        mapping_entries = extract_mapping_entries(file_path)\n",
    "        final_mapping_entries.extend(mapping_entries)\n",
    "\n",
    "state = 'rajasthan'\n",
    "year = 2023\n",
    "# Write final mapping entries to a JSON file\n",
    "final_mapping_filename = f'results/name_mappings/{state}_{year}.json'\n",
    "\n",
    "with open(final_mapping_filename, 'w') as f:\n",
    "    json.dump(final_mapping_entries, f, indent=4)\n",
    "\n",
    "print(f\"Final mapping file created: {final_mapping_filename}\")"
   ]
  },
  {
   "cell_type": "code",
   "execution_count": null,
   "metadata": {},
   "outputs": [],
   "source": []
  }
 ],
 "metadata": {
  "kernelspec": {
   "display_name": "ElectionVenv",
   "language": "python",
   "name": "python3"
  },
  "language_info": {
   "codemirror_mode": {
    "name": "ipython",
    "version": 3
   },
   "file_extension": ".py",
   "mimetype": "text/x-python",
   "name": "python",
   "nbconvert_exporter": "python",
   "pygments_lexer": "ipython3",
   "version": "3.10.12"
  }
 },
 "nbformat": 4,
 "nbformat_minor": 2
}
