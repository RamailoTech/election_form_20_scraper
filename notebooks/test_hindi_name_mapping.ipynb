{
 "cells": [
  {
   "cell_type": "code",
   "execution_count": 10,
   "metadata": {},
   "outputs": [],
   "source": [
    "import csv\n",
    "import json\n",
    "from fuzzywuzzy import fuzz\n",
    "\n",
    "def fuzzy_match_name_with_tolerance(name, name_list, tolerance=5):\n",
    "    cleaned_name = name.lower().replace(\" \", \"\").replace(\".\",\"\")\n",
    "    max_score = -1\n",
    "    matched_name = None\n",
    "    for candidate_name in name_list:\n",
    "        cleaned_candidate_name = candidate_name.lower().replace(\" \", \"\").replace(\".\",\"\")\n",
    "        score = fuzz.ratio(cleaned_name, cleaned_candidate_name)\n",
    "        len_sum = len(cleaned_name) + len(cleaned_candidate_name)\n",
    "        levenshtein_distance = len_sum - score * len_sum / 100\n",
    "        if levenshtein_distance <= tolerance:\n",
    "            if score >= max_score:\n",
    "                max_score = score\n",
    "                matched_name = candidate_name\n",
    "            \n",
    "    # If no matches are found, process name parts\n",
    "    if matched_name is None:\n",
    "        sub_tolerance = 3\n",
    "        name = name.replace(\".\",\"\")\n",
    "        name_parts = sorted(name.split(), key=len, reverse=True)  # Split and sort by length\n",
    "        filtered_name_parts = [part for part in name_parts if len(part) > 2]  # Filter parts greater than 3 characters\n",
    "        for part in filtered_name_parts:\n",
    "            part_cleaned = part.lower().replace(\" \", \"\").replace(\".\",\"\")\n",
    "            for candidate_name in name_list:\n",
    "                cleaned_candidate_name = candidate_name.lower().replace(\" \", \"\").replace(\".\",\"\")\n",
    "                \n",
    "                best_score = 0\n",
    "                best_distance = float('inf')\n",
    "\n",
    "                # Sliding window to check every possible substring of candidate name\n",
    "                for start in range(len(cleaned_candidate_name) - len(part_cleaned) + 1):\n",
    "                    end = start + len(part_cleaned)\n",
    "                    candidate_substring = cleaned_candidate_name[start:end]\n",
    "                    \n",
    "                    # Calculate fuzzy score and distance for the substring\n",
    "                    score = fuzz.ratio(part_cleaned, candidate_substring)\n",
    "                    len_sum = len(part_cleaned) + len(candidate_substring)\n",
    "                    levenshtein_distance = len_sum - score * len_sum / 100\n",
    "                    \n",
    "                    # Update the best score and distance found so far\n",
    "                    if score > best_score or (score == best_score and levenshtein_distance < best_distance):\n",
    "                        best_score = score\n",
    "                        best_distance = levenshtein_distance\n",
    "                \n",
    "                # If the best score and distance within tolerance, accept it as a match\n",
    "                if best_distance <= sub_tolerance:\n",
    "                    matched_name = candidate_name\n",
    "            if matched_name:\n",
    "                break\n",
    "        \n",
    "    return matched_name"
   ]
  },
  {
   "cell_type": "code",
   "execution_count": 13,
   "metadata": {},
   "outputs": [
    {
     "name": "stdout",
     "output_type": "stream",
     "text": [
      "श्याम बिहारी जायसवाल\n"
     ]
    }
   ],
   "source": [
    "name_list = ['आदित्य राज (डेविड भैया)',\t'रमेश सिंह वकील','श्याम बिहारी जायसवाल',\t'अयोध्या प्रसाद' ,'अरुणा पनिका'\t,'ओमप्रकाश अहिरवार',\t'महेश प्रसाद']\n",
    "\n",
    "# name = 'रमेश सिंह वकी'\n",
    "name = 'जायसवाल'\n",
    "\n",
    "match = fuzzy_match_name_with_tolerance(name, name_list)\n",
    "print(match)"
   ]
  },
  {
   "cell_type": "code",
   "execution_count": null,
   "metadata": {},
   "outputs": [],
   "source": []
  }
 ],
 "metadata": {
  "kernelspec": {
   "display_name": "ElectionVenv",
   "language": "python",
   "name": "python3"
  },
  "language_info": {
   "codemirror_mode": {
    "name": "ipython",
    "version": 3
   },
   "file_extension": ".py",
   "mimetype": "text/x-python",
   "name": "python",
   "nbconvert_exporter": "python",
   "pygments_lexer": "ipython3",
   "version": "3.10.12"
  }
 },
 "nbformat": 4,
 "nbformat_minor": 2
}
