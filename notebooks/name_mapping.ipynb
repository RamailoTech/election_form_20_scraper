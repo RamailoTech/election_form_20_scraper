{
 "cells": [
  {
   "cell_type": "code",
   "execution_count": 1,
   "metadata": {},
   "outputs": [],
   "source": [
    "import json\n",
    "import os\n",
    "import re\n",
    "\n",
    "# Function to extract mapping entries from a JSON file\n",
    "def extract_mapping_entries(filename):\n",
    "    match = re.search(r'JSON_([a-zA-Z]+)_(\\d{4})_AC_(\\d{2}).json', filename)\n",
    "    # match = re.search(r'JSON_([a-zA-Z]+)_(\\d{4})_AC_(AC\\d{2})Form\\d{2}\\.json',filename)\n",
    "    # match = re.search(r'JSON_([a-zA-Z]+)_LokSabha_Election_(\\d{4})_AC_(\\d{3}).json', filename)\n",
    "\n",
    "    # match = re.search(r\"Form20-(\\d+)\", filename)\n",
    "    # match = re.search(r'JSON_([a-zA-Z]+)_(\\d{4})_AC_(AC\\d{2})Form\\d{2}\\.json',filename)\n",
    "    \n",
    "    if match:\n",
    "        # state = match.group(1).lower()  # Convert state name to lowercase\n",
    "        # state = match.group(1).lower()\n",
    "        state = 'chhattisgarh'\n",
    "        year = int(match.group(2))\n",
    "        AC = int(match.group(3))\n",
    "    else:\n",
    "        print(f\"Filename {filename} does not match expected format.\")\n",
    "        return []\n",
    "\n",
    "    with open(filename) as f:\n",
    "        data = json.load(f)\n",
    "\n",
    "    table = data['tables'][0]\n",
    "    col_headers = []\n",
    "    cells = table.get('cells')\n",
    "\n",
    "    for i in range(1,table.get('column_count')):\n",
    "        col_cells = [cell for cell in cells if cell.get('column_index') == i and cell.get('kind') == 'columnHeader' and cell.get('column_span') == 1]\n",
    "                \n",
    "        # contents = [cell.get('content') for cell in col_cells]\n",
    "        # unwanted_terms = [\"NOTA\", \"None\", \"station\", \"polling\", \"total\", \"vote\", \"rendered\", \"rejected\", \"valid\", \"serial\"]\n",
    "        unwanted_terms = [\"मतदान\",\"केन्द्र\",\"क्रम\",\"संख्या\",\"विधिमान्य\",\"मतों\",\"नोटा\",\"एनओटीए\",\"निविदत्त\",\"कुल\",\"NOTA\",\"अस्वीकृत\",\"स.क.\",\"इनमें\" ,\"कोई\",\"नही\",\"पार्टी\",\"बहुजन\",\"मुक्ति\",\"समाज\",\"इंडियन\",\"नेशनल\",\"कौंग्रेस\",\"छत्तीसगढ़\",\"स्वाभिमान\",\"मंच\",\"आबडकराइट\",\"ऑफ\",\"आम\",\"आदमी\",\"निर्दलीय\",\"बहुजन\",\"(भा.ज.पा.)\",\"(ब.स.पा.)\",\"(इं.ने.कां.)\",\"(आ.आ.पा.)\",\"(जद यू.)\",\"(निर्दलीय)\",\"विकल्प\"]\n",
    "\n",
    "        # Filtering out the cells whose content contains any of the unwanted terms\n",
    "        contents = [cell.get('content') for cell in col_cells if not any(term.lower() in (cell.get('content') or \"\").replace(\" \", \"\").replace(\"\\n\",\"\").lower() for term in unwanted_terms)]\n",
    "  \n",
    "        contents = [content for content in contents if re.search(r'[a-zA-Z0-9]', content) and len(content) > 4]\n",
    "        content = contents[0] if len(contents) else None\n",
    "        if content: \n",
    "            col_headers.append({\n",
    "                \"name\": content.replace('\\n', ' ').strip(), \n",
    "                \"index\" : i + 1 \n",
    "            })\n",
    "\n",
    "    mapping_entries = []\n",
    "    for column in col_headers:\n",
    "        name = column.get('name')\n",
    "        name = re.sub(r'[^\\x00-\\x7F]+', '', name)\n",
    "        mapping_entry = {\n",
    "            \"state\": state,\n",
    "            \"year\": year,\n",
    "            \"AC\": AC,\n",
    "            \"name\": name,\n",
    "            \"column\": column.get('index'),\n",
    "        }\n",
    "        mapping_entries.append(mapping_entry)\n",
    "\n",
    "    return mapping_entries\n"
   ]
  },
  {
   "cell_type": "code",
   "execution_count": 2,
   "metadata": {},
   "outputs": [
    {
     "name": "stdout",
     "output_type": "stream",
     "text": [
      "Final mapping file created: results/name_mappings/chhattisgarh_2018_AE.json\n"
     ]
    }
   ],
   "source": [
    "# folder_path = 'results/Parsed_Pdfs/RA_filtered/2023'\n",
    "\n",
    "folder_path = 'results/Parsed_Pdfs/Chhattisgarh/AE_2018'\n",
    "# folder_path = 'results/Parsed_Pdfs/Maharastra/Lok Sabha Election 2019'\n",
    "final_mapping_entries = []\n",
    "\n",
    "# Iterate over all files in the folder\n",
    "for filename in os.listdir(folder_path):\n",
    "    if filename.endswith(\".json\"):\n",
    "        file_path = os.path.join(folder_path, filename)\n",
    "\n",
    "        mapping_entries = extract_mapping_entries(file_path)\n",
    "        final_mapping_entries.extend(mapping_entries)\n",
    "\n",
    "state = 'chhattisgarh'\n",
    "year = 2018\n",
    "# type = 'GA'\n",
    "type = 'AE'\n",
    "# Write final mapping entries to a JSON file\n",
    "final_mapping_filename = f'results/name_mappings/{state}_{year}_{type}.json'\n",
    "\n",
    "with open(final_mapping_filename, 'w') as f:\n",
    "    json.dump(final_mapping_entries, f, indent=4)\n",
    "\n",
    "print(f\"Final mapping file created: {final_mapping_filename}\")"
   ]
  },
  {
   "cell_type": "code",
   "execution_count": 4,
   "metadata": {},
   "outputs": [],
   "source": [
    "import json\n",
    "\n",
    "# Read the existing JSON file\n",
    "with open('results/name_mappings/chhattisgarh_2018_AE.json', 'r', encoding='utf-8') as file:\n",
    "    data = json.load(file)\n",
    "\n",
    "# Write the data back to a new JSON file with literal Devanagari characters\n",
    "with open('results/name_mappings/chhattisgarh_2018_AE_hindi_casted.json', 'w', encoding='utf-8') as file:\n",
    "    json.dump(data, file, ensure_ascii=False, indent=4)"
   ]
  },
  {
   "cell_type": "code",
   "execution_count": 1,
   "metadata": {},
   "outputs": [],
   "source": [
    "# import json\n",
    "# import pandas as pd\n",
    "\n",
    "# election_df = pd.read_csv('data/Chhattisgarh_AE.csv')\n",
    "\n",
    "\n",
    "# def get_candidate_names(election_df, year):\n",
    "#     top_3 = [1,2,3]\n",
    "#     # Define conditions\n",
    "#     condition_general = (\n",
    "#         (election_df['Year'] == year) &\n",
    "#         (~election_df['Candidate'].isin(['None of the Above', 'NOTA']))\n",
    "#     )\n",
    "\n",
    "#     condition_inc = (\n",
    "#         (election_df['Party'] == 'INC')\n",
    "#     )\n",
    "    \n",
    "#     # Use bitwise OR to combine conditions\n",
    "#     filtered_election_df = election_df[\n",
    "#         (condition_general & election_df['Position'].isin(top_3)) |\n",
    "#         (condition_inc & condition_general)\n",
    "#     ]\n",
    "\n",
    "#     candidates_list = filtered_election_df['Candidate'].tolist()\n",
    "    \n",
    "#     return candidates_list\n",
    "\n"
   ]
  },
  {
   "cell_type": "code",
   "execution_count": 2,
   "metadata": {},
   "outputs": [
    {
     "name": "stdout",
     "output_type": "stream",
     "text": [
      "['GULAB KAMRO', 'CHAMPADEVI PAWLE', 'SHYAM SINGH MARKAM', 'DR. VINAY JAISWAL', 'SHYAM BIHARI JAISWAL', 'LAKHAN LAL SHRIVASTAVA (PANI WALE BABA)', 'AMBICA SINGH DEO', 'BHAIYALAL RAJWADE', 'ENGR.SANJAY SINGH KAMRO', 'KHEL SAI SINGH', 'VIJAY PRATAP SINGH', 'JAINATH SINGH KERAM', 'PARAS NATH RAJWADE', 'RAJNI RAVISHANKAR TRIPATHI', 'RAM ADHEEN POYA', 'DR. PREMSAI SINGH TEKAM', 'RAMSEWAK PAIKRA', 'ASHA DEVI POYA', 'BRIHASPAT SINGH', 'RAMKISHUN SINGH', 'VINAY PAIKRA', 'CHINTAMANI MAHRAJ', 'SIDHNATH PAIKRA', 'MITKOO BHAGAT', 'DR. PRITAM RAM', 'VIJAYNATH SINGH', 'T.S. BABA', 'ANURAG SINGH DEO', 'GOPAL PRASAD GUPTA', 'AMARJEET BHAGAT', 'PROFESSOR GOPAL RAM', 'VINAY KUMAR BHAGAT', 'GOVIND RAM BHAGAT', 'PRADEEP SINGH', 'U. D. MINJ', 'BHARAT SAI', 'RAMPUKAR SINGH THAKUR', 'SHIVSHANKAR PAINKARA', 'CHAKRADHAR SINGH SIDAR', 'SATYANAND RATHIYA', 'HRIDYA RAM RATHIYA', 'PRAKASH SHAKRAJEET NAIK', 'ROSHANLAL', 'VIJAY AGRAWAL', 'UTTARI GANPAT JANGDE', 'KERA BAI MANAHAR', 'ARVIND KHATKER', 'UMESH PATEL', 'OP CHOUDHARY', 'LALJEET SINGH RATHIA', 'LEENAV BIRJU RATHIA', 'NANKI RAM KANWAR', 'PHOOL SINGH RATHIYA', 'SHYAM LAL KANWAR', 'JAISINGH AGRAWAL(JAISINGH BHAIYA)', 'VIKAS MAHTO', 'RAM SINGH AGRAWAL(CHACHA)', 'PURUSHOTTAM KANWAR', 'LAKHANLAL DEWANGAN', 'GOVIND SINGH RAJPUT', 'MOHIT RAM', 'HIRA SINGH MARKAM', 'UIKE RAMDYAL', 'AJIT JOGI', 'ARCHANA PORTE', 'GULAB SINGH RAJ', 'RENU AJIT JOGI', 'KASHI RAM SAHU', 'VIBHOR SINGH', 'DHARMJEET SINGH', 'TOKHAN SAHU', 'SHATRUHAN (SONU) CHANDRAKAR', 'PUNNULAL MOHALE', 'RAKESH PATRE', 'CHANDRABHAN BARMATE', 'RASHMI ASHISH SINGH', 'SANTOSH KAUSHIK (GURUJI)', 'HARSHITA PANDEY', 'DHARAM LAL KAUSHIK', 'RAJENDRA SHUKLA', 'SIYARAM KAUSHIK', 'SHAILESH PANDEY', 'AMAR AGRAWAL', 'BRIJESH SAHU', 'RAJNISH KUMAR SINGH', 'RAJENDRA SAHU(DABBU)', 'ANIL TAH', 'DR. KRISHNA MURTI BANDHI', 'JAYENDRA SINGH PATLE', 'DILIP LAHARIYA', 'SAURABH SINGH', 'RICHA JOGI', 'CHUNNILAL SAHU', 'NARAYAN CHANDEL', 'MOTILAL DEWANGAN', 'BYAS NARAYAN KASHYAP', 'CHARAN DAS MAHANT', 'MEDHA RAM SAHU', 'GAUTAM RATHORE', 'RAM KUMAR YADAV', 'GITANJALI PATEL', 'BAHU RANI SANYOGITA SINGH JUDEV', 'KESHAV PRASAD CHANDRA', 'KAILASH SAHU', 'ANIL KUMAR CHANDRA', 'INDU BANJARE', 'GORELAL BARMAN', 'AMBESH JANGRE', 'KISMAT LAL NAND', 'SHYAM TANDI', 'DEVENDRA BAHADUR SINGH', 'SAMPAT AGRAWAL', 'DURGACHARAN(D.C.) PATEL', 'DWARIKADHISH YADAV', 'MONIKA DILIP SAHU', 'PARESH BAGBAHARA', 'VINOD SEVAN LAL CHANDRAKAR', 'POONAM CHANDRAKAR', 'TRIBHUWAN MAHILANG', 'CHANDRADEV PRASAD RAI', 'SHYAM KUMAR TANDAN', 'DR. SANAM JANGDE', 'SHAKUNTALA SAHU', 'GAURISHANKAR AGRAWAL', 'PARMESHWAR YADU', 'PRAMOD KUMAR SHARMA', 'JANAK RAM VERMA', 'TESU LAL DHURANDHAR', 'SHIVRATAN SHARMA', 'SUNIL MAHESHWARI', 'CHAITRAM SAHU', 'ANITA YOGENDRA SHARMA', 'DEVJI BHAI PATEL', 'PANNA LAL SAHU', 'SATYANARAYAN SHARMA', 'NAND KUMAR SAHU (NANDE BHAIYA)', 'DR. OMPRAKASH DEWANGAN', 'VIKAS UPADHYAY', 'RAJESH MUNAT', 'BHOJRAJ GAURKHEDE', 'KULDEEP JUNEJA', 'SHRI CHAND SUNDRANI', 'AMAR GIDWANI', 'BRIJMOHAN AGRAWAL', 'KANHAIYA AGRAWAL', 'DR. SHIVKUMAR DAHARIYA', 'SANJAY DHIDHI', 'SANJAY CHELAK', 'DHANENDRA SAHU', 'CHANDRASHEKHAR SAHU - CHAMPU BHAIYYA', 'DAYARAM NISHAD', 'AMITESH SHUKLA', 'SANTOSH UPADHYAY', 'ROHIT SAHU', 'DAMARUDHAR PUJARI', 'SANJAY NETAM', 'ONKAR SHAH', 'DR. LAKSHMI DHRUW', 'PINKY SHIVRAJ SHAH', 'VINOD KUMAR NAGWANSHI', 'AJAY CHANDRAKAR', 'NEELAM CHANDRAKAR', 'LAXMIKANTA SAHU', 'RANJANA DIPENDRA SAHU', 'GURUMUKH SINGH HORA', 'ANAND PAWAR', 'SANGEETA SINHA', 'PAWAN SAHU', 'ARJUN HIRWANI', 'ANILA BHENDIA', 'LAL MAHENDRA SINGH TEKAM', 'DEV LAL THAKUR', 'KUNWER SINGH NISHAD', 'DEEPAK TARACHAND SAHU', 'RAJENDRA KUMAR RAI', 'BHUPESH BAGHEL', 'MOTILAL SAHU', 'SHAKUNTALA SAHU', 'TAMRADHWAJ SAHU', 'JAGESHWAR SAHU', 'DR. BALMUKUND DEWANGAN', 'ARUN VORA', 'CHANDRIKA CHANDRAKAR', 'PRATAP MADHYANI', 'DEVENDRA YADAV', 'PREM PRAKASH PANDEY', 'DEENANATH JAISWAR', 'VIDYA RATAN BHASIN', 'BADRUDDIN QURESHI', 'MANOJ KUMAR', 'GURU RUDRA KUMAR', 'RAJMAHANT SANWLA RAM DAHRE', 'DR.SHOBHA RAM BANJARE', 'RAVINDRA CHAUBE', 'LABHCHAND BAFNA', 'TEKSINGH CHANDEL', 'ASHISH KUMAR CHHABRA', 'AWADHESH SINGH CHANDEL', 'YOGESH TIWARI', 'GURUDAYAL SINGH BANJARE', 'DAYALDAS BAGHEL', 'OMPRAKASH BATCHPAYI', 'MAMTA CHANDRAKAR', 'MOTIRAM CHANDRAVANSHI', 'CHAITRAM RAJ', 'AKBAR BHAI', 'ASHOK SAHU', 'RAMKHILAWAN DAHARIYA', 'DEVWRAT SINGH', 'KOMAL JANGHEL', 'GIRWAR JANGHEL', 'BHUNESHWAR SHOBHARAM BAGHEL', 'SAROJANI BANJARE', 'TARUN KUMAR HATHEL', 'DR. RAMAN SINGH', 'KARUNA SHUKLA', 'DEEPAK YADAV', 'DALESHWAR SAHU', 'MADHUSUDAN YADAV', 'CHHANNI CHANDU SAHU', 'HIRENDRA KUMAR SAHU', 'JARNAIL SINGH BHATIYA', 'INDRASHAH MANDAVI', 'KANCHAN MALA BHUARYA', 'SANJEET THAKUR', 'ANOOP NAG', 'VIKRAM USENDI', 'SUKHRANJAN USENDI URAF SILEDAR', 'MANOJ SINGH MANDAVI', 'DEO LAL DUGGA', 'KOMAL HUPENDI', 'SHISHUPAL SHORI', 'HIRA MARKAM', 'HEMLAL MARKAM', 'SANT RAM NETAM', 'HARISHANKAR NETAM', 'MOHAN MARKAM', 'LATA USENDI', 'CHANDAN KASHYAP', 'KEDAR KASHYAP', 'BAGHEL LAKHESHWAR', 'DR. SUBHAU KASHYAP', 'REKHCHAND JAIN', 'SANTOSH BAFNA', 'MANGALRAM KASHYAP', 'DEEPAK BAIJ', 'LACHHURAM KASHYAP', 'BHIMA MANDAVI', 'DEVATI KARMA', 'NANDA RAM SORI', 'VIKRAM MANDAVI', 'MAHESH GAGDA', 'KAWASI LAKHMA', 'DHANIRAM BARSE', 'MANISH KUNJAM']\n"
     ]
    }
   ],
   "source": [
    "# candidate_names = get_candidate_names(election_df, 2018)\n",
    "\n",
    "# print(candidate_names)"
   ]
  },
  {
   "cell_type": "code",
   "execution_count": 32,
   "metadata": {},
   "outputs": [
    {
     "name": "stdout",
     "output_type": "stream",
     "text": [
      "MANISH KUNJAM\n"
     ]
    }
   ],
   "source": [
    "# candidate_names[:20]\n",
    "# print(len(candidate_names))\n",
    "print(candidate_names[-1])\n"
   ]
  },
  {
   "cell_type": "code",
   "execution_count": 3,
   "metadata": {},
   "outputs": [
    {
     "name": "stdout",
     "output_type": "stream",
     "text": [
      "CSV file updated successfully with Hindi names.\n"
     ]
    }
   ],
   "source": [
    "import pandas as pd\n",
    "import json\n",
    "\n",
    "# Load the JSON file with English to Hindi name mappings\n",
    "with open('data/hindi_names.json', 'r') as file:\n",
    "    name_mapping = json.load(file)\n",
    "\n",
    "# Load the CSV file that contains the English names\n",
    "df = pd.read_csv('data/Chhattisgarh_AE.csv')\n",
    "\n",
    "# Map the Hindi names to the English names using the JSON mapping\n",
    "# Assume the English names are under a column named 'english_name'\n",
    "df['hindi_name'] = df['Candidate'].map(name_mapping)\n",
    "\n",
    "# Save the updated DataFrame to a new CSV file\n",
    "df.to_csv('Chhattisgarh_AE_with_hindinames.csv', index=False)\n",
    "\n",
    "print(\"CSV file updated successfully with Hindi names.\")\n"
   ]
  },
  {
   "cell_type": "code",
   "execution_count": 38,
   "metadata": {},
   "outputs": [],
   "source": [
    "import openai\n",
    "\n",
    "openai.api_key=\"sk-proj-QWTGhoeV4F4nG3y5v8WhT3BlbkFJCwQRD596VdofAMyqkm4q\"\n",
    "\n",
    "name_translations = {\n",
    "    \"John\": \"जॉन\",\n",
    "    \"Mary\": \"मेरी\",\n",
    "    \"David\": \"डेविड\",\n",
    "    \"Sarah\": \"सारा\"\n",
    "}\n",
    "\n",
    "def get_model_response(model, user_prompt, prompt, temperature=0, logprobs=False, top_logprobs=None, response_format=None):\n",
    "    '''\n",
    "    Function to get model response\n",
    "    '''\n",
    "    params = {\n",
    "        \"model\": model,\n",
    "        \"temperature\": temperature,\n",
    "        \"logprobs\": logprobs,\n",
    "        \"messages\": [\n",
    "            {\"role\": \"system\", \"content\": prompt},\n",
    "            {\"role\": \"user\", \"content\": user_prompt}\n",
    "        ]\n",
    "    }\n",
    "    if response_format:\n",
    "        params[\"response_format\"] = response_format\n",
    "\n",
    "    if logprobs:\n",
    "        params[\"top_logprobs\"] = top_logprobs if top_logprobs else 1\n",
    "\n",
    "    response = openai.chat.completions.create(\n",
    "        **params\n",
    "    )\n",
    "    return response"
   ]
  },
  {
   "cell_type": "code",
   "execution_count": 41,
   "metadata": {},
   "outputs": [],
   "source": [
    "# model=\"gpt-3.5-turbo\"\n",
    "# prompt = \"You are a language translator. Yor are suppose to translate list of English names into hindi.\\n\\nTranslate the given names and strictly \\nprovide me output in json format.\\n\\n{'GULAB KAMRO':'hindi name'}\"\n",
    "# user_prompt = \"['GULAB KAMRO', 'CHAMPADEVI PAWLE', 'SHYAM SINGH MARKAM']\"\n",
    "\n",
    "# response = get_model_response(model,user_prompt,prompt,)\n",
    "# # content = response['choices'][0]['message']['content']\n",
    "# print(response)"
   ]
  },
  {
   "cell_type": "code",
   "execution_count": null,
   "metadata": {},
   "outputs": [],
   "source": [
    "# english_candidate_name, hindi_candidate_names\n"
   ]
  }
 ],
 "metadata": {
  "kernelspec": {
   "display_name": "ElectionVenv",
   "language": "python",
   "name": "python3"
  },
  "language_info": {
   "codemirror_mode": {
    "name": "ipython",
    "version": 3
   },
   "file_extension": ".py",
   "mimetype": "text/x-python",
   "name": "python",
   "nbconvert_exporter": "python",
   "pygments_lexer": "ipython3",
   "version": "3.10.12"
  }
 },
 "nbformat": 4,
 "nbformat_minor": 2
}
