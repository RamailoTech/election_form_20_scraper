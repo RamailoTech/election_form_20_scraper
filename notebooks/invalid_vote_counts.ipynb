{
 "cells": [
  {
   "cell_type": "code",
   "execution_count": 18,
   "metadata": {},
   "outputs": [],
   "source": [
    "import pandas as pd\n",
    "import numpy as np\n",
    "\n",
    "def clean_excel_file(df):\n",
    "    # Step 1: Rename Columns based on their expected order and content\n",
    "    num_cols = df.shape[1]\n",
    "    core_cols = ['SN', 'Polling_Station']\n",
    "\n",
    "    # Check if the third column is likely 'Polling_Station_Name'\n",
    "    # We expect this column to have 'name' in its header if it exists\n",
    "    third_col_name = df.columns[2].lower()  # Lowercase the third column name to check properly\n",
    "    if 'name' in third_col_name:\n",
    "        core_cols.append('Polling_Station_Name')\n",
    "        start_dynamic_cols = 4\n",
    "    else:\n",
    "        start_dynamic_cols = 3\n",
    "\n",
    "    # Continue with the remaining expected column names\n",
    "    core_cols += [f'col_{i}' for i in range(start_dynamic_cols, num_cols-5+1)] + \\\n",
    "                 ['Total_Valid_Votes', 'Total_Rejected_Votes', 'NOTA', 'Total', 'Total_Votes_Tendered']\n",
    "    \n",
    "    # Apply the new column names\n",
    "    df.columns = core_cols\n",
    "\n",
    "    if 'Polling_Station_Name' in df.columns:\n",
    "        df.drop('Polling_Station_Name', axis=1, inplace=True)\n",
    "        \n",
    "    # Step 2: Clean all cells in the dataframe to remove unwanted characters\n",
    "    df = df.applymap(lambda x: ''.join(c for c in str(x) if c.isalnum() or c == '.'))\n",
    "\n",
    "    # Step 3: Replace 'nan' strings with actual NaN values\n",
    "    df.replace(to_replace='^nan$', value=np.nan, regex=True, inplace=True)\n",
    "    \n",
    "    #sum\n",
    "    \n",
    "\n",
    "    # Step 4: Convert applicable columns to numeric types\n",
    "    # Define columns to exclude from numeric conversion (text columns)\n",
    "    exclude_columns = ['SN', 'Polling_Station']\n",
    "\n",
    "    # Identify columns that should be processed (all except the excluded ones)\n",
    "    columns_to_process = df.columns.difference(exclude_columns)\n",
    "\n",
    "    # Apply numeric conversion only to the appropriate columns\n",
    "    df[columns_to_process] = df[columns_to_process].apply(pd.to_numeric, errors='coerce')\n",
    "\n",
    "    # Step 5: Filter out rows where any cell is non-numeric (where it should be numeric)\n",
    "    df = df[df[columns_to_process].applymap(lambda x: pd.isna(x) or isinstance(x, (int, float))).all(axis=1)]\n",
    "    start_col = 2  # 3rd column (index 2)\n",
    "    end_col = len(core_cols) - 6   # 7th column (index 6)\n",
    "\n",
    "    # Calculate the sum of values across specified columns\n",
    "    sum_of_columns = df.iloc[:, start_col:end_col+1].sum(axis=1)\n",
    "    # print(sum_of_columns)\n",
    "    mismatch_mask = sum_of_columns == df['Total_Valid_Votes']\n",
    "    # mismatch_count = mismatch_mask.sum()\n",
    "    mismatch_count = (~mismatch_mask).sum()\n",
    "    print(mismatch_count)\n",
    "    return mismatch_count"
   ]
  },
  {
   "cell_type": "code",
   "execution_count": 41,
   "metadata": {},
   "outputs": [],
   "source": [
    "import os\n",
    "\n",
    "def check_all_files(folder_path,year):\n",
    "    mismatch_counts = {}\n",
    "    results = []\n",
    "    for filename in os.listdir(folder_path):\n",
    "        if filename.endswith('.xlsx') or filename.endswith('.xls'):\n",
    "            try:\n",
    "                df = pd.read_excel(os.path.join(folder_path, filename))\n",
    "                # file_path = os.path.join(folder_path, filename)\n",
    "                mismatches = clean_excel_file(df)\n",
    "                if mismatches > 0:  # Store only if mismatches are greater than 0\n",
    "                    parsed_filename = filename.split('.')[0].split('_')[-1]\n",
    "                    mismatch_counts[parsed_filename] = mismatches\n",
    "                    results.append({'Year': year, 'Filename': f\"{parsed_filename}.xlsx\", 'Mismatches': mismatches})\n",
    "            except Exception as e:\n",
    "                print(f\"Error processing {filename}: {e}\")\n",
    "                parsed_filename = filename.split('.')[0].split('_')[-1]\n",
    "                \n",
    "                results.append({'Year': year,'Filename': f\"{parsed_filename}.xlsx\", 'Mismatches': \"Error\"})\n",
    "\n",
    "\n",
    "    results_df = pd.DataFrame(results)\n",
    "    mismatched_count = \"results/mismatched_count\"\n",
    "    results_df.to_csv(os.path.join(mismatched_count, 'mismatch_results_maharastra_GE_2014.csv'), index=False)\n",
    "    print(\"Results saved to mismatch_results.csv\")\n",
    "\n",
    "    return mismatch_counts\n"
   ]
  },
  {
   "cell_type": "code",
   "execution_count": 43,
   "metadata": {},
   "outputs": [
    {
     "name": "stderr",
     "output_type": "stream",
     "text": [
      "/tmp/ipykernel_213204/3639310771.py:29: FutureWarning: DataFrame.applymap has been deprecated. Use DataFrame.map instead.\n",
      "  df = df.applymap(lambda x: ''.join(c for c in str(x) if c.isalnum() or c == '.'))\n",
      "/tmp/ipykernel_213204/3639310771.py:32: FutureWarning: Downcasting behavior in `replace` is deprecated and will be removed in a future version. To retain the old behavior, explicitly call `result.infer_objects(copy=False)`. To opt-in to the future behavior, set `pd.set_option('future.no_silent_downcasting', True)`\n",
      "  df.replace(to_replace='^nan$', value=np.nan, regex=True, inplace=True)\n",
      "/tmp/ipykernel_213204/3639310771.py:48: FutureWarning: DataFrame.applymap has been deprecated. Use DataFrame.map instead.\n",
      "  df = df[df[columns_to_process].applymap(lambda x: pd.isna(x) or isinstance(x, (int, float))).all(axis=1)]\n",
      "/tmp/ipykernel_213204/3639310771.py:29: FutureWarning: DataFrame.applymap has been deprecated. Use DataFrame.map instead.\n",
      "  df = df.applymap(lambda x: ''.join(c for c in str(x) if c.isalnum() or c == '.'))\n",
      "/tmp/ipykernel_213204/3639310771.py:48: FutureWarning: DataFrame.applymap has been deprecated. Use DataFrame.map instead.\n",
      "  df = df[df[columns_to_process].applymap(lambda x: pd.isna(x) or isinstance(x, (int, float))).all(axis=1)]\n"
     ]
    },
    {
     "name": "stdout",
     "output_type": "stream",
     "text": [
      "16\n",
      "20\n"
     ]
    },
    {
     "name": "stderr",
     "output_type": "stream",
     "text": [
      "/tmp/ipykernel_213204/3639310771.py:29: FutureWarning: DataFrame.applymap has been deprecated. Use DataFrame.map instead.\n",
      "  df = df.applymap(lambda x: ''.join(c for c in str(x) if c.isalnum() or c == '.'))\n",
      "/tmp/ipykernel_213204/3639310771.py:48: FutureWarning: DataFrame.applymap has been deprecated. Use DataFrame.map instead.\n",
      "  df = df[df[columns_to_process].applymap(lambda x: pd.isna(x) or isinstance(x, (int, float))).all(axis=1)]\n"
     ]
    },
    {
     "name": "stdout",
     "output_type": "stream",
     "text": [
      "1\n"
     ]
    },
    {
     "name": "stderr",
     "output_type": "stream",
     "text": [
      "/tmp/ipykernel_213204/3639310771.py:29: FutureWarning: DataFrame.applymap has been deprecated. Use DataFrame.map instead.\n",
      "  df = df.applymap(lambda x: ''.join(c for c in str(x) if c.isalnum() or c == '.'))\n",
      "/tmp/ipykernel_213204/3639310771.py:48: FutureWarning: DataFrame.applymap has been deprecated. Use DataFrame.map instead.\n",
      "  df = df[df[columns_to_process].applymap(lambda x: pd.isna(x) or isinstance(x, (int, float))).all(axis=1)]\n",
      "/tmp/ipykernel_213204/3639310771.py:29: FutureWarning: DataFrame.applymap has been deprecated. Use DataFrame.map instead.\n",
      "  df = df.applymap(lambda x: ''.join(c for c in str(x) if c.isalnum() or c == '.'))\n",
      "/tmp/ipykernel_213204/3639310771.py:48: FutureWarning: DataFrame.applymap has been deprecated. Use DataFrame.map instead.\n",
      "  df = df[df[columns_to_process].applymap(lambda x: pd.isna(x) or isinstance(x, (int, float))).all(axis=1)]\n"
     ]
    },
    {
     "name": "stdout",
     "output_type": "stream",
     "text": [
      "302\n",
      "139\n"
     ]
    },
    {
     "name": "stderr",
     "output_type": "stream",
     "text": [
      "/tmp/ipykernel_213204/3639310771.py:29: FutureWarning: DataFrame.applymap has been deprecated. Use DataFrame.map instead.\n",
      "  df = df.applymap(lambda x: ''.join(c for c in str(x) if c.isalnum() or c == '.'))\n",
      "/tmp/ipykernel_213204/3639310771.py:48: FutureWarning: DataFrame.applymap has been deprecated. Use DataFrame.map instead.\n",
      "  df = df[df[columns_to_process].applymap(lambda x: pd.isna(x) or isinstance(x, (int, float))).all(axis=1)]\n"
     ]
    },
    {
     "name": "stdout",
     "output_type": "stream",
     "text": [
      "0\n"
     ]
    },
    {
     "name": "stderr",
     "output_type": "stream",
     "text": [
      "/tmp/ipykernel_213204/3639310771.py:29: FutureWarning: DataFrame.applymap has been deprecated. Use DataFrame.map instead.\n",
      "  df = df.applymap(lambda x: ''.join(c for c in str(x) if c.isalnum() or c == '.'))\n",
      "/tmp/ipykernel_213204/3639310771.py:48: FutureWarning: DataFrame.applymap has been deprecated. Use DataFrame.map instead.\n",
      "  df = df[df[columns_to_process].applymap(lambda x: pd.isna(x) or isinstance(x, (int, float))).all(axis=1)]\n",
      "/tmp/ipykernel_213204/3639310771.py:29: FutureWarning: DataFrame.applymap has been deprecated. Use DataFrame.map instead.\n",
      "  df = df.applymap(lambda x: ''.join(c for c in str(x) if c.isalnum() or c == '.'))\n"
     ]
    },
    {
     "name": "stdout",
     "output_type": "stream",
     "text": [
      "442\n",
      "9\n"
     ]
    },
    {
     "name": "stderr",
     "output_type": "stream",
     "text": [
      "/tmp/ipykernel_213204/3639310771.py:48: FutureWarning: DataFrame.applymap has been deprecated. Use DataFrame.map instead.\n",
      "  df = df[df[columns_to_process].applymap(lambda x: pd.isna(x) or isinstance(x, (int, float))).all(axis=1)]\n",
      "/tmp/ipykernel_213204/3639310771.py:29: FutureWarning: DataFrame.applymap has been deprecated. Use DataFrame.map instead.\n",
      "  df = df.applymap(lambda x: ''.join(c for c in str(x) if c.isalnum() or c == '.'))\n",
      "/tmp/ipykernel_213204/3639310771.py:48: FutureWarning: DataFrame.applymap has been deprecated. Use DataFrame.map instead.\n",
      "  df = df[df[columns_to_process].applymap(lambda x: pd.isna(x) or isinstance(x, (int, float))).all(axis=1)]\n",
      "/tmp/ipykernel_213204/3639310771.py:29: FutureWarning: DataFrame.applymap has been deprecated. Use DataFrame.map instead.\n",
      "  df = df.applymap(lambda x: ''.join(c for c in str(x) if c.isalnum() or c == '.'))\n"
     ]
    },
    {
     "name": "stdout",
     "output_type": "stream",
     "text": [
      "22\n",
      "304\n"
     ]
    },
    {
     "name": "stderr",
     "output_type": "stream",
     "text": [
      "/tmp/ipykernel_213204/3639310771.py:48: FutureWarning: DataFrame.applymap has been deprecated. Use DataFrame.map instead.\n",
      "  df = df[df[columns_to_process].applymap(lambda x: pd.isna(x) or isinstance(x, (int, float))).all(axis=1)]\n",
      "/tmp/ipykernel_213204/3639310771.py:29: FutureWarning: DataFrame.applymap has been deprecated. Use DataFrame.map instead.\n",
      "  df = df.applymap(lambda x: ''.join(c for c in str(x) if c.isalnum() or c == '.'))\n",
      "/tmp/ipykernel_213204/3639310771.py:48: FutureWarning: DataFrame.applymap has been deprecated. Use DataFrame.map instead.\n",
      "  df = df[df[columns_to_process].applymap(lambda x: pd.isna(x) or isinstance(x, (int, float))).all(axis=1)]\n"
     ]
    },
    {
     "name": "stdout",
     "output_type": "stream",
     "text": [
      "0\n"
     ]
    },
    {
     "name": "stderr",
     "output_type": "stream",
     "text": [
      "/tmp/ipykernel_213204/3639310771.py:29: FutureWarning: DataFrame.applymap has been deprecated. Use DataFrame.map instead.\n",
      "  df = df.applymap(lambda x: ''.join(c for c in str(x) if c.isalnum() or c == '.'))\n",
      "/tmp/ipykernel_213204/3639310771.py:48: FutureWarning: DataFrame.applymap has been deprecated. Use DataFrame.map instead.\n",
      "  df = df[df[columns_to_process].applymap(lambda x: pd.isna(x) or isinstance(x, (int, float))).all(axis=1)]\n",
      "/tmp/ipykernel_213204/3639310771.py:29: FutureWarning: DataFrame.applymap has been deprecated. Use DataFrame.map instead.\n",
      "  df = df.applymap(lambda x: ''.join(c for c in str(x) if c.isalnum() or c == '.'))\n"
     ]
    },
    {
     "name": "stdout",
     "output_type": "stream",
     "text": [
      "6\n",
      "338\n"
     ]
    },
    {
     "name": "stderr",
     "output_type": "stream",
     "text": [
      "/tmp/ipykernel_213204/3639310771.py:48: FutureWarning: DataFrame.applymap has been deprecated. Use DataFrame.map instead.\n",
      "  df = df[df[columns_to_process].applymap(lambda x: pd.isna(x) or isinstance(x, (int, float))).all(axis=1)]\n",
      "/tmp/ipykernel_213204/3639310771.py:29: FutureWarning: DataFrame.applymap has been deprecated. Use DataFrame.map instead.\n",
      "  df = df.applymap(lambda x: ''.join(c for c in str(x) if c.isalnum() or c == '.'))\n",
      "/tmp/ipykernel_213204/3639310771.py:48: FutureWarning: DataFrame.applymap has been deprecated. Use DataFrame.map instead.\n",
      "  df = df[df[columns_to_process].applymap(lambda x: pd.isna(x) or isinstance(x, (int, float))).all(axis=1)]\n"
     ]
    },
    {
     "name": "stdout",
     "output_type": "stream",
     "text": [
      "570\n"
     ]
    },
    {
     "name": "stderr",
     "output_type": "stream",
     "text": [
      "/tmp/ipykernel_213204/3639310771.py:29: FutureWarning: DataFrame.applymap has been deprecated. Use DataFrame.map instead.\n",
      "  df = df.applymap(lambda x: ''.join(c for c in str(x) if c.isalnum() or c == '.'))\n",
      "/tmp/ipykernel_213204/3639310771.py:32: FutureWarning: Downcasting behavior in `replace` is deprecated and will be removed in a future version. To retain the old behavior, explicitly call `result.infer_objects(copy=False)`. To opt-in to the future behavior, set `pd.set_option('future.no_silent_downcasting', True)`\n",
      "  df.replace(to_replace='^nan$', value=np.nan, regex=True, inplace=True)\n",
      "/tmp/ipykernel_213204/3639310771.py:48: FutureWarning: DataFrame.applymap has been deprecated. Use DataFrame.map instead.\n",
      "  df = df[df[columns_to_process].applymap(lambda x: pd.isna(x) or isinstance(x, (int, float))).all(axis=1)]\n",
      "/tmp/ipykernel_213204/3639310771.py:29: FutureWarning: DataFrame.applymap has been deprecated. Use DataFrame.map instead.\n",
      "  df = df.applymap(lambda x: ''.join(c for c in str(x) if c.isalnum() or c == '.'))\n",
      "/tmp/ipykernel_213204/3639310771.py:48: FutureWarning: DataFrame.applymap has been deprecated. Use DataFrame.map instead.\n",
      "  df = df[df[columns_to_process].applymap(lambda x: pd.isna(x) or isinstance(x, (int, float))).all(axis=1)]\n"
     ]
    },
    {
     "name": "stdout",
     "output_type": "stream",
     "text": [
      "292\n",
      "0\n"
     ]
    },
    {
     "name": "stderr",
     "output_type": "stream",
     "text": [
      "/tmp/ipykernel_213204/3639310771.py:29: FutureWarning: DataFrame.applymap has been deprecated. Use DataFrame.map instead.\n",
      "  df = df.applymap(lambda x: ''.join(c for c in str(x) if c.isalnum() or c == '.'))\n",
      "/tmp/ipykernel_213204/3639310771.py:48: FutureWarning: DataFrame.applymap has been deprecated. Use DataFrame.map instead.\n",
      "  df = df[df[columns_to_process].applymap(lambda x: pd.isna(x) or isinstance(x, (int, float))).all(axis=1)]\n",
      "/tmp/ipykernel_213204/3639310771.py:29: FutureWarning: DataFrame.applymap has been deprecated. Use DataFrame.map instead.\n",
      "  df = df.applymap(lambda x: ''.join(c for c in str(x) if c.isalnum() or c == '.'))\n",
      "/tmp/ipykernel_213204/3639310771.py:48: FutureWarning: DataFrame.applymap has been deprecated. Use DataFrame.map instead.\n",
      "  df = df[df[columns_to_process].applymap(lambda x: pd.isna(x) or isinstance(x, (int, float))).all(axis=1)]\n"
     ]
    },
    {
     "name": "stdout",
     "output_type": "stream",
     "text": [
      "358\n",
      "9\n"
     ]
    },
    {
     "name": "stderr",
     "output_type": "stream",
     "text": [
      "/tmp/ipykernel_213204/3639310771.py:29: FutureWarning: DataFrame.applymap has been deprecated. Use DataFrame.map instead.\n",
      "  df = df.applymap(lambda x: ''.join(c for c in str(x) if c.isalnum() or c == '.'))\n",
      "/tmp/ipykernel_213204/3639310771.py:48: FutureWarning: DataFrame.applymap has been deprecated. Use DataFrame.map instead.\n",
      "  df = df[df[columns_to_process].applymap(lambda x: pd.isna(x) or isinstance(x, (int, float))).all(axis=1)]\n",
      "/tmp/ipykernel_213204/3639310771.py:29: FutureWarning: DataFrame.applymap has been deprecated. Use DataFrame.map instead.\n",
      "  df = df.applymap(lambda x: ''.join(c for c in str(x) if c.isalnum() or c == '.'))\n",
      "/tmp/ipykernel_213204/3639310771.py:32: FutureWarning: Downcasting behavior in `replace` is deprecated and will be removed in a future version. To retain the old behavior, explicitly call `result.infer_objects(copy=False)`. To opt-in to the future behavior, set `pd.set_option('future.no_silent_downcasting', True)`\n",
      "  df.replace(to_replace='^nan$', value=np.nan, regex=True, inplace=True)\n",
      "/tmp/ipykernel_213204/3639310771.py:48: FutureWarning: DataFrame.applymap has been deprecated. Use DataFrame.map instead.\n",
      "  df = df[df[columns_to_process].applymap(lambda x: pd.isna(x) or isinstance(x, (int, float))).all(axis=1)]\n"
     ]
    },
    {
     "name": "stdout",
     "output_type": "stream",
     "text": [
      "17\n",
      "45\n"
     ]
    },
    {
     "name": "stderr",
     "output_type": "stream",
     "text": [
      "/tmp/ipykernel_213204/3639310771.py:29: FutureWarning: DataFrame.applymap has been deprecated. Use DataFrame.map instead.\n",
      "  df = df.applymap(lambda x: ''.join(c for c in str(x) if c.isalnum() or c == '.'))\n",
      "/tmp/ipykernel_213204/3639310771.py:48: FutureWarning: DataFrame.applymap has been deprecated. Use DataFrame.map instead.\n",
      "  df = df[df[columns_to_process].applymap(lambda x: pd.isna(x) or isinstance(x, (int, float))).all(axis=1)]\n"
     ]
    },
    {
     "name": "stdout",
     "output_type": "stream",
     "text": [
      "13\n"
     ]
    },
    {
     "name": "stderr",
     "output_type": "stream",
     "text": [
      "/tmp/ipykernel_213204/3639310771.py:29: FutureWarning: DataFrame.applymap has been deprecated. Use DataFrame.map instead.\n",
      "  df = df.applymap(lambda x: ''.join(c for c in str(x) if c.isalnum() or c == '.'))\n",
      "/tmp/ipykernel_213204/3639310771.py:48: FutureWarning: DataFrame.applymap has been deprecated. Use DataFrame.map instead.\n",
      "  df = df[df[columns_to_process].applymap(lambda x: pd.isna(x) or isinstance(x, (int, float))).all(axis=1)]\n",
      "/tmp/ipykernel_213204/3639310771.py:29: FutureWarning: DataFrame.applymap has been deprecated. Use DataFrame.map instead.\n",
      "  df = df.applymap(lambda x: ''.join(c for c in str(x) if c.isalnum() or c == '.'))\n",
      "/tmp/ipykernel_213204/3639310771.py:48: FutureWarning: DataFrame.applymap has been deprecated. Use DataFrame.map instead.\n",
      "  df = df[df[columns_to_process].applymap(lambda x: pd.isna(x) or isinstance(x, (int, float))).all(axis=1)]\n"
     ]
    },
    {
     "name": "stdout",
     "output_type": "stream",
     "text": [
      "13\n",
      "257\n"
     ]
    },
    {
     "name": "stderr",
     "output_type": "stream",
     "text": [
      "/tmp/ipykernel_213204/3639310771.py:29: FutureWarning: DataFrame.applymap has been deprecated. Use DataFrame.map instead.\n",
      "  df = df.applymap(lambda x: ''.join(c for c in str(x) if c.isalnum() or c == '.'))\n",
      "/tmp/ipykernel_213204/3639310771.py:48: FutureWarning: DataFrame.applymap has been deprecated. Use DataFrame.map instead.\n",
      "  df = df[df[columns_to_process].applymap(lambda x: pd.isna(x) or isinstance(x, (int, float))).all(axis=1)]\n",
      "/tmp/ipykernel_213204/3639310771.py:29: FutureWarning: DataFrame.applymap has been deprecated. Use DataFrame.map instead.\n",
      "  df = df.applymap(lambda x: ''.join(c for c in str(x) if c.isalnum() or c == '.'))\n"
     ]
    },
    {
     "name": "stdout",
     "output_type": "stream",
     "text": [
      "12\n"
     ]
    },
    {
     "name": "stderr",
     "output_type": "stream",
     "text": [
      "/tmp/ipykernel_213204/3639310771.py:48: FutureWarning: DataFrame.applymap has been deprecated. Use DataFrame.map instead.\n",
      "  df = df[df[columns_to_process].applymap(lambda x: pd.isna(x) or isinstance(x, (int, float))).all(axis=1)]\n"
     ]
    },
    {
     "name": "stdout",
     "output_type": "stream",
     "text": [
      "11\n"
     ]
    },
    {
     "name": "stderr",
     "output_type": "stream",
     "text": [
      "/tmp/ipykernel_213204/3639310771.py:29: FutureWarning: DataFrame.applymap has been deprecated. Use DataFrame.map instead.\n",
      "  df = df.applymap(lambda x: ''.join(c for c in str(x) if c.isalnum() or c == '.'))\n",
      "/tmp/ipykernel_213204/3639310771.py:48: FutureWarning: DataFrame.applymap has been deprecated. Use DataFrame.map instead.\n",
      "  df = df[df[columns_to_process].applymap(lambda x: pd.isna(x) or isinstance(x, (int, float))).all(axis=1)]\n"
     ]
    },
    {
     "name": "stdout",
     "output_type": "stream",
     "text": [
      "1668\n",
      "235\n"
     ]
    },
    {
     "name": "stderr",
     "output_type": "stream",
     "text": [
      "/tmp/ipykernel_213204/3639310771.py:29: FutureWarning: DataFrame.applymap has been deprecated. Use DataFrame.map instead.\n",
      "  df = df.applymap(lambda x: ''.join(c for c in str(x) if c.isalnum() or c == '.'))\n",
      "/tmp/ipykernel_213204/3639310771.py:48: FutureWarning: DataFrame.applymap has been deprecated. Use DataFrame.map instead.\n",
      "  df = df[df[columns_to_process].applymap(lambda x: pd.isna(x) or isinstance(x, (int, float))).all(axis=1)]\n",
      "/tmp/ipykernel_213204/3639310771.py:29: FutureWarning: DataFrame.applymap has been deprecated. Use DataFrame.map instead.\n",
      "  df = df.applymap(lambda x: ''.join(c for c in str(x) if c.isalnum() or c == '.'))\n",
      "/tmp/ipykernel_213204/3639310771.py:48: FutureWarning: DataFrame.applymap has been deprecated. Use DataFrame.map instead.\n",
      "  df = df[df[columns_to_process].applymap(lambda x: pd.isna(x) or isinstance(x, (int, float))).all(axis=1)]\n"
     ]
    },
    {
     "name": "stdout",
     "output_type": "stream",
     "text": [
      "306\n"
     ]
    },
    {
     "name": "stderr",
     "output_type": "stream",
     "text": [
      "/tmp/ipykernel_213204/3639310771.py:29: FutureWarning: DataFrame.applymap has been deprecated. Use DataFrame.map instead.\n",
      "  df = df.applymap(lambda x: ''.join(c for c in str(x) if c.isalnum() or c == '.'))\n",
      "/tmp/ipykernel_213204/3639310771.py:48: FutureWarning: DataFrame.applymap has been deprecated. Use DataFrame.map instead.\n",
      "  df = df[df[columns_to_process].applymap(lambda x: pd.isna(x) or isinstance(x, (int, float))).all(axis=1)]\n",
      "/tmp/ipykernel_213204/3639310771.py:29: FutureWarning: DataFrame.applymap has been deprecated. Use DataFrame.map instead.\n",
      "  df = df.applymap(lambda x: ''.join(c for c in str(x) if c.isalnum() or c == '.'))\n",
      "/tmp/ipykernel_213204/3639310771.py:48: FutureWarning: DataFrame.applymap has been deprecated. Use DataFrame.map instead.\n",
      "  df = df[df[columns_to_process].applymap(lambda x: pd.isna(x) or isinstance(x, (int, float))).all(axis=1)]\n"
     ]
    },
    {
     "name": "stdout",
     "output_type": "stream",
     "text": [
      "570\n",
      "194\n"
     ]
    },
    {
     "name": "stderr",
     "output_type": "stream",
     "text": [
      "/tmp/ipykernel_213204/3639310771.py:29: FutureWarning: DataFrame.applymap has been deprecated. Use DataFrame.map instead.\n",
      "  df = df.applymap(lambda x: ''.join(c for c in str(x) if c.isalnum() or c == '.'))\n",
      "/tmp/ipykernel_213204/3639310771.py:48: FutureWarning: DataFrame.applymap has been deprecated. Use DataFrame.map instead.\n",
      "  df = df[df[columns_to_process].applymap(lambda x: pd.isna(x) or isinstance(x, (int, float))).all(axis=1)]\n",
      "/tmp/ipykernel_213204/3639310771.py:29: FutureWarning: DataFrame.applymap has been deprecated. Use DataFrame.map instead.\n",
      "  df = df.applymap(lambda x: ''.join(c for c in str(x) if c.isalnum() or c == '.'))\n",
      "/tmp/ipykernel_213204/3639310771.py:48: FutureWarning: DataFrame.applymap has been deprecated. Use DataFrame.map instead.\n",
      "  df = df[df[columns_to_process].applymap(lambda x: pd.isna(x) or isinstance(x, (int, float))).all(axis=1)]\n"
     ]
    },
    {
     "name": "stdout",
     "output_type": "stream",
     "text": [
      "2\n",
      "3\n"
     ]
    },
    {
     "name": "stderr",
     "output_type": "stream",
     "text": [
      "/tmp/ipykernel_213204/3639310771.py:29: FutureWarning: DataFrame.applymap has been deprecated. Use DataFrame.map instead.\n",
      "  df = df.applymap(lambda x: ''.join(c for c in str(x) if c.isalnum() or c == '.'))\n",
      "/tmp/ipykernel_213204/3639310771.py:48: FutureWarning: DataFrame.applymap has been deprecated. Use DataFrame.map instead.\n",
      "  df = df[df[columns_to_process].applymap(lambda x: pd.isna(x) or isinstance(x, (int, float))).all(axis=1)]\n",
      "/tmp/ipykernel_213204/3639310771.py:29: FutureWarning: DataFrame.applymap has been deprecated. Use DataFrame.map instead.\n",
      "  df = df.applymap(lambda x: ''.join(c for c in str(x) if c.isalnum() or c == '.'))\n",
      "/tmp/ipykernel_213204/3639310771.py:48: FutureWarning: DataFrame.applymap has been deprecated. Use DataFrame.map instead.\n",
      "  df = df[df[columns_to_process].applymap(lambda x: pd.isna(x) or isinstance(x, (int, float))).all(axis=1)]\n"
     ]
    },
    {
     "name": "stdout",
     "output_type": "stream",
     "text": [
      "240\n",
      "30\n"
     ]
    },
    {
     "name": "stderr",
     "output_type": "stream",
     "text": [
      "/tmp/ipykernel_213204/3639310771.py:29: FutureWarning: DataFrame.applymap has been deprecated. Use DataFrame.map instead.\n",
      "  df = df.applymap(lambda x: ''.join(c for c in str(x) if c.isalnum() or c == '.'))\n",
      "/tmp/ipykernel_213204/3639310771.py:48: FutureWarning: DataFrame.applymap has been deprecated. Use DataFrame.map instead.\n",
      "  df = df[df[columns_to_process].applymap(lambda x: pd.isna(x) or isinstance(x, (int, float))).all(axis=1)]\n"
     ]
    },
    {
     "name": "stdout",
     "output_type": "stream",
     "text": [
      "324\n"
     ]
    },
    {
     "name": "stderr",
     "output_type": "stream",
     "text": [
      "/tmp/ipykernel_213204/3639310771.py:29: FutureWarning: DataFrame.applymap has been deprecated. Use DataFrame.map instead.\n",
      "  df = df.applymap(lambda x: ''.join(c for c in str(x) if c.isalnum() or c == '.'))\n",
      "/tmp/ipykernel_213204/3639310771.py:48: FutureWarning: DataFrame.applymap has been deprecated. Use DataFrame.map instead.\n",
      "  df = df[df[columns_to_process].applymap(lambda x: pd.isna(x) or isinstance(x, (int, float))).all(axis=1)]\n"
     ]
    },
    {
     "name": "stdout",
     "output_type": "stream",
     "text": [
      "302\n"
     ]
    },
    {
     "name": "stderr",
     "output_type": "stream",
     "text": [
      "/tmp/ipykernel_213204/3639310771.py:29: FutureWarning: DataFrame.applymap has been deprecated. Use DataFrame.map instead.\n",
      "  df = df.applymap(lambda x: ''.join(c for c in str(x) if c.isalnum() or c == '.'))\n",
      "/tmp/ipykernel_213204/3639310771.py:48: FutureWarning: DataFrame.applymap has been deprecated. Use DataFrame.map instead.\n",
      "  df = df[df[columns_to_process].applymap(lambda x: pd.isna(x) or isinstance(x, (int, float))).all(axis=1)]\n"
     ]
    },
    {
     "name": "stdout",
     "output_type": "stream",
     "text": [
      "528\n"
     ]
    },
    {
     "name": "stderr",
     "output_type": "stream",
     "text": [
      "/tmp/ipykernel_213204/3639310771.py:29: FutureWarning: DataFrame.applymap has been deprecated. Use DataFrame.map instead.\n",
      "  df = df.applymap(lambda x: ''.join(c for c in str(x) if c.isalnum() or c == '.'))\n",
      "/tmp/ipykernel_213204/3639310771.py:48: FutureWarning: DataFrame.applymap has been deprecated. Use DataFrame.map instead.\n",
      "  df = df[df[columns_to_process].applymap(lambda x: pd.isna(x) or isinstance(x, (int, float))).all(axis=1)]\n",
      "/tmp/ipykernel_213204/3639310771.py:29: FutureWarning: DataFrame.applymap has been deprecated. Use DataFrame.map instead.\n",
      "  df = df.applymap(lambda x: ''.join(c for c in str(x) if c.isalnum() or c == '.'))\n"
     ]
    },
    {
     "name": "stdout",
     "output_type": "stream",
     "text": [
      "13\n",
      "300\n"
     ]
    },
    {
     "name": "stderr",
     "output_type": "stream",
     "text": [
      "/tmp/ipykernel_213204/3639310771.py:48: FutureWarning: DataFrame.applymap has been deprecated. Use DataFrame.map instead.\n",
      "  df = df[df[columns_to_process].applymap(lambda x: pd.isna(x) or isinstance(x, (int, float))).all(axis=1)]\n",
      "/tmp/ipykernel_213204/3639310771.py:29: FutureWarning: DataFrame.applymap has been deprecated. Use DataFrame.map instead.\n",
      "  df = df.applymap(lambda x: ''.join(c for c in str(x) if c.isalnum() or c == '.'))\n",
      "/tmp/ipykernel_213204/3639310771.py:48: FutureWarning: DataFrame.applymap has been deprecated. Use DataFrame.map instead.\n",
      "  df = df[df[columns_to_process].applymap(lambda x: pd.isna(x) or isinstance(x, (int, float))).all(axis=1)]\n"
     ]
    },
    {
     "name": "stdout",
     "output_type": "stream",
     "text": [
      "15\n",
      "315\n",
      "19\n"
     ]
    },
    {
     "name": "stderr",
     "output_type": "stream",
     "text": [
      "/tmp/ipykernel_213204/3639310771.py:29: FutureWarning: DataFrame.applymap has been deprecated. Use DataFrame.map instead.\n",
      "  df = df.applymap(lambda x: ''.join(c for c in str(x) if c.isalnum() or c == '.'))\n",
      "/tmp/ipykernel_213204/3639310771.py:48: FutureWarning: DataFrame.applymap has been deprecated. Use DataFrame.map instead.\n",
      "  df = df[df[columns_to_process].applymap(lambda x: pd.isna(x) or isinstance(x, (int, float))).all(axis=1)]\n",
      "/tmp/ipykernel_213204/3639310771.py:29: FutureWarning: DataFrame.applymap has been deprecated. Use DataFrame.map instead.\n",
      "  df = df.applymap(lambda x: ''.join(c for c in str(x) if c.isalnum() or c == '.'))\n",
      "/tmp/ipykernel_213204/3639310771.py:48: FutureWarning: DataFrame.applymap has been deprecated. Use DataFrame.map instead.\n",
      "  df = df[df[columns_to_process].applymap(lambda x: pd.isna(x) or isinstance(x, (int, float))).all(axis=1)]\n",
      "/tmp/ipykernel_213204/3639310771.py:29: FutureWarning: DataFrame.applymap has been deprecated. Use DataFrame.map instead.\n",
      "  df = df.applymap(lambda x: ''.join(c for c in str(x) if c.isalnum() or c == '.'))\n",
      "/tmp/ipykernel_213204/3639310771.py:48: FutureWarning: DataFrame.applymap has been deprecated. Use DataFrame.map instead.\n",
      "  df = df[df[columns_to_process].applymap(lambda x: pd.isna(x) or isinstance(x, (int, float))).all(axis=1)]\n"
     ]
    },
    {
     "name": "stdout",
     "output_type": "stream",
     "text": [
      "32\n"
     ]
    },
    {
     "name": "stderr",
     "output_type": "stream",
     "text": [
      "/tmp/ipykernel_213204/3639310771.py:29: FutureWarning: DataFrame.applymap has been deprecated. Use DataFrame.map instead.\n",
      "  df = df.applymap(lambda x: ''.join(c for c in str(x) if c.isalnum() or c == '.'))\n",
      "/tmp/ipykernel_213204/3639310771.py:48: FutureWarning: DataFrame.applymap has been deprecated. Use DataFrame.map instead.\n",
      "  df = df[df[columns_to_process].applymap(lambda x: pd.isna(x) or isinstance(x, (int, float))).all(axis=1)]\n",
      "/tmp/ipykernel_213204/3639310771.py:29: FutureWarning: DataFrame.applymap has been deprecated. Use DataFrame.map instead.\n",
      "  df = df.applymap(lambda x: ''.join(c for c in str(x) if c.isalnum() or c == '.'))\n"
     ]
    },
    {
     "name": "stdout",
     "output_type": "stream",
     "text": [
      "330\n",
      "285\n"
     ]
    },
    {
     "name": "stderr",
     "output_type": "stream",
     "text": [
      "/tmp/ipykernel_213204/3639310771.py:48: FutureWarning: DataFrame.applymap has been deprecated. Use DataFrame.map instead.\n",
      "  df = df[df[columns_to_process].applymap(lambda x: pd.isna(x) or isinstance(x, (int, float))).all(axis=1)]\n",
      "/tmp/ipykernel_213204/3639310771.py:29: FutureWarning: DataFrame.applymap has been deprecated. Use DataFrame.map instead.\n",
      "  df = df.applymap(lambda x: ''.join(c for c in str(x) if c.isalnum() or c == '.'))\n",
      "/tmp/ipykernel_213204/3639310771.py:48: FutureWarning: DataFrame.applymap has been deprecated. Use DataFrame.map instead.\n",
      "  df = df[df[columns_to_process].applymap(lambda x: pd.isna(x) or isinstance(x, (int, float))).all(axis=1)]\n"
     ]
    },
    {
     "name": "stdout",
     "output_type": "stream",
     "text": [
      "302\n"
     ]
    },
    {
     "name": "stderr",
     "output_type": "stream",
     "text": [
      "/tmp/ipykernel_213204/3639310771.py:29: FutureWarning: DataFrame.applymap has been deprecated. Use DataFrame.map instead.\n",
      "  df = df.applymap(lambda x: ''.join(c for c in str(x) if c.isalnum() or c == '.'))\n",
      "/tmp/ipykernel_213204/3639310771.py:48: FutureWarning: DataFrame.applymap has been deprecated. Use DataFrame.map instead.\n",
      "  df = df[df[columns_to_process].applymap(lambda x: pd.isna(x) or isinstance(x, (int, float))).all(axis=1)]\n",
      "/tmp/ipykernel_213204/3639310771.py:29: FutureWarning: DataFrame.applymap has been deprecated. Use DataFrame.map instead.\n",
      "  df = df.applymap(lambda x: ''.join(c for c in str(x) if c.isalnum() or c == '.'))\n",
      "/tmp/ipykernel_213204/3639310771.py:48: FutureWarning: DataFrame.applymap has been deprecated. Use DataFrame.map instead.\n",
      "  df = df[df[columns_to_process].applymap(lambda x: pd.isna(x) or isinstance(x, (int, float))).all(axis=1)]\n"
     ]
    },
    {
     "name": "stdout",
     "output_type": "stream",
     "text": [
      "303\n",
      "44\n"
     ]
    },
    {
     "name": "stderr",
     "output_type": "stream",
     "text": [
      "/tmp/ipykernel_213204/3639310771.py:29: FutureWarning: DataFrame.applymap has been deprecated. Use DataFrame.map instead.\n",
      "  df = df.applymap(lambda x: ''.join(c for c in str(x) if c.isalnum() or c == '.'))\n",
      "/tmp/ipykernel_213204/3639310771.py:48: FutureWarning: DataFrame.applymap has been deprecated. Use DataFrame.map instead.\n",
      "  df = df[df[columns_to_process].applymap(lambda x: pd.isna(x) or isinstance(x, (int, float))).all(axis=1)]\n",
      "/tmp/ipykernel_213204/3639310771.py:29: FutureWarning: DataFrame.applymap has been deprecated. Use DataFrame.map instead.\n",
      "  df = df.applymap(lambda x: ''.join(c for c in str(x) if c.isalnum() or c == '.'))\n",
      "/tmp/ipykernel_213204/3639310771.py:48: FutureWarning: DataFrame.applymap has been deprecated. Use DataFrame.map instead.\n",
      "  df = df[df[columns_to_process].applymap(lambda x: pd.isna(x) or isinstance(x, (int, float))).all(axis=1)]\n"
     ]
    },
    {
     "name": "stdout",
     "output_type": "stream",
     "text": [
      "0\n",
      "1\n",
      "2\n"
     ]
    },
    {
     "name": "stderr",
     "output_type": "stream",
     "text": [
      "/tmp/ipykernel_213204/3639310771.py:29: FutureWarning: DataFrame.applymap has been deprecated. Use DataFrame.map instead.\n",
      "  df = df.applymap(lambda x: ''.join(c for c in str(x) if c.isalnum() or c == '.'))\n",
      "/tmp/ipykernel_213204/3639310771.py:48: FutureWarning: DataFrame.applymap has been deprecated. Use DataFrame.map instead.\n",
      "  df = df[df[columns_to_process].applymap(lambda x: pd.isna(x) or isinstance(x, (int, float))).all(axis=1)]\n",
      "/tmp/ipykernel_213204/3639310771.py:29: FutureWarning: DataFrame.applymap has been deprecated. Use DataFrame.map instead.\n",
      "  df = df.applymap(lambda x: ''.join(c for c in str(x) if c.isalnum() or c == '.'))\n",
      "/tmp/ipykernel_213204/3639310771.py:48: FutureWarning: DataFrame.applymap has been deprecated. Use DataFrame.map instead.\n",
      "  df = df[df[columns_to_process].applymap(lambda x: pd.isna(x) or isinstance(x, (int, float))).all(axis=1)]\n",
      "/tmp/ipykernel_213204/3639310771.py:29: FutureWarning: DataFrame.applymap has been deprecated. Use DataFrame.map instead.\n",
      "  df = df.applymap(lambda x: ''.join(c for c in str(x) if c.isalnum() or c == '.'))\n",
      "/tmp/ipykernel_213204/3639310771.py:32: FutureWarning: Downcasting behavior in `replace` is deprecated and will be removed in a future version. To retain the old behavior, explicitly call `result.infer_objects(copy=False)`. To opt-in to the future behavior, set `pd.set_option('future.no_silent_downcasting', True)`\n",
      "  df.replace(to_replace='^nan$', value=np.nan, regex=True, inplace=True)\n",
      "/tmp/ipykernel_213204/3639310771.py:48: FutureWarning: DataFrame.applymap has been deprecated. Use DataFrame.map instead.\n",
      "  df = df[df[columns_to_process].applymap(lambda x: pd.isna(x) or isinstance(x, (int, float))).all(axis=1)]\n"
     ]
    },
    {
     "name": "stdout",
     "output_type": "stream",
     "text": [
      "3\n",
      "303\n"
     ]
    },
    {
     "name": "stderr",
     "output_type": "stream",
     "text": [
      "/tmp/ipykernel_213204/3639310771.py:29: FutureWarning: DataFrame.applymap has been deprecated. Use DataFrame.map instead.\n",
      "  df = df.applymap(lambda x: ''.join(c for c in str(x) if c.isalnum() or c == '.'))\n",
      "/tmp/ipykernel_213204/3639310771.py:48: FutureWarning: DataFrame.applymap has been deprecated. Use DataFrame.map instead.\n",
      "  df = df[df[columns_to_process].applymap(lambda x: pd.isna(x) or isinstance(x, (int, float))).all(axis=1)]\n",
      "/tmp/ipykernel_213204/3639310771.py:29: FutureWarning: DataFrame.applymap has been deprecated. Use DataFrame.map instead.\n",
      "  df = df.applymap(lambda x: ''.join(c for c in str(x) if c.isalnum() or c == '.'))\n"
     ]
    },
    {
     "name": "stdout",
     "output_type": "stream",
     "text": [
      "10\n"
     ]
    },
    {
     "name": "stderr",
     "output_type": "stream",
     "text": [
      "/tmp/ipykernel_213204/3639310771.py:48: FutureWarning: DataFrame.applymap has been deprecated. Use DataFrame.map instead.\n",
      "  df = df[df[columns_to_process].applymap(lambda x: pd.isna(x) or isinstance(x, (int, float))).all(axis=1)]\n",
      "/tmp/ipykernel_213204/3639310771.py:29: FutureWarning: DataFrame.applymap has been deprecated. Use DataFrame.map instead.\n",
      "  df = df.applymap(lambda x: ''.join(c for c in str(x) if c.isalnum() or c == '.'))\n",
      "/tmp/ipykernel_213204/3639310771.py:48: FutureWarning: DataFrame.applymap has been deprecated. Use DataFrame.map instead.\n",
      "  df = df[df[columns_to_process].applymap(lambda x: pd.isna(x) or isinstance(x, (int, float))).all(axis=1)]\n"
     ]
    },
    {
     "name": "stdout",
     "output_type": "stream",
     "text": [
      "436\n",
      "304\n"
     ]
    },
    {
     "name": "stderr",
     "output_type": "stream",
     "text": [
      "/tmp/ipykernel_213204/3639310771.py:29: FutureWarning: DataFrame.applymap has been deprecated. Use DataFrame.map instead.\n",
      "  df = df.applymap(lambda x: ''.join(c for c in str(x) if c.isalnum() or c == '.'))\n",
      "/tmp/ipykernel_213204/3639310771.py:48: FutureWarning: DataFrame.applymap has been deprecated. Use DataFrame.map instead.\n",
      "  df = df[df[columns_to_process].applymap(lambda x: pd.isna(x) or isinstance(x, (int, float))).all(axis=1)]\n",
      "/tmp/ipykernel_213204/3639310771.py:29: FutureWarning: DataFrame.applymap has been deprecated. Use DataFrame.map instead.\n",
      "  df = df.applymap(lambda x: ''.join(c for c in str(x) if c.isalnum() or c == '.'))\n"
     ]
    },
    {
     "name": "stdout",
     "output_type": "stream",
     "text": [
      "23\n"
     ]
    },
    {
     "name": "stderr",
     "output_type": "stream",
     "text": [
      "/tmp/ipykernel_213204/3639310771.py:48: FutureWarning: DataFrame.applymap has been deprecated. Use DataFrame.map instead.\n",
      "  df = df[df[columns_to_process].applymap(lambda x: pd.isna(x) or isinstance(x, (int, float))).all(axis=1)]\n",
      "/tmp/ipykernel_213204/3639310771.py:29: FutureWarning: DataFrame.applymap has been deprecated. Use DataFrame.map instead.\n",
      "  df = df.applymap(lambda x: ''.join(c for c in str(x) if c.isalnum() or c == '.'))\n"
     ]
    },
    {
     "name": "stdout",
     "output_type": "stream",
     "text": [
      "0\n"
     ]
    },
    {
     "name": "stderr",
     "output_type": "stream",
     "text": [
      "/tmp/ipykernel_213204/3639310771.py:48: FutureWarning: DataFrame.applymap has been deprecated. Use DataFrame.map instead.\n",
      "  df = df[df[columns_to_process].applymap(lambda x: pd.isna(x) or isinstance(x, (int, float))).all(axis=1)]\n",
      "/tmp/ipykernel_213204/3639310771.py:29: FutureWarning: DataFrame.applymap has been deprecated. Use DataFrame.map instead.\n",
      "  df = df.applymap(lambda x: ''.join(c for c in str(x) if c.isalnum() or c == '.'))\n",
      "/tmp/ipykernel_213204/3639310771.py:48: FutureWarning: DataFrame.applymap has been deprecated. Use DataFrame.map instead.\n",
      "  df = df[df[columns_to_process].applymap(lambda x: pd.isna(x) or isinstance(x, (int, float))).all(axis=1)]\n"
     ]
    },
    {
     "name": "stdout",
     "output_type": "stream",
     "text": [
      "372\n",
      "2\n"
     ]
    },
    {
     "name": "stderr",
     "output_type": "stream",
     "text": [
      "/tmp/ipykernel_213204/3639310771.py:29: FutureWarning: DataFrame.applymap has been deprecated. Use DataFrame.map instead.\n",
      "  df = df.applymap(lambda x: ''.join(c for c in str(x) if c.isalnum() or c == '.'))\n",
      "/tmp/ipykernel_213204/3639310771.py:48: FutureWarning: DataFrame.applymap has been deprecated. Use DataFrame.map instead.\n",
      "  df = df[df[columns_to_process].applymap(lambda x: pd.isna(x) or isinstance(x, (int, float))).all(axis=1)]\n",
      "/tmp/ipykernel_213204/3639310771.py:29: FutureWarning: DataFrame.applymap has been deprecated. Use DataFrame.map instead.\n",
      "  df = df.applymap(lambda x: ''.join(c for c in str(x) if c.isalnum() or c == '.'))\n",
      "/tmp/ipykernel_213204/3639310771.py:32: FutureWarning: Downcasting behavior in `replace` is deprecated and will be removed in a future version. To retain the old behavior, explicitly call `result.infer_objects(copy=False)`. To opt-in to the future behavior, set `pd.set_option('future.no_silent_downcasting', True)`\n",
      "  df.replace(to_replace='^nan$', value=np.nan, regex=True, inplace=True)\n",
      "/tmp/ipykernel_213204/3639310771.py:48: FutureWarning: DataFrame.applymap has been deprecated. Use DataFrame.map instead.\n",
      "  df = df[df[columns_to_process].applymap(lambda x: pd.isna(x) or isinstance(x, (int, float))).all(axis=1)]\n",
      "/tmp/ipykernel_213204/3639310771.py:29: FutureWarning: DataFrame.applymap has been deprecated. Use DataFrame.map instead.\n",
      "  df = df.applymap(lambda x: ''.join(c for c in str(x) if c.isalnum() or c == '.'))\n",
      "/tmp/ipykernel_213204/3639310771.py:48: FutureWarning: DataFrame.applymap has been deprecated. Use DataFrame.map instead.\n",
      "  df = df[df[columns_to_process].applymap(lambda x: pd.isna(x) or isinstance(x, (int, float))).all(axis=1)]\n"
     ]
    },
    {
     "name": "stdout",
     "output_type": "stream",
     "text": [
      "1\n",
      "23\n",
      "1\n"
     ]
    },
    {
     "name": "stderr",
     "output_type": "stream",
     "text": [
      "/tmp/ipykernel_213204/3639310771.py:29: FutureWarning: DataFrame.applymap has been deprecated. Use DataFrame.map instead.\n",
      "  df = df.applymap(lambda x: ''.join(c for c in str(x) if c.isalnum() or c == '.'))\n",
      "/tmp/ipykernel_213204/3639310771.py:48: FutureWarning: DataFrame.applymap has been deprecated. Use DataFrame.map instead.\n",
      "  df = df[df[columns_to_process].applymap(lambda x: pd.isna(x) or isinstance(x, (int, float))).all(axis=1)]\n",
      "/tmp/ipykernel_213204/3639310771.py:29: FutureWarning: DataFrame.applymap has been deprecated. Use DataFrame.map instead.\n",
      "  df = df.applymap(lambda x: ''.join(c for c in str(x) if c.isalnum() or c == '.'))\n"
     ]
    },
    {
     "name": "stdout",
     "output_type": "stream",
     "text": [
      "3\n"
     ]
    },
    {
     "name": "stderr",
     "output_type": "stream",
     "text": [
      "/tmp/ipykernel_213204/3639310771.py:48: FutureWarning: DataFrame.applymap has been deprecated. Use DataFrame.map instead.\n",
      "  df = df[df[columns_to_process].applymap(lambda x: pd.isna(x) or isinstance(x, (int, float))).all(axis=1)]\n",
      "/tmp/ipykernel_213204/3639310771.py:29: FutureWarning: DataFrame.applymap has been deprecated. Use DataFrame.map instead.\n",
      "  df = df.applymap(lambda x: ''.join(c for c in str(x) if c.isalnum() or c == '.'))\n",
      "/tmp/ipykernel_213204/3639310771.py:48: FutureWarning: DataFrame.applymap has been deprecated. Use DataFrame.map instead.\n",
      "  df = df[df[columns_to_process].applymap(lambda x: pd.isna(x) or isinstance(x, (int, float))).all(axis=1)]\n"
     ]
    },
    {
     "name": "stdout",
     "output_type": "stream",
     "text": [
      "18\n",
      "288\n"
     ]
    },
    {
     "name": "stderr",
     "output_type": "stream",
     "text": [
      "/tmp/ipykernel_213204/3639310771.py:29: FutureWarning: DataFrame.applymap has been deprecated. Use DataFrame.map instead.\n",
      "  df = df.applymap(lambda x: ''.join(c for c in str(x) if c.isalnum() or c == '.'))\n",
      "/tmp/ipykernel_213204/3639310771.py:48: FutureWarning: DataFrame.applymap has been deprecated. Use DataFrame.map instead.\n",
      "  df = df[df[columns_to_process].applymap(lambda x: pd.isna(x) or isinstance(x, (int, float))).all(axis=1)]\n"
     ]
    },
    {
     "name": "stdout",
     "output_type": "stream",
     "text": [
      "270\n"
     ]
    },
    {
     "name": "stderr",
     "output_type": "stream",
     "text": [
      "/tmp/ipykernel_213204/3639310771.py:29: FutureWarning: DataFrame.applymap has been deprecated. Use DataFrame.map instead.\n",
      "  df = df.applymap(lambda x: ''.join(c for c in str(x) if c.isalnum() or c == '.'))\n",
      "/tmp/ipykernel_213204/3639310771.py:48: FutureWarning: DataFrame.applymap has been deprecated. Use DataFrame.map instead.\n",
      "  df = df[df[columns_to_process].applymap(lambda x: pd.isna(x) or isinstance(x, (int, float))).all(axis=1)]\n",
      "/tmp/ipykernel_213204/3639310771.py:29: FutureWarning: DataFrame.applymap has been deprecated. Use DataFrame.map instead.\n",
      "  df = df.applymap(lambda x: ''.join(c for c in str(x) if c.isalnum() or c == '.'))\n"
     ]
    },
    {
     "name": "stdout",
     "output_type": "stream",
     "text": [
      "5\n",
      "49\n"
     ]
    },
    {
     "name": "stderr",
     "output_type": "stream",
     "text": [
      "/tmp/ipykernel_213204/3639310771.py:48: FutureWarning: DataFrame.applymap has been deprecated. Use DataFrame.map instead.\n",
      "  df = df[df[columns_to_process].applymap(lambda x: pd.isna(x) or isinstance(x, (int, float))).all(axis=1)]\n",
      "/tmp/ipykernel_213204/3639310771.py:29: FutureWarning: DataFrame.applymap has been deprecated. Use DataFrame.map instead.\n",
      "  df = df.applymap(lambda x: ''.join(c for c in str(x) if c.isalnum() or c == '.'))\n",
      "/tmp/ipykernel_213204/3639310771.py:48: FutureWarning: DataFrame.applymap has been deprecated. Use DataFrame.map instead.\n",
      "  df = df[df[columns_to_process].applymap(lambda x: pd.isna(x) or isinstance(x, (int, float))).all(axis=1)]\n"
     ]
    },
    {
     "name": "stdout",
     "output_type": "stream",
     "text": [
      "303\n"
     ]
    },
    {
     "name": "stderr",
     "output_type": "stream",
     "text": [
      "/tmp/ipykernel_213204/3639310771.py:29: FutureWarning: DataFrame.applymap has been deprecated. Use DataFrame.map instead.\n",
      "  df = df.applymap(lambda x: ''.join(c for c in str(x) if c.isalnum() or c == '.'))\n",
      "/tmp/ipykernel_213204/3639310771.py:48: FutureWarning: DataFrame.applymap has been deprecated. Use DataFrame.map instead.\n",
      "  df = df[df[columns_to_process].applymap(lambda x: pd.isna(x) or isinstance(x, (int, float))).all(axis=1)]\n"
     ]
    },
    {
     "name": "stdout",
     "output_type": "stream",
     "text": [
      "0\n"
     ]
    },
    {
     "name": "stderr",
     "output_type": "stream",
     "text": [
      "/tmp/ipykernel_213204/3639310771.py:29: FutureWarning: DataFrame.applymap has been deprecated. Use DataFrame.map instead.\n",
      "  df = df.applymap(lambda x: ''.join(c for c in str(x) if c.isalnum() or c == '.'))\n",
      "/tmp/ipykernel_213204/3639310771.py:48: FutureWarning: DataFrame.applymap has been deprecated. Use DataFrame.map instead.\n",
      "  df = df[df[columns_to_process].applymap(lambda x: pd.isna(x) or isinstance(x, (int, float))).all(axis=1)]\n",
      "/tmp/ipykernel_213204/3639310771.py:29: FutureWarning: DataFrame.applymap has been deprecated. Use DataFrame.map instead.\n",
      "  df = df.applymap(lambda x: ''.join(c for c in str(x) if c.isalnum() or c == '.'))\n"
     ]
    },
    {
     "name": "stdout",
     "output_type": "stream",
     "text": [
      "298\n",
      "364\n"
     ]
    },
    {
     "name": "stderr",
     "output_type": "stream",
     "text": [
      "/tmp/ipykernel_213204/3639310771.py:48: FutureWarning: DataFrame.applymap has been deprecated. Use DataFrame.map instead.\n",
      "  df = df[df[columns_to_process].applymap(lambda x: pd.isna(x) or isinstance(x, (int, float))).all(axis=1)]\n",
      "/tmp/ipykernel_213204/3639310771.py:29: FutureWarning: DataFrame.applymap has been deprecated. Use DataFrame.map instead.\n",
      "  df = df.applymap(lambda x: ''.join(c for c in str(x) if c.isalnum() or c == '.'))\n",
      "/tmp/ipykernel_213204/3639310771.py:48: FutureWarning: DataFrame.applymap has been deprecated. Use DataFrame.map instead.\n",
      "  df = df[df[columns_to_process].applymap(lambda x: pd.isna(x) or isinstance(x, (int, float))).all(axis=1)]\n"
     ]
    },
    {
     "name": "stdout",
     "output_type": "stream",
     "text": [
      "331\n"
     ]
    },
    {
     "name": "stderr",
     "output_type": "stream",
     "text": [
      "/tmp/ipykernel_213204/3639310771.py:29: FutureWarning: DataFrame.applymap has been deprecated. Use DataFrame.map instead.\n",
      "  df = df.applymap(lambda x: ''.join(c for c in str(x) if c.isalnum() or c == '.'))\n",
      "/tmp/ipykernel_213204/3639310771.py:48: FutureWarning: DataFrame.applymap has been deprecated. Use DataFrame.map instead.\n",
      "  df = df[df[columns_to_process].applymap(lambda x: pd.isna(x) or isinstance(x, (int, float))).all(axis=1)]\n",
      "/tmp/ipykernel_213204/3639310771.py:29: FutureWarning: DataFrame.applymap has been deprecated. Use DataFrame.map instead.\n",
      "  df = df.applymap(lambda x: ''.join(c for c in str(x) if c.isalnum() or c == '.'))\n",
      "/tmp/ipykernel_213204/3639310771.py:48: FutureWarning: DataFrame.applymap has been deprecated. Use DataFrame.map instead.\n",
      "  df = df[df[columns_to_process].applymap(lambda x: pd.isna(x) or isinstance(x, (int, float))).all(axis=1)]\n"
     ]
    },
    {
     "name": "stdout",
     "output_type": "stream",
     "text": [
      "1\n",
      "12\n"
     ]
    },
    {
     "name": "stderr",
     "output_type": "stream",
     "text": [
      "/tmp/ipykernel_213204/3639310771.py:29: FutureWarning: DataFrame.applymap has been deprecated. Use DataFrame.map instead.\n",
      "  df = df.applymap(lambda x: ''.join(c for c in str(x) if c.isalnum() or c == '.'))\n",
      "/tmp/ipykernel_213204/3639310771.py:48: FutureWarning: DataFrame.applymap has been deprecated. Use DataFrame.map instead.\n",
      "  df = df[df[columns_to_process].applymap(lambda x: pd.isna(x) or isinstance(x, (int, float))).all(axis=1)]\n",
      "/tmp/ipykernel_213204/3639310771.py:29: FutureWarning: DataFrame.applymap has been deprecated. Use DataFrame.map instead.\n",
      "  df = df.applymap(lambda x: ''.join(c for c in str(x) if c.isalnum() or c == '.'))\n"
     ]
    },
    {
     "name": "stdout",
     "output_type": "stream",
     "text": [
      "1\n"
     ]
    },
    {
     "name": "stderr",
     "output_type": "stream",
     "text": [
      "/tmp/ipykernel_213204/3639310771.py:48: FutureWarning: DataFrame.applymap has been deprecated. Use DataFrame.map instead.\n",
      "  df = df[df[columns_to_process].applymap(lambda x: pd.isna(x) or isinstance(x, (int, float))).all(axis=1)]\n",
      "/tmp/ipykernel_213204/3639310771.py:29: FutureWarning: DataFrame.applymap has been deprecated. Use DataFrame.map instead.\n",
      "  df = df.applymap(lambda x: ''.join(c for c in str(x) if c.isalnum() or c == '.'))\n"
     ]
    },
    {
     "name": "stdout",
     "output_type": "stream",
     "text": [
      "308\n"
     ]
    },
    {
     "name": "stderr",
     "output_type": "stream",
     "text": [
      "/tmp/ipykernel_213204/3639310771.py:48: FutureWarning: DataFrame.applymap has been deprecated. Use DataFrame.map instead.\n",
      "  df = df[df[columns_to_process].applymap(lambda x: pd.isna(x) or isinstance(x, (int, float))).all(axis=1)]\n",
      "/tmp/ipykernel_213204/3639310771.py:29: FutureWarning: DataFrame.applymap has been deprecated. Use DataFrame.map instead.\n",
      "  df = df.applymap(lambda x: ''.join(c for c in str(x) if c.isalnum() or c == '.'))\n",
      "/tmp/ipykernel_213204/3639310771.py:48: FutureWarning: DataFrame.applymap has been deprecated. Use DataFrame.map instead.\n",
      "  df = df[df[columns_to_process].applymap(lambda x: pd.isna(x) or isinstance(x, (int, float))).all(axis=1)]\n"
     ]
    },
    {
     "name": "stdout",
     "output_type": "stream",
     "text": [
      "17\n",
      "289\n"
     ]
    },
    {
     "name": "stderr",
     "output_type": "stream",
     "text": [
      "/tmp/ipykernel_213204/3639310771.py:29: FutureWarning: DataFrame.applymap has been deprecated. Use DataFrame.map instead.\n",
      "  df = df.applymap(lambda x: ''.join(c for c in str(x) if c.isalnum() or c == '.'))\n",
      "/tmp/ipykernel_213204/3639310771.py:48: FutureWarning: DataFrame.applymap has been deprecated. Use DataFrame.map instead.\n",
      "  df = df[df[columns_to_process].applymap(lambda x: pd.isna(x) or isinstance(x, (int, float))).all(axis=1)]\n",
      "/tmp/ipykernel_213204/3639310771.py:29: FutureWarning: DataFrame.applymap has been deprecated. Use DataFrame.map instead.\n",
      "  df = df.applymap(lambda x: ''.join(c for c in str(x) if c.isalnum() or c == '.'))\n",
      "/tmp/ipykernel_213204/3639310771.py:48: FutureWarning: DataFrame.applymap has been deprecated. Use DataFrame.map instead.\n",
      "  df = df[df[columns_to_process].applymap(lambda x: pd.isna(x) or isinstance(x, (int, float))).all(axis=1)]\n",
      "/tmp/ipykernel_213204/3639310771.py:29: FutureWarning: DataFrame.applymap has been deprecated. Use DataFrame.map instead.\n",
      "  df = df.applymap(lambda x: ''.join(c for c in str(x) if c.isalnum() or c == '.'))\n"
     ]
    },
    {
     "name": "stdout",
     "output_type": "stream",
     "text": [
      "306\n",
      "21\n"
     ]
    },
    {
     "name": "stderr",
     "output_type": "stream",
     "text": [
      "/tmp/ipykernel_213204/3639310771.py:32: FutureWarning: Downcasting behavior in `replace` is deprecated and will be removed in a future version. To retain the old behavior, explicitly call `result.infer_objects(copy=False)`. To opt-in to the future behavior, set `pd.set_option('future.no_silent_downcasting', True)`\n",
      "  df.replace(to_replace='^nan$', value=np.nan, regex=True, inplace=True)\n",
      "/tmp/ipykernel_213204/3639310771.py:48: FutureWarning: DataFrame.applymap has been deprecated. Use DataFrame.map instead.\n",
      "  df = df[df[columns_to_process].applymap(lambda x: pd.isna(x) or isinstance(x, (int, float))).all(axis=1)]\n"
     ]
    },
    {
     "name": "stdout",
     "output_type": "stream",
     "text": [
      "304\n"
     ]
    },
    {
     "name": "stderr",
     "output_type": "stream",
     "text": [
      "/tmp/ipykernel_213204/3639310771.py:29: FutureWarning: DataFrame.applymap has been deprecated. Use DataFrame.map instead.\n",
      "  df = df.applymap(lambda x: ''.join(c for c in str(x) if c.isalnum() or c == '.'))\n",
      "/tmp/ipykernel_213204/3639310771.py:48: FutureWarning: DataFrame.applymap has been deprecated. Use DataFrame.map instead.\n",
      "  df = df[df[columns_to_process].applymap(lambda x: pd.isna(x) or isinstance(x, (int, float))).all(axis=1)]\n",
      "/tmp/ipykernel_213204/3639310771.py:29: FutureWarning: DataFrame.applymap has been deprecated. Use DataFrame.map instead.\n",
      "  df = df.applymap(lambda x: ''.join(c for c in str(x) if c.isalnum() or c == '.'))\n",
      "/tmp/ipykernel_213204/3639310771.py:48: FutureWarning: DataFrame.applymap has been deprecated. Use DataFrame.map instead.\n",
      "  df = df[df[columns_to_process].applymap(lambda x: pd.isna(x) or isinstance(x, (int, float))).all(axis=1)]\n"
     ]
    },
    {
     "name": "stdout",
     "output_type": "stream",
     "text": [
      "1\n",
      "302\n"
     ]
    },
    {
     "name": "stderr",
     "output_type": "stream",
     "text": [
      "/tmp/ipykernel_213204/3639310771.py:29: FutureWarning: DataFrame.applymap has been deprecated. Use DataFrame.map instead.\n",
      "  df = df.applymap(lambda x: ''.join(c for c in str(x) if c.isalnum() or c == '.'))\n",
      "/tmp/ipykernel_213204/3639310771.py:48: FutureWarning: DataFrame.applymap has been deprecated. Use DataFrame.map instead.\n",
      "  df = df[df[columns_to_process].applymap(lambda x: pd.isna(x) or isinstance(x, (int, float))).all(axis=1)]\n"
     ]
    },
    {
     "name": "stdout",
     "output_type": "stream",
     "text": [
      "2\n"
     ]
    },
    {
     "name": "stderr",
     "output_type": "stream",
     "text": [
      "/tmp/ipykernel_213204/3639310771.py:29: FutureWarning: DataFrame.applymap has been deprecated. Use DataFrame.map instead.\n",
      "  df = df.applymap(lambda x: ''.join(c for c in str(x) if c.isalnum() or c == '.'))\n",
      "/tmp/ipykernel_213204/3639310771.py:48: FutureWarning: DataFrame.applymap has been deprecated. Use DataFrame.map instead.\n",
      "  df = df[df[columns_to_process].applymap(lambda x: pd.isna(x) or isinstance(x, (int, float))).all(axis=1)]\n"
     ]
    },
    {
     "name": "stdout",
     "output_type": "stream",
     "text": [
      "3\n"
     ]
    },
    {
     "name": "stderr",
     "output_type": "stream",
     "text": [
      "/tmp/ipykernel_213204/3639310771.py:29: FutureWarning: DataFrame.applymap has been deprecated. Use DataFrame.map instead.\n",
      "  df = df.applymap(lambda x: ''.join(c for c in str(x) if c.isalnum() or c == '.'))\n",
      "/tmp/ipykernel_213204/3639310771.py:48: FutureWarning: DataFrame.applymap has been deprecated. Use DataFrame.map instead.\n",
      "  df = df[df[columns_to_process].applymap(lambda x: pd.isna(x) or isinstance(x, (int, float))).all(axis=1)]\n",
      "/tmp/ipykernel_213204/3639310771.py:29: FutureWarning: DataFrame.applymap has been deprecated. Use DataFrame.map instead.\n",
      "  df = df.applymap(lambda x: ''.join(c for c in str(x) if c.isalnum() or c == '.'))\n"
     ]
    },
    {
     "name": "stdout",
     "output_type": "stream",
     "text": [
      "400\n",
      "333\n"
     ]
    },
    {
     "name": "stderr",
     "output_type": "stream",
     "text": [
      "/tmp/ipykernel_213204/3639310771.py:48: FutureWarning: DataFrame.applymap has been deprecated. Use DataFrame.map instead.\n",
      "  df = df[df[columns_to_process].applymap(lambda x: pd.isna(x) or isinstance(x, (int, float))).all(axis=1)]\n",
      "/tmp/ipykernel_213204/3639310771.py:29: FutureWarning: DataFrame.applymap has been deprecated. Use DataFrame.map instead.\n",
      "  df = df.applymap(lambda x: ''.join(c for c in str(x) if c.isalnum() or c == '.'))\n",
      "/tmp/ipykernel_213204/3639310771.py:48: FutureWarning: DataFrame.applymap has been deprecated. Use DataFrame.map instead.\n",
      "  df = df[df[columns_to_process].applymap(lambda x: pd.isna(x) or isinstance(x, (int, float))).all(axis=1)]\n"
     ]
    },
    {
     "name": "stdout",
     "output_type": "stream",
     "text": [
      "24\n"
     ]
    },
    {
     "name": "stderr",
     "output_type": "stream",
     "text": [
      "/tmp/ipykernel_213204/3639310771.py:29: FutureWarning: DataFrame.applymap has been deprecated. Use DataFrame.map instead.\n",
      "  df = df.applymap(lambda x: ''.join(c for c in str(x) if c.isalnum() or c == '.'))\n",
      "/tmp/ipykernel_213204/3639310771.py:48: FutureWarning: DataFrame.applymap has been deprecated. Use DataFrame.map instead.\n",
      "  df = df[df[columns_to_process].applymap(lambda x: pd.isna(x) or isinstance(x, (int, float))).all(axis=1)]\n",
      "/tmp/ipykernel_213204/3639310771.py:29: FutureWarning: DataFrame.applymap has been deprecated. Use DataFrame.map instead.\n",
      "  df = df.applymap(lambda x: ''.join(c for c in str(x) if c.isalnum() or c == '.'))\n"
     ]
    },
    {
     "name": "stdout",
     "output_type": "stream",
     "text": [
      "0\n",
      "373\n"
     ]
    },
    {
     "name": "stderr",
     "output_type": "stream",
     "text": [
      "/tmp/ipykernel_213204/3639310771.py:48: FutureWarning: DataFrame.applymap has been deprecated. Use DataFrame.map instead.\n",
      "  df = df[df[columns_to_process].applymap(lambda x: pd.isna(x) or isinstance(x, (int, float))).all(axis=1)]\n",
      "/tmp/ipykernel_213204/3639310771.py:29: FutureWarning: DataFrame.applymap has been deprecated. Use DataFrame.map instead.\n",
      "  df = df.applymap(lambda x: ''.join(c for c in str(x) if c.isalnum() or c == '.'))\n",
      "/tmp/ipykernel_213204/3639310771.py:48: FutureWarning: DataFrame.applymap has been deprecated. Use DataFrame.map instead.\n",
      "  df = df[df[columns_to_process].applymap(lambda x: pd.isna(x) or isinstance(x, (int, float))).all(axis=1)]\n"
     ]
    },
    {
     "name": "stdout",
     "output_type": "stream",
     "text": [
      "0\n",
      "421\n"
     ]
    },
    {
     "name": "stderr",
     "output_type": "stream",
     "text": [
      "/tmp/ipykernel_213204/3639310771.py:29: FutureWarning: DataFrame.applymap has been deprecated. Use DataFrame.map instead.\n",
      "  df = df.applymap(lambda x: ''.join(c for c in str(x) if c.isalnum() or c == '.'))\n",
      "/tmp/ipykernel_213204/3639310771.py:48: FutureWarning: DataFrame.applymap has been deprecated. Use DataFrame.map instead.\n",
      "  df = df[df[columns_to_process].applymap(lambda x: pd.isna(x) or isinstance(x, (int, float))).all(axis=1)]\n",
      "/tmp/ipykernel_213204/3639310771.py:29: FutureWarning: DataFrame.applymap has been deprecated. Use DataFrame.map instead.\n",
      "  df = df.applymap(lambda x: ''.join(c for c in str(x) if c.isalnum() or c == '.'))\n",
      "/tmp/ipykernel_213204/3639310771.py:48: FutureWarning: DataFrame.applymap has been deprecated. Use DataFrame.map instead.\n",
      "  df = df[df[columns_to_process].applymap(lambda x: pd.isna(x) or isinstance(x, (int, float))).all(axis=1)]\n"
     ]
    },
    {
     "name": "stdout",
     "output_type": "stream",
     "text": [
      "3\n"
     ]
    },
    {
     "name": "stderr",
     "output_type": "stream",
     "text": [
      "/tmp/ipykernel_213204/3639310771.py:29: FutureWarning: DataFrame.applymap has been deprecated. Use DataFrame.map instead.\n",
      "  df = df.applymap(lambda x: ''.join(c for c in str(x) if c.isalnum() or c == '.'))\n",
      "/tmp/ipykernel_213204/3639310771.py:48: FutureWarning: DataFrame.applymap has been deprecated. Use DataFrame.map instead.\n",
      "  df = df[df[columns_to_process].applymap(lambda x: pd.isna(x) or isinstance(x, (int, float))).all(axis=1)]\n",
      "/tmp/ipykernel_213204/3639310771.py:29: FutureWarning: DataFrame.applymap has been deprecated. Use DataFrame.map instead.\n",
      "  df = df.applymap(lambda x: ''.join(c for c in str(x) if c.isalnum() or c == '.'))\n",
      "/tmp/ipykernel_213204/3639310771.py:48: FutureWarning: DataFrame.applymap has been deprecated. Use DataFrame.map instead.\n",
      "  df = df[df[columns_to_process].applymap(lambda x: pd.isna(x) or isinstance(x, (int, float))).all(axis=1)]\n"
     ]
    },
    {
     "name": "stdout",
     "output_type": "stream",
     "text": [
      "335\n",
      "329\n"
     ]
    },
    {
     "name": "stderr",
     "output_type": "stream",
     "text": [
      "/tmp/ipykernel_213204/3639310771.py:29: FutureWarning: DataFrame.applymap has been deprecated. Use DataFrame.map instead.\n",
      "  df = df.applymap(lambda x: ''.join(c for c in str(x) if c.isalnum() or c == '.'))\n",
      "/tmp/ipykernel_213204/3639310771.py:48: FutureWarning: DataFrame.applymap has been deprecated. Use DataFrame.map instead.\n",
      "  df = df[df[columns_to_process].applymap(lambda x: pd.isna(x) or isinstance(x, (int, float))).all(axis=1)]\n",
      "/tmp/ipykernel_213204/3639310771.py:29: FutureWarning: DataFrame.applymap has been deprecated. Use DataFrame.map instead.\n",
      "  df = df.applymap(lambda x: ''.join(c for c in str(x) if c.isalnum() or c == '.'))\n",
      "/tmp/ipykernel_213204/3639310771.py:32: FutureWarning: Downcasting behavior in `replace` is deprecated and will be removed in a future version. To retain the old behavior, explicitly call `result.infer_objects(copy=False)`. To opt-in to the future behavior, set `pd.set_option('future.no_silent_downcasting', True)`\n",
      "  df.replace(to_replace='^nan$', value=np.nan, regex=True, inplace=True)\n",
      "/tmp/ipykernel_213204/3639310771.py:48: FutureWarning: DataFrame.applymap has been deprecated. Use DataFrame.map instead.\n",
      "  df = df[df[columns_to_process].applymap(lambda x: pd.isna(x) or isinstance(x, (int, float))).all(axis=1)]\n"
     ]
    },
    {
     "name": "stdout",
     "output_type": "stream",
     "text": [
      "462\n",
      "2\n"
     ]
    },
    {
     "name": "stderr",
     "output_type": "stream",
     "text": [
      "/tmp/ipykernel_213204/3639310771.py:29: FutureWarning: DataFrame.applymap has been deprecated. Use DataFrame.map instead.\n",
      "  df = df.applymap(lambda x: ''.join(c for c in str(x) if c.isalnum() or c == '.'))\n",
      "/tmp/ipykernel_213204/3639310771.py:48: FutureWarning: DataFrame.applymap has been deprecated. Use DataFrame.map instead.\n",
      "  df = df[df[columns_to_process].applymap(lambda x: pd.isna(x) or isinstance(x, (int, float))).all(axis=1)]\n",
      "/tmp/ipykernel_213204/3639310771.py:29: FutureWarning: DataFrame.applymap has been deprecated. Use DataFrame.map instead.\n",
      "  df = df.applymap(lambda x: ''.join(c for c in str(x) if c.isalnum() or c == '.'))\n",
      "/tmp/ipykernel_213204/3639310771.py:48: FutureWarning: DataFrame.applymap has been deprecated. Use DataFrame.map instead.\n",
      "  df = df[df[columns_to_process].applymap(lambda x: pd.isna(x) or isinstance(x, (int, float))).all(axis=1)]\n"
     ]
    },
    {
     "name": "stdout",
     "output_type": "stream",
     "text": [
      "1\n",
      "1\n"
     ]
    },
    {
     "name": "stderr",
     "output_type": "stream",
     "text": [
      "/tmp/ipykernel_213204/3639310771.py:29: FutureWarning: DataFrame.applymap has been deprecated. Use DataFrame.map instead.\n",
      "  df = df.applymap(lambda x: ''.join(c for c in str(x) if c.isalnum() or c == '.'))\n",
      "/tmp/ipykernel_213204/3639310771.py:48: FutureWarning: DataFrame.applymap has been deprecated. Use DataFrame.map instead.\n",
      "  df = df[df[columns_to_process].applymap(lambda x: pd.isna(x) or isinstance(x, (int, float))).all(axis=1)]\n",
      "/tmp/ipykernel_213204/3639310771.py:29: FutureWarning: DataFrame.applymap has been deprecated. Use DataFrame.map instead.\n",
      "  df = df.applymap(lambda x: ''.join(c for c in str(x) if c.isalnum() or c == '.'))\n"
     ]
    },
    {
     "name": "stdout",
     "output_type": "stream",
     "text": [
      "66\n"
     ]
    },
    {
     "name": "stderr",
     "output_type": "stream",
     "text": [
      "/tmp/ipykernel_213204/3639310771.py:48: FutureWarning: DataFrame.applymap has been deprecated. Use DataFrame.map instead.\n",
      "  df = df[df[columns_to_process].applymap(lambda x: pd.isna(x) or isinstance(x, (int, float))).all(axis=1)]\n",
      "/tmp/ipykernel_213204/3639310771.py:29: FutureWarning: DataFrame.applymap has been deprecated. Use DataFrame.map instead.\n",
      "  df = df.applymap(lambda x: ''.join(c for c in str(x) if c.isalnum() or c == '.'))\n",
      "/tmp/ipykernel_213204/3639310771.py:48: FutureWarning: DataFrame.applymap has been deprecated. Use DataFrame.map instead.\n",
      "  df = df[df[columns_to_process].applymap(lambda x: pd.isna(x) or isinstance(x, (int, float))).all(axis=1)]\n"
     ]
    },
    {
     "name": "stdout",
     "output_type": "stream",
     "text": [
      "347\n",
      "0\n"
     ]
    },
    {
     "name": "stderr",
     "output_type": "stream",
     "text": [
      "/tmp/ipykernel_213204/3639310771.py:29: FutureWarning: DataFrame.applymap has been deprecated. Use DataFrame.map instead.\n",
      "  df = df.applymap(lambda x: ''.join(c for c in str(x) if c.isalnum() or c == '.'))\n",
      "/tmp/ipykernel_213204/3639310771.py:48: FutureWarning: DataFrame.applymap has been deprecated. Use DataFrame.map instead.\n",
      "  df = df[df[columns_to_process].applymap(lambda x: pd.isna(x) or isinstance(x, (int, float))).all(axis=1)]\n",
      "/tmp/ipykernel_213204/3639310771.py:29: FutureWarning: DataFrame.applymap has been deprecated. Use DataFrame.map instead.\n",
      "  df = df.applymap(lambda x: ''.join(c for c in str(x) if c.isalnum() or c == '.'))\n",
      "/tmp/ipykernel_213204/3639310771.py:48: FutureWarning: DataFrame.applymap has been deprecated. Use DataFrame.map instead.\n",
      "  df = df[df[columns_to_process].applymap(lambda x: pd.isna(x) or isinstance(x, (int, float))).all(axis=1)]\n"
     ]
    },
    {
     "name": "stdout",
     "output_type": "stream",
     "text": [
      "337\n",
      "74\n"
     ]
    },
    {
     "name": "stderr",
     "output_type": "stream",
     "text": [
      "/tmp/ipykernel_213204/3639310771.py:29: FutureWarning: DataFrame.applymap has been deprecated. Use DataFrame.map instead.\n",
      "  df = df.applymap(lambda x: ''.join(c for c in str(x) if c.isalnum() or c == '.'))\n",
      "/tmp/ipykernel_213204/3639310771.py:48: FutureWarning: DataFrame.applymap has been deprecated. Use DataFrame.map instead.\n",
      "  df = df[df[columns_to_process].applymap(lambda x: pd.isna(x) or isinstance(x, (int, float))).all(axis=1)]\n",
      "/tmp/ipykernel_213204/3639310771.py:29: FutureWarning: DataFrame.applymap has been deprecated. Use DataFrame.map instead.\n",
      "  df = df.applymap(lambda x: ''.join(c for c in str(x) if c.isalnum() or c == '.'))\n",
      "/tmp/ipykernel_213204/3639310771.py:48: FutureWarning: DataFrame.applymap has been deprecated. Use DataFrame.map instead.\n",
      "  df = df[df[columns_to_process].applymap(lambda x: pd.isna(x) or isinstance(x, (int, float))).all(axis=1)]\n",
      "/tmp/ipykernel_213204/3639310771.py:29: FutureWarning: DataFrame.applymap has been deprecated. Use DataFrame.map instead.\n",
      "  df = df.applymap(lambda x: ''.join(c for c in str(x) if c.isalnum() or c == '.'))\n",
      "/tmp/ipykernel_213204/3639310771.py:32: FutureWarning: Downcasting behavior in `replace` is deprecated and will be removed in a future version. To retain the old behavior, explicitly call `result.infer_objects(copy=False)`. To opt-in to the future behavior, set `pd.set_option('future.no_silent_downcasting', True)`\n",
      "  df.replace(to_replace='^nan$', value=np.nan, regex=True, inplace=True)\n",
      "/tmp/ipykernel_213204/3639310771.py:48: FutureWarning: DataFrame.applymap has been deprecated. Use DataFrame.map instead.\n",
      "  df = df[df[columns_to_process].applymap(lambda x: pd.isna(x) or isinstance(x, (int, float))).all(axis=1)]\n"
     ]
    },
    {
     "name": "stdout",
     "output_type": "stream",
     "text": [
      "6\n",
      "22\n",
      "2\n"
     ]
    },
    {
     "name": "stderr",
     "output_type": "stream",
     "text": [
      "/tmp/ipykernel_213204/3639310771.py:29: FutureWarning: DataFrame.applymap has been deprecated. Use DataFrame.map instead.\n",
      "  df = df.applymap(lambda x: ''.join(c for c in str(x) if c.isalnum() or c == '.'))\n",
      "/tmp/ipykernel_213204/3639310771.py:48: FutureWarning: DataFrame.applymap has been deprecated. Use DataFrame.map instead.\n",
      "  df = df[df[columns_to_process].applymap(lambda x: pd.isna(x) or isinstance(x, (int, float))).all(axis=1)]\n",
      "/tmp/ipykernel_213204/3639310771.py:29: FutureWarning: DataFrame.applymap has been deprecated. Use DataFrame.map instead.\n",
      "  df = df.applymap(lambda x: ''.join(c for c in str(x) if c.isalnum() or c == '.'))\n",
      "/tmp/ipykernel_213204/3639310771.py:48: FutureWarning: DataFrame.applymap has been deprecated. Use DataFrame.map instead.\n",
      "  df = df[df[columns_to_process].applymap(lambda x: pd.isna(x) or isinstance(x, (int, float))).all(axis=1)]\n"
     ]
    },
    {
     "name": "stdout",
     "output_type": "stream",
     "text": [
      "2\n",
      "0\n"
     ]
    },
    {
     "name": "stderr",
     "output_type": "stream",
     "text": [
      "/tmp/ipykernel_213204/3639310771.py:29: FutureWarning: DataFrame.applymap has been deprecated. Use DataFrame.map instead.\n",
      "  df = df.applymap(lambda x: ''.join(c for c in str(x) if c.isalnum() or c == '.'))\n",
      "/tmp/ipykernel_213204/3639310771.py:48: FutureWarning: DataFrame.applymap has been deprecated. Use DataFrame.map instead.\n",
      "  df = df[df[columns_to_process].applymap(lambda x: pd.isna(x) or isinstance(x, (int, float))).all(axis=1)]\n",
      "/tmp/ipykernel_213204/3639310771.py:29: FutureWarning: DataFrame.applymap has been deprecated. Use DataFrame.map instead.\n",
      "  df = df.applymap(lambda x: ''.join(c for c in str(x) if c.isalnum() or c == '.'))\n",
      "/tmp/ipykernel_213204/3639310771.py:48: FutureWarning: DataFrame.applymap has been deprecated. Use DataFrame.map instead.\n",
      "  df = df[df[columns_to_process].applymap(lambda x: pd.isna(x) or isinstance(x, (int, float))).all(axis=1)]\n",
      "/tmp/ipykernel_213204/3639310771.py:29: FutureWarning: DataFrame.applymap has been deprecated. Use DataFrame.map instead.\n",
      "  df = df.applymap(lambda x: ''.join(c for c in str(x) if c.isalnum() or c == '.'))\n",
      "/tmp/ipykernel_213204/3639310771.py:48: FutureWarning: DataFrame.applymap has been deprecated. Use DataFrame.map instead.\n",
      "  df = df[df[columns_to_process].applymap(lambda x: pd.isna(x) or isinstance(x, (int, float))).all(axis=1)]\n"
     ]
    },
    {
     "name": "stdout",
     "output_type": "stream",
     "text": [
      "1\n",
      "57\n",
      "20\n"
     ]
    },
    {
     "name": "stderr",
     "output_type": "stream",
     "text": [
      "/tmp/ipykernel_213204/3639310771.py:29: FutureWarning: DataFrame.applymap has been deprecated. Use DataFrame.map instead.\n",
      "  df = df.applymap(lambda x: ''.join(c for c in str(x) if c.isalnum() or c == '.'))\n",
      "/tmp/ipykernel_213204/3639310771.py:32: FutureWarning: Downcasting behavior in `replace` is deprecated and will be removed in a future version. To retain the old behavior, explicitly call `result.infer_objects(copy=False)`. To opt-in to the future behavior, set `pd.set_option('future.no_silent_downcasting', True)`\n",
      "  df.replace(to_replace='^nan$', value=np.nan, regex=True, inplace=True)\n",
      "/tmp/ipykernel_213204/3639310771.py:48: FutureWarning: DataFrame.applymap has been deprecated. Use DataFrame.map instead.\n",
      "  df = df[df[columns_to_process].applymap(lambda x: pd.isna(x) or isinstance(x, (int, float))).all(axis=1)]\n"
     ]
    },
    {
     "name": "stdout",
     "output_type": "stream",
     "text": [
      "2\n"
     ]
    },
    {
     "name": "stderr",
     "output_type": "stream",
     "text": [
      "/tmp/ipykernel_213204/3639310771.py:29: FutureWarning: DataFrame.applymap has been deprecated. Use DataFrame.map instead.\n",
      "  df = df.applymap(lambda x: ''.join(c for c in str(x) if c.isalnum() or c == '.'))\n",
      "/tmp/ipykernel_213204/3639310771.py:48: FutureWarning: DataFrame.applymap has been deprecated. Use DataFrame.map instead.\n",
      "  df = df[df[columns_to_process].applymap(lambda x: pd.isna(x) or isinstance(x, (int, float))).all(axis=1)]\n",
      "/tmp/ipykernel_213204/3639310771.py:29: FutureWarning: DataFrame.applymap has been deprecated. Use DataFrame.map instead.\n",
      "  df = df.applymap(lambda x: ''.join(c for c in str(x) if c.isalnum() or c == '.'))\n",
      "/tmp/ipykernel_213204/3639310771.py:48: FutureWarning: DataFrame.applymap has been deprecated. Use DataFrame.map instead.\n",
      "  df = df[df[columns_to_process].applymap(lambda x: pd.isna(x) or isinstance(x, (int, float))).all(axis=1)]\n"
     ]
    },
    {
     "name": "stdout",
     "output_type": "stream",
     "text": [
      "336\n",
      "174\n"
     ]
    },
    {
     "name": "stderr",
     "output_type": "stream",
     "text": [
      "/tmp/ipykernel_213204/3639310771.py:29: FutureWarning: DataFrame.applymap has been deprecated. Use DataFrame.map instead.\n",
      "  df = df.applymap(lambda x: ''.join(c for c in str(x) if c.isalnum() or c == '.'))\n",
      "/tmp/ipykernel_213204/3639310771.py:48: FutureWarning: DataFrame.applymap has been deprecated. Use DataFrame.map instead.\n",
      "  df = df[df[columns_to_process].applymap(lambda x: pd.isna(x) or isinstance(x, (int, float))).all(axis=1)]\n",
      "/tmp/ipykernel_213204/3639310771.py:29: FutureWarning: DataFrame.applymap has been deprecated. Use DataFrame.map instead.\n",
      "  df = df.applymap(lambda x: ''.join(c for c in str(x) if c.isalnum() or c == '.'))\n",
      "/tmp/ipykernel_213204/3639310771.py:48: FutureWarning: DataFrame.applymap has been deprecated. Use DataFrame.map instead.\n",
      "  df = df[df[columns_to_process].applymap(lambda x: pd.isna(x) or isinstance(x, (int, float))).all(axis=1)]\n"
     ]
    },
    {
     "name": "stdout",
     "output_type": "stream",
     "text": [
      "225\n",
      "2\n"
     ]
    },
    {
     "name": "stderr",
     "output_type": "stream",
     "text": [
      "/tmp/ipykernel_213204/3639310771.py:29: FutureWarning: DataFrame.applymap has been deprecated. Use DataFrame.map instead.\n",
      "  df = df.applymap(lambda x: ''.join(c for c in str(x) if c.isalnum() or c == '.'))\n",
      "/tmp/ipykernel_213204/3639310771.py:48: FutureWarning: DataFrame.applymap has been deprecated. Use DataFrame.map instead.\n",
      "  df = df[df[columns_to_process].applymap(lambda x: pd.isna(x) or isinstance(x, (int, float))).all(axis=1)]\n",
      "/tmp/ipykernel_213204/3639310771.py:29: FutureWarning: DataFrame.applymap has been deprecated. Use DataFrame.map instead.\n",
      "  df = df.applymap(lambda x: ''.join(c for c in str(x) if c.isalnum() or c == '.'))\n"
     ]
    },
    {
     "name": "stdout",
     "output_type": "stream",
     "text": [
      "350\n"
     ]
    },
    {
     "name": "stderr",
     "output_type": "stream",
     "text": [
      "/tmp/ipykernel_213204/3639310771.py:48: FutureWarning: DataFrame.applymap has been deprecated. Use DataFrame.map instead.\n",
      "  df = df[df[columns_to_process].applymap(lambda x: pd.isna(x) or isinstance(x, (int, float))).all(axis=1)]\n",
      "/tmp/ipykernel_213204/3639310771.py:29: FutureWarning: DataFrame.applymap has been deprecated. Use DataFrame.map instead.\n",
      "  df = df.applymap(lambda x: ''.join(c for c in str(x) if c.isalnum() or c == '.'))\n",
      "/tmp/ipykernel_213204/3639310771.py:48: FutureWarning: DataFrame.applymap has been deprecated. Use DataFrame.map instead.\n",
      "  df = df[df[columns_to_process].applymap(lambda x: pd.isna(x) or isinstance(x, (int, float))).all(axis=1)]\n",
      "/tmp/ipykernel_213204/3639310771.py:29: FutureWarning: DataFrame.applymap has been deprecated. Use DataFrame.map instead.\n",
      "  df = df.applymap(lambda x: ''.join(c for c in str(x) if c.isalnum() or c == '.'))\n",
      "/tmp/ipykernel_213204/3639310771.py:48: FutureWarning: DataFrame.applymap has been deprecated. Use DataFrame.map instead.\n",
      "  df = df[df[columns_to_process].applymap(lambda x: pd.isna(x) or isinstance(x, (int, float))).all(axis=1)]\n"
     ]
    },
    {
     "name": "stdout",
     "output_type": "stream",
     "text": [
      "303\n",
      "24\n",
      "1\n",
      "23\n",
      "324\n"
     ]
    },
    {
     "name": "stderr",
     "output_type": "stream",
     "text": [
      "/tmp/ipykernel_213204/3639310771.py:29: FutureWarning: DataFrame.applymap has been deprecated. Use DataFrame.map instead.\n",
      "  df = df.applymap(lambda x: ''.join(c for c in str(x) if c.isalnum() or c == '.'))\n",
      "/tmp/ipykernel_213204/3639310771.py:32: FutureWarning: Downcasting behavior in `replace` is deprecated and will be removed in a future version. To retain the old behavior, explicitly call `result.infer_objects(copy=False)`. To opt-in to the future behavior, set `pd.set_option('future.no_silent_downcasting', True)`\n",
      "  df.replace(to_replace='^nan$', value=np.nan, regex=True, inplace=True)\n",
      "/tmp/ipykernel_213204/3639310771.py:48: FutureWarning: DataFrame.applymap has been deprecated. Use DataFrame.map instead.\n",
      "  df = df[df[columns_to_process].applymap(lambda x: pd.isna(x) or isinstance(x, (int, float))).all(axis=1)]\n",
      "/tmp/ipykernel_213204/3639310771.py:29: FutureWarning: DataFrame.applymap has been deprecated. Use DataFrame.map instead.\n",
      "  df = df.applymap(lambda x: ''.join(c for c in str(x) if c.isalnum() or c == '.'))\n",
      "/tmp/ipykernel_213204/3639310771.py:48: FutureWarning: DataFrame.applymap has been deprecated. Use DataFrame.map instead.\n",
      "  df = df[df[columns_to_process].applymap(lambda x: pd.isna(x) or isinstance(x, (int, float))).all(axis=1)]\n",
      "/tmp/ipykernel_213204/3639310771.py:29: FutureWarning: DataFrame.applymap has been deprecated. Use DataFrame.map instead.\n",
      "  df = df.applymap(lambda x: ''.join(c for c in str(x) if c.isalnum() or c == '.'))\n",
      "/tmp/ipykernel_213204/3639310771.py:48: FutureWarning: DataFrame.applymap has been deprecated. Use DataFrame.map instead.\n",
      "  df = df[df[columns_to_process].applymap(lambda x: pd.isna(x) or isinstance(x, (int, float))).all(axis=1)]\n",
      "/tmp/ipykernel_213204/3639310771.py:29: FutureWarning: DataFrame.applymap has been deprecated. Use DataFrame.map instead.\n",
      "  df = df.applymap(lambda x: ''.join(c for c in str(x) if c.isalnum() or c == '.'))\n",
      "/tmp/ipykernel_213204/3639310771.py:32: FutureWarning: Downcasting behavior in `replace` is deprecated and will be removed in a future version. To retain the old behavior, explicitly call `result.infer_objects(copy=False)`. To opt-in to the future behavior, set `pd.set_option('future.no_silent_downcasting', True)`\n",
      "  df.replace(to_replace='^nan$', value=np.nan, regex=True, inplace=True)\n",
      "/tmp/ipykernel_213204/3639310771.py:48: FutureWarning: DataFrame.applymap has been deprecated. Use DataFrame.map instead.\n",
      "  df = df[df[columns_to_process].applymap(lambda x: pd.isna(x) or isinstance(x, (int, float))).all(axis=1)]\n",
      "/tmp/ipykernel_213204/3639310771.py:29: FutureWarning: DataFrame.applymap has been deprecated. Use DataFrame.map instead.\n",
      "  df = df.applymap(lambda x: ''.join(c for c in str(x) if c.isalnum() or c == '.'))\n"
     ]
    },
    {
     "name": "stdout",
     "output_type": "stream",
     "text": [
      "322\n",
      "23\n"
     ]
    },
    {
     "name": "stderr",
     "output_type": "stream",
     "text": [
      "/tmp/ipykernel_213204/3639310771.py:48: FutureWarning: DataFrame.applymap has been deprecated. Use DataFrame.map instead.\n",
      "  df = df[df[columns_to_process].applymap(lambda x: pd.isna(x) or isinstance(x, (int, float))).all(axis=1)]\n",
      "/tmp/ipykernel_213204/3639310771.py:29: FutureWarning: DataFrame.applymap has been deprecated. Use DataFrame.map instead.\n",
      "  df = df.applymap(lambda x: ''.join(c for c in str(x) if c.isalnum() or c == '.'))\n",
      "/tmp/ipykernel_213204/3639310771.py:48: FutureWarning: DataFrame.applymap has been deprecated. Use DataFrame.map instead.\n",
      "  df = df[df[columns_to_process].applymap(lambda x: pd.isna(x) or isinstance(x, (int, float))).all(axis=1)]\n"
     ]
    },
    {
     "name": "stdout",
     "output_type": "stream",
     "text": [
      "2\n",
      "59\n"
     ]
    },
    {
     "name": "stderr",
     "output_type": "stream",
     "text": [
      "/tmp/ipykernel_213204/3639310771.py:29: FutureWarning: DataFrame.applymap has been deprecated. Use DataFrame.map instead.\n",
      "  df = df.applymap(lambda x: ''.join(c for c in str(x) if c.isalnum() or c == '.'))\n",
      "/tmp/ipykernel_213204/3639310771.py:32: FutureWarning: Downcasting behavior in `replace` is deprecated and will be removed in a future version. To retain the old behavior, explicitly call `result.infer_objects(copy=False)`. To opt-in to the future behavior, set `pd.set_option('future.no_silent_downcasting', True)`\n",
      "  df.replace(to_replace='^nan$', value=np.nan, regex=True, inplace=True)\n",
      "/tmp/ipykernel_213204/3639310771.py:48: FutureWarning: DataFrame.applymap has been deprecated. Use DataFrame.map instead.\n",
      "  df = df[df[columns_to_process].applymap(lambda x: pd.isna(x) or isinstance(x, (int, float))).all(axis=1)]\n"
     ]
    },
    {
     "name": "stdout",
     "output_type": "stream",
     "text": [
      "15\n"
     ]
    },
    {
     "name": "stderr",
     "output_type": "stream",
     "text": [
      "/tmp/ipykernel_213204/3639310771.py:29: FutureWarning: DataFrame.applymap has been deprecated. Use DataFrame.map instead.\n",
      "  df = df.applymap(lambda x: ''.join(c for c in str(x) if c.isalnum() or c == '.'))\n",
      "/tmp/ipykernel_213204/3639310771.py:48: FutureWarning: DataFrame.applymap has been deprecated. Use DataFrame.map instead.\n",
      "  df = df[df[columns_to_process].applymap(lambda x: pd.isna(x) or isinstance(x, (int, float))).all(axis=1)]\n",
      "/tmp/ipykernel_213204/3639310771.py:29: FutureWarning: DataFrame.applymap has been deprecated. Use DataFrame.map instead.\n",
      "  df = df.applymap(lambda x: ''.join(c for c in str(x) if c.isalnum() or c == '.'))\n",
      "/tmp/ipykernel_213204/3639310771.py:48: FutureWarning: DataFrame.applymap has been deprecated. Use DataFrame.map instead.\n",
      "  df = df[df[columns_to_process].applymap(lambda x: pd.isna(x) or isinstance(x, (int, float))).all(axis=1)]\n"
     ]
    },
    {
     "name": "stdout",
     "output_type": "stream",
     "text": [
      "278\n",
      "23\n"
     ]
    },
    {
     "name": "stderr",
     "output_type": "stream",
     "text": [
      "/tmp/ipykernel_213204/3639310771.py:29: FutureWarning: DataFrame.applymap has been deprecated. Use DataFrame.map instead.\n",
      "  df = df.applymap(lambda x: ''.join(c for c in str(x) if c.isalnum() or c == '.'))\n",
      "/tmp/ipykernel_213204/3639310771.py:48: FutureWarning: DataFrame.applymap has been deprecated. Use DataFrame.map instead.\n",
      "  df = df[df[columns_to_process].applymap(lambda x: pd.isna(x) or isinstance(x, (int, float))).all(axis=1)]\n",
      "/tmp/ipykernel_213204/3639310771.py:29: FutureWarning: DataFrame.applymap has been deprecated. Use DataFrame.map instead.\n",
      "  df = df.applymap(lambda x: ''.join(c for c in str(x) if c.isalnum() or c == '.'))\n",
      "/tmp/ipykernel_213204/3639310771.py:48: FutureWarning: DataFrame.applymap has been deprecated. Use DataFrame.map instead.\n",
      "  df = df[df[columns_to_process].applymap(lambda x: pd.isna(x) or isinstance(x, (int, float))).all(axis=1)]\n"
     ]
    },
    {
     "name": "stdout",
     "output_type": "stream",
     "text": [
      "315\n",
      "330\n"
     ]
    },
    {
     "name": "stderr",
     "output_type": "stream",
     "text": [
      "/tmp/ipykernel_213204/3639310771.py:29: FutureWarning: DataFrame.applymap has been deprecated. Use DataFrame.map instead.\n",
      "  df = df.applymap(lambda x: ''.join(c for c in str(x) if c.isalnum() or c == '.'))\n",
      "/tmp/ipykernel_213204/3639310771.py:48: FutureWarning: DataFrame.applymap has been deprecated. Use DataFrame.map instead.\n",
      "  df = df[df[columns_to_process].applymap(lambda x: pd.isna(x) or isinstance(x, (int, float))).all(axis=1)]\n",
      "/tmp/ipykernel_213204/3639310771.py:29: FutureWarning: DataFrame.applymap has been deprecated. Use DataFrame.map instead.\n",
      "  df = df.applymap(lambda x: ''.join(c for c in str(x) if c.isalnum() or c == '.'))\n",
      "/tmp/ipykernel_213204/3639310771.py:48: FutureWarning: DataFrame.applymap has been deprecated. Use DataFrame.map instead.\n",
      "  df = df[df[columns_to_process].applymap(lambda x: pd.isna(x) or isinstance(x, (int, float))).all(axis=1)]\n"
     ]
    },
    {
     "name": "stdout",
     "output_type": "stream",
     "text": [
      "0\n",
      "1\n"
     ]
    },
    {
     "name": "stderr",
     "output_type": "stream",
     "text": [
      "/tmp/ipykernel_213204/3639310771.py:29: FutureWarning: DataFrame.applymap has been deprecated. Use DataFrame.map instead.\n",
      "  df = df.applymap(lambda x: ''.join(c for c in str(x) if c.isalnum() or c == '.'))\n",
      "/tmp/ipykernel_213204/3639310771.py:48: FutureWarning: DataFrame.applymap has been deprecated. Use DataFrame.map instead.\n",
      "  df = df[df[columns_to_process].applymap(lambda x: pd.isna(x) or isinstance(x, (int, float))).all(axis=1)]\n",
      "/tmp/ipykernel_213204/3639310771.py:29: FutureWarning: DataFrame.applymap has been deprecated. Use DataFrame.map instead.\n",
      "  df = df.applymap(lambda x: ''.join(c for c in str(x) if c.isalnum() or c == '.'))\n"
     ]
    },
    {
     "name": "stdout",
     "output_type": "stream",
     "text": [
      "270\n"
     ]
    },
    {
     "name": "stderr",
     "output_type": "stream",
     "text": [
      "/tmp/ipykernel_213204/3639310771.py:48: FutureWarning: DataFrame.applymap has been deprecated. Use DataFrame.map instead.\n",
      "  df = df[df[columns_to_process].applymap(lambda x: pd.isna(x) or isinstance(x, (int, float))).all(axis=1)]\n",
      "/tmp/ipykernel_213204/3639310771.py:29: FutureWarning: DataFrame.applymap has been deprecated. Use DataFrame.map instead.\n",
      "  df = df.applymap(lambda x: ''.join(c for c in str(x) if c.isalnum() or c == '.'))\n"
     ]
    },
    {
     "name": "stdout",
     "output_type": "stream",
     "text": [
      "429\n"
     ]
    },
    {
     "name": "stderr",
     "output_type": "stream",
     "text": [
      "/tmp/ipykernel_213204/3639310771.py:48: FutureWarning: DataFrame.applymap has been deprecated. Use DataFrame.map instead.\n",
      "  df = df[df[columns_to_process].applymap(lambda x: pd.isna(x) or isinstance(x, (int, float))).all(axis=1)]\n",
      "/tmp/ipykernel_213204/3639310771.py:29: FutureWarning: DataFrame.applymap has been deprecated. Use DataFrame.map instead.\n",
      "  df = df.applymap(lambda x: ''.join(c for c in str(x) if c.isalnum() or c == '.'))\n",
      "/tmp/ipykernel_213204/3639310771.py:48: FutureWarning: DataFrame.applymap has been deprecated. Use DataFrame.map instead.\n",
      "  df = df[df[columns_to_process].applymap(lambda x: pd.isna(x) or isinstance(x, (int, float))).all(axis=1)]\n",
      "/tmp/ipykernel_213204/3639310771.py:29: FutureWarning: DataFrame.applymap has been deprecated. Use DataFrame.map instead.\n",
      "  df = df.applymap(lambda x: ''.join(c for c in str(x) if c.isalnum() or c == '.'))\n",
      "/tmp/ipykernel_213204/3639310771.py:48: FutureWarning: DataFrame.applymap has been deprecated. Use DataFrame.map instead.\n",
      "  df = df[df[columns_to_process].applymap(lambda x: pd.isna(x) or isinstance(x, (int, float))).all(axis=1)]\n"
     ]
    },
    {
     "name": "stdout",
     "output_type": "stream",
     "text": [
      "388\n",
      "259\n",
      "25\n"
     ]
    },
    {
     "name": "stderr",
     "output_type": "stream",
     "text": [
      "/tmp/ipykernel_213204/3639310771.py:29: FutureWarning: DataFrame.applymap has been deprecated. Use DataFrame.map instead.\n",
      "  df = df.applymap(lambda x: ''.join(c for c in str(x) if c.isalnum() or c == '.'))\n",
      "/tmp/ipykernel_213204/3639310771.py:32: FutureWarning: Downcasting behavior in `replace` is deprecated and will be removed in a future version. To retain the old behavior, explicitly call `result.infer_objects(copy=False)`. To opt-in to the future behavior, set `pd.set_option('future.no_silent_downcasting', True)`\n",
      "  df.replace(to_replace='^nan$', value=np.nan, regex=True, inplace=True)\n",
      "/tmp/ipykernel_213204/3639310771.py:48: FutureWarning: DataFrame.applymap has been deprecated. Use DataFrame.map instead.\n",
      "  df = df[df[columns_to_process].applymap(lambda x: pd.isna(x) or isinstance(x, (int, float))).all(axis=1)]\n"
     ]
    },
    {
     "name": "stdout",
     "output_type": "stream",
     "text": [
      "329\n"
     ]
    },
    {
     "name": "stderr",
     "output_type": "stream",
     "text": [
      "/tmp/ipykernel_213204/3639310771.py:29: FutureWarning: DataFrame.applymap has been deprecated. Use DataFrame.map instead.\n",
      "  df = df.applymap(lambda x: ''.join(c for c in str(x) if c.isalnum() or c == '.'))\n",
      "/tmp/ipykernel_213204/3639310771.py:48: FutureWarning: DataFrame.applymap has been deprecated. Use DataFrame.map instead.\n",
      "  df = df[df[columns_to_process].applymap(lambda x: pd.isna(x) or isinstance(x, (int, float))).all(axis=1)]\n"
     ]
    },
    {
     "name": "stdout",
     "output_type": "stream",
     "text": [
      "15\n"
     ]
    },
    {
     "name": "stderr",
     "output_type": "stream",
     "text": [
      "/tmp/ipykernel_213204/3639310771.py:29: FutureWarning: DataFrame.applymap has been deprecated. Use DataFrame.map instead.\n",
      "  df = df.applymap(lambda x: ''.join(c for c in str(x) if c.isalnum() or c == '.'))\n",
      "/tmp/ipykernel_213204/3639310771.py:48: FutureWarning: DataFrame.applymap has been deprecated. Use DataFrame.map instead.\n",
      "  df = df[df[columns_to_process].applymap(lambda x: pd.isna(x) or isinstance(x, (int, float))).all(axis=1)]\n",
      "/tmp/ipykernel_213204/3639310771.py:29: FutureWarning: DataFrame.applymap has been deprecated. Use DataFrame.map instead.\n",
      "  df = df.applymap(lambda x: ''.join(c for c in str(x) if c.isalnum() or c == '.'))\n",
      "/tmp/ipykernel_213204/3639310771.py:32: FutureWarning: Downcasting behavior in `replace` is deprecated and will be removed in a future version. To retain the old behavior, explicitly call `result.infer_objects(copy=False)`. To opt-in to the future behavior, set `pd.set_option('future.no_silent_downcasting', True)`\n",
      "  df.replace(to_replace='^nan$', value=np.nan, regex=True, inplace=True)\n",
      "/tmp/ipykernel_213204/3639310771.py:48: FutureWarning: DataFrame.applymap has been deprecated. Use DataFrame.map instead.\n",
      "  df = df[df[columns_to_process].applymap(lambda x: pd.isna(x) or isinstance(x, (int, float))).all(axis=1)]\n",
      "/tmp/ipykernel_213204/3639310771.py:29: FutureWarning: DataFrame.applymap has been deprecated. Use DataFrame.map instead.\n",
      "  df = df.applymap(lambda x: ''.join(c for c in str(x) if c.isalnum() or c == '.'))\n",
      "/tmp/ipykernel_213204/3639310771.py:48: FutureWarning: DataFrame.applymap has been deprecated. Use DataFrame.map instead.\n",
      "  df = df[df[columns_to_process].applymap(lambda x: pd.isna(x) or isinstance(x, (int, float))).all(axis=1)]\n"
     ]
    },
    {
     "name": "stdout",
     "output_type": "stream",
     "text": [
      "260\n",
      "8\n",
      "329\n"
     ]
    },
    {
     "name": "stderr",
     "output_type": "stream",
     "text": [
      "/tmp/ipykernel_213204/3639310771.py:29: FutureWarning: DataFrame.applymap has been deprecated. Use DataFrame.map instead.\n",
      "  df = df.applymap(lambda x: ''.join(c for c in str(x) if c.isalnum() or c == '.'))\n",
      "/tmp/ipykernel_213204/3639310771.py:48: FutureWarning: DataFrame.applymap has been deprecated. Use DataFrame.map instead.\n",
      "  df = df[df[columns_to_process].applymap(lambda x: pd.isna(x) or isinstance(x, (int, float))).all(axis=1)]\n",
      "/tmp/ipykernel_213204/3639310771.py:29: FutureWarning: DataFrame.applymap has been deprecated. Use DataFrame.map instead.\n",
      "  df = df.applymap(lambda x: ''.join(c for c in str(x) if c.isalnum() or c == '.'))\n",
      "/tmp/ipykernel_213204/3639310771.py:48: FutureWarning: DataFrame.applymap has been deprecated. Use DataFrame.map instead.\n",
      "  df = df[df[columns_to_process].applymap(lambda x: pd.isna(x) or isinstance(x, (int, float))).all(axis=1)]\n",
      "/tmp/ipykernel_213204/3639310771.py:29: FutureWarning: DataFrame.applymap has been deprecated. Use DataFrame.map instead.\n",
      "  df = df.applymap(lambda x: ''.join(c for c in str(x) if c.isalnum() or c == '.'))\n"
     ]
    },
    {
     "name": "stdout",
     "output_type": "stream",
     "text": [
      "343\n",
      "75\n",
      "1\n"
     ]
    },
    {
     "name": "stderr",
     "output_type": "stream",
     "text": [
      "/tmp/ipykernel_213204/3639310771.py:48: FutureWarning: DataFrame.applymap has been deprecated. Use DataFrame.map instead.\n",
      "  df = df[df[columns_to_process].applymap(lambda x: pd.isna(x) or isinstance(x, (int, float))).all(axis=1)]\n",
      "/tmp/ipykernel_213204/3639310771.py:29: FutureWarning: DataFrame.applymap has been deprecated. Use DataFrame.map instead.\n",
      "  df = df.applymap(lambda x: ''.join(c for c in str(x) if c.isalnum() or c == '.'))\n",
      "/tmp/ipykernel_213204/3639310771.py:48: FutureWarning: DataFrame.applymap has been deprecated. Use DataFrame.map instead.\n",
      "  df = df[df[columns_to_process].applymap(lambda x: pd.isna(x) or isinstance(x, (int, float))).all(axis=1)]\n"
     ]
    },
    {
     "name": "stdout",
     "output_type": "stream",
     "text": [
      "0\n",
      "11\n"
     ]
    },
    {
     "name": "stderr",
     "output_type": "stream",
     "text": [
      "/tmp/ipykernel_213204/3639310771.py:29: FutureWarning: DataFrame.applymap has been deprecated. Use DataFrame.map instead.\n",
      "  df = df.applymap(lambda x: ''.join(c for c in str(x) if c.isalnum() or c == '.'))\n",
      "/tmp/ipykernel_213204/3639310771.py:48: FutureWarning: DataFrame.applymap has been deprecated. Use DataFrame.map instead.\n",
      "  df = df[df[columns_to_process].applymap(lambda x: pd.isna(x) or isinstance(x, (int, float))).all(axis=1)]\n",
      "/tmp/ipykernel_213204/3639310771.py:29: FutureWarning: DataFrame.applymap has been deprecated. Use DataFrame.map instead.\n",
      "  df = df.applymap(lambda x: ''.join(c for c in str(x) if c.isalnum() or c == '.'))\n",
      "/tmp/ipykernel_213204/3639310771.py:48: FutureWarning: DataFrame.applymap has been deprecated. Use DataFrame.map instead.\n",
      "  df = df[df[columns_to_process].applymap(lambda x: pd.isna(x) or isinstance(x, (int, float))).all(axis=1)]\n",
      "/tmp/ipykernel_213204/3639310771.py:29: FutureWarning: DataFrame.applymap has been deprecated. Use DataFrame.map instead.\n",
      "  df = df.applymap(lambda x: ''.join(c for c in str(x) if c.isalnum() or c == '.'))\n",
      "/tmp/ipykernel_213204/3639310771.py:48: FutureWarning: DataFrame.applymap has been deprecated. Use DataFrame.map instead.\n",
      "  df = df[df[columns_to_process].applymap(lambda x: pd.isna(x) or isinstance(x, (int, float))).all(axis=1)]\n"
     ]
    },
    {
     "name": "stdout",
     "output_type": "stream",
     "text": [
      "442\n",
      "8\n"
     ]
    },
    {
     "name": "stderr",
     "output_type": "stream",
     "text": [
      "/tmp/ipykernel_213204/3639310771.py:29: FutureWarning: DataFrame.applymap has been deprecated. Use DataFrame.map instead.\n",
      "  df = df.applymap(lambda x: ''.join(c for c in str(x) if c.isalnum() or c == '.'))\n",
      "/tmp/ipykernel_213204/3639310771.py:32: FutureWarning: Downcasting behavior in `replace` is deprecated and will be removed in a future version. To retain the old behavior, explicitly call `result.infer_objects(copy=False)`. To opt-in to the future behavior, set `pd.set_option('future.no_silent_downcasting', True)`\n",
      "  df.replace(to_replace='^nan$', value=np.nan, regex=True, inplace=True)\n",
      "/tmp/ipykernel_213204/3639310771.py:48: FutureWarning: DataFrame.applymap has been deprecated. Use DataFrame.map instead.\n",
      "  df = df[df[columns_to_process].applymap(lambda x: pd.isna(x) or isinstance(x, (int, float))).all(axis=1)]\n",
      "/tmp/ipykernel_213204/3639310771.py:29: FutureWarning: DataFrame.applymap has been deprecated. Use DataFrame.map instead.\n",
      "  df = df.applymap(lambda x: ''.join(c for c in str(x) if c.isalnum() or c == '.'))\n",
      "/tmp/ipykernel_213204/3639310771.py:48: FutureWarning: DataFrame.applymap has been deprecated. Use DataFrame.map instead.\n",
      "  df = df[df[columns_to_process].applymap(lambda x: pd.isna(x) or isinstance(x, (int, float))).all(axis=1)]\n"
     ]
    },
    {
     "name": "stdout",
     "output_type": "stream",
     "text": [
      "317\n",
      "315\n"
     ]
    },
    {
     "name": "stderr",
     "output_type": "stream",
     "text": [
      "/tmp/ipykernel_213204/3639310771.py:29: FutureWarning: DataFrame.applymap has been deprecated. Use DataFrame.map instead.\n",
      "  df = df.applymap(lambda x: ''.join(c for c in str(x) if c.isalnum() or c == '.'))\n",
      "/tmp/ipykernel_213204/3639310771.py:48: FutureWarning: DataFrame.applymap has been deprecated. Use DataFrame.map instead.\n",
      "  df = df[df[columns_to_process].applymap(lambda x: pd.isna(x) or isinstance(x, (int, float))).all(axis=1)]\n",
      "/tmp/ipykernel_213204/3639310771.py:29: FutureWarning: DataFrame.applymap has been deprecated. Use DataFrame.map instead.\n",
      "  df = df.applymap(lambda x: ''.join(c for c in str(x) if c.isalnum() or c == '.'))\n",
      "/tmp/ipykernel_213204/3639310771.py:48: FutureWarning: DataFrame.applymap has been deprecated. Use DataFrame.map instead.\n",
      "  df = df[df[columns_to_process].applymap(lambda x: pd.isna(x) or isinstance(x, (int, float))).all(axis=1)]\n"
     ]
    },
    {
     "name": "stdout",
     "output_type": "stream",
     "text": [
      "269\n",
      "307\n"
     ]
    },
    {
     "name": "stderr",
     "output_type": "stream",
     "text": [
      "/tmp/ipykernel_213204/3639310771.py:29: FutureWarning: DataFrame.applymap has been deprecated. Use DataFrame.map instead.\n",
      "  df = df.applymap(lambda x: ''.join(c for c in str(x) if c.isalnum() or c == '.'))\n",
      "/tmp/ipykernel_213204/3639310771.py:48: FutureWarning: DataFrame.applymap has been deprecated. Use DataFrame.map instead.\n",
      "  df = df[df[columns_to_process].applymap(lambda x: pd.isna(x) or isinstance(x, (int, float))).all(axis=1)]\n",
      "/tmp/ipykernel_213204/3639310771.py:29: FutureWarning: DataFrame.applymap has been deprecated. Use DataFrame.map instead.\n",
      "  df = df.applymap(lambda x: ''.join(c for c in str(x) if c.isalnum() or c == '.'))\n",
      "/tmp/ipykernel_213204/3639310771.py:32: FutureWarning: Downcasting behavior in `replace` is deprecated and will be removed in a future version. To retain the old behavior, explicitly call `result.infer_objects(copy=False)`. To opt-in to the future behavior, set `pd.set_option('future.no_silent_downcasting', True)`\n",
      "  df.replace(to_replace='^nan$', value=np.nan, regex=True, inplace=True)\n",
      "/tmp/ipykernel_213204/3639310771.py:48: FutureWarning: DataFrame.applymap has been deprecated. Use DataFrame.map instead.\n",
      "  df = df[df[columns_to_process].applymap(lambda x: pd.isna(x) or isinstance(x, (int, float))).all(axis=1)]\n",
      "/tmp/ipykernel_213204/3639310771.py:29: FutureWarning: DataFrame.applymap has been deprecated. Use DataFrame.map instead.\n",
      "  df = df.applymap(lambda x: ''.join(c for c in str(x) if c.isalnum() or c == '.'))\n"
     ]
    },
    {
     "name": "stdout",
     "output_type": "stream",
     "text": [
      "4\n",
      "23\n"
     ]
    },
    {
     "name": "stderr",
     "output_type": "stream",
     "text": [
      "/tmp/ipykernel_213204/3639310771.py:48: FutureWarning: DataFrame.applymap has been deprecated. Use DataFrame.map instead.\n",
      "  df = df[df[columns_to_process].applymap(lambda x: pd.isna(x) or isinstance(x, (int, float))).all(axis=1)]\n"
     ]
    },
    {
     "name": "stdout",
     "output_type": "stream",
     "text": [
      "1\n"
     ]
    },
    {
     "name": "stderr",
     "output_type": "stream",
     "text": [
      "/tmp/ipykernel_213204/3639310771.py:29: FutureWarning: DataFrame.applymap has been deprecated. Use DataFrame.map instead.\n",
      "  df = df.applymap(lambda x: ''.join(c for c in str(x) if c.isalnum() or c == '.'))\n",
      "/tmp/ipykernel_213204/3639310771.py:48: FutureWarning: DataFrame.applymap has been deprecated. Use DataFrame.map instead.\n",
      "  df = df[df[columns_to_process].applymap(lambda x: pd.isna(x) or isinstance(x, (int, float))).all(axis=1)]\n"
     ]
    },
    {
     "name": "stdout",
     "output_type": "stream",
     "text": [
      "13\n"
     ]
    },
    {
     "name": "stderr",
     "output_type": "stream",
     "text": [
      "/tmp/ipykernel_213204/3639310771.py:29: FutureWarning: DataFrame.applymap has been deprecated. Use DataFrame.map instead.\n",
      "  df = df.applymap(lambda x: ''.join(c for c in str(x) if c.isalnum() or c == '.'))\n",
      "/tmp/ipykernel_213204/3639310771.py:48: FutureWarning: DataFrame.applymap has been deprecated. Use DataFrame.map instead.\n",
      "  df = df[df[columns_to_process].applymap(lambda x: pd.isna(x) or isinstance(x, (int, float))).all(axis=1)]\n"
     ]
    },
    {
     "name": "stdout",
     "output_type": "stream",
     "text": [
      "2\n",
      "12\n"
     ]
    },
    {
     "name": "stderr",
     "output_type": "stream",
     "text": [
      "/tmp/ipykernel_213204/3639310771.py:29: FutureWarning: DataFrame.applymap has been deprecated. Use DataFrame.map instead.\n",
      "  df = df.applymap(lambda x: ''.join(c for c in str(x) if c.isalnum() or c == '.'))\n",
      "/tmp/ipykernel_213204/3639310771.py:48: FutureWarning: DataFrame.applymap has been deprecated. Use DataFrame.map instead.\n",
      "  df = df[df[columns_to_process].applymap(lambda x: pd.isna(x) or isinstance(x, (int, float))).all(axis=1)]\n",
      "/tmp/ipykernel_213204/3639310771.py:29: FutureWarning: DataFrame.applymap has been deprecated. Use DataFrame.map instead.\n",
      "  df = df.applymap(lambda x: ''.join(c for c in str(x) if c.isalnum() or c == '.'))\n",
      "/tmp/ipykernel_213204/3639310771.py:48: FutureWarning: DataFrame.applymap has been deprecated. Use DataFrame.map instead.\n",
      "  df = df[df[columns_to_process].applymap(lambda x: pd.isna(x) or isinstance(x, (int, float))).all(axis=1)]\n"
     ]
    },
    {
     "name": "stdout",
     "output_type": "stream",
     "text": [
      "0\n",
      "354\n"
     ]
    },
    {
     "name": "stderr",
     "output_type": "stream",
     "text": [
      "/tmp/ipykernel_213204/3639310771.py:29: FutureWarning: DataFrame.applymap has been deprecated. Use DataFrame.map instead.\n",
      "  df = df.applymap(lambda x: ''.join(c for c in str(x) if c.isalnum() or c == '.'))\n",
      "/tmp/ipykernel_213204/3639310771.py:48: FutureWarning: DataFrame.applymap has been deprecated. Use DataFrame.map instead.\n",
      "  df = df[df[columns_to_process].applymap(lambda x: pd.isna(x) or isinstance(x, (int, float))).all(axis=1)]\n",
      "/tmp/ipykernel_213204/3639310771.py:29: FutureWarning: DataFrame.applymap has been deprecated. Use DataFrame.map instead.\n",
      "  df = df.applymap(lambda x: ''.join(c for c in str(x) if c.isalnum() or c == '.'))\n",
      "/tmp/ipykernel_213204/3639310771.py:48: FutureWarning: DataFrame.applymap has been deprecated. Use DataFrame.map instead.\n",
      "  df = df[df[columns_to_process].applymap(lambda x: pd.isna(x) or isinstance(x, (int, float))).all(axis=1)]\n"
     ]
    },
    {
     "name": "stdout",
     "output_type": "stream",
     "text": [
      "299\n",
      "350\n"
     ]
    },
    {
     "name": "stderr",
     "output_type": "stream",
     "text": [
      "/tmp/ipykernel_213204/3639310771.py:29: FutureWarning: DataFrame.applymap has been deprecated. Use DataFrame.map instead.\n",
      "  df = df.applymap(lambda x: ''.join(c for c in str(x) if c.isalnum() or c == '.'))\n",
      "/tmp/ipykernel_213204/3639310771.py:48: FutureWarning: DataFrame.applymap has been deprecated. Use DataFrame.map instead.\n",
      "  df = df[df[columns_to_process].applymap(lambda x: pd.isna(x) or isinstance(x, (int, float))).all(axis=1)]\n",
      "/tmp/ipykernel_213204/3639310771.py:29: FutureWarning: DataFrame.applymap has been deprecated. Use DataFrame.map instead.\n",
      "  df = df.applymap(lambda x: ''.join(c for c in str(x) if c.isalnum() or c == '.'))\n",
      "/tmp/ipykernel_213204/3639310771.py:48: FutureWarning: DataFrame.applymap has been deprecated. Use DataFrame.map instead.\n",
      "  df = df[df[columns_to_process].applymap(lambda x: pd.isna(x) or isinstance(x, (int, float))).all(axis=1)]\n",
      "/tmp/ipykernel_213204/3639310771.py:29: FutureWarning: DataFrame.applymap has been deprecated. Use DataFrame.map instead.\n",
      "  df = df.applymap(lambda x: ''.join(c for c in str(x) if c.isalnum() or c == '.'))\n",
      "/tmp/ipykernel_213204/3639310771.py:48: FutureWarning: DataFrame.applymap has been deprecated. Use DataFrame.map instead.\n",
      "  df = df[df[columns_to_process].applymap(lambda x: pd.isna(x) or isinstance(x, (int, float))).all(axis=1)]\n",
      "/tmp/ipykernel_213204/3639310771.py:29: FutureWarning: DataFrame.applymap has been deprecated. Use DataFrame.map instead.\n",
      "  df = df.applymap(lambda x: ''.join(c for c in str(x) if c.isalnum() or c == '.'))\n",
      "/tmp/ipykernel_213204/3639310771.py:32: FutureWarning: Downcasting behavior in `replace` is deprecated and will be removed in a future version. To retain the old behavior, explicitly call `result.infer_objects(copy=False)`. To opt-in to the future behavior, set `pd.set_option('future.no_silent_downcasting', True)`\n",
      "  df.replace(to_replace='^nan$', value=np.nan, regex=True, inplace=True)\n",
      "/tmp/ipykernel_213204/3639310771.py:48: FutureWarning: DataFrame.applymap has been deprecated. Use DataFrame.map instead.\n",
      "  df = df[df[columns_to_process].applymap(lambda x: pd.isna(x) or isinstance(x, (int, float))).all(axis=1)]\n"
     ]
    },
    {
     "name": "stdout",
     "output_type": "stream",
     "text": [
      "341\n",
      "1\n",
      "1\n"
     ]
    },
    {
     "name": "stderr",
     "output_type": "stream",
     "text": [
      "/tmp/ipykernel_213204/3639310771.py:29: FutureWarning: DataFrame.applymap has been deprecated. Use DataFrame.map instead.\n",
      "  df = df.applymap(lambda x: ''.join(c for c in str(x) if c.isalnum() or c == '.'))\n",
      "/tmp/ipykernel_213204/3639310771.py:48: FutureWarning: DataFrame.applymap has been deprecated. Use DataFrame.map instead.\n",
      "  df = df[df[columns_to_process].applymap(lambda x: pd.isna(x) or isinstance(x, (int, float))).all(axis=1)]\n",
      "/tmp/ipykernel_213204/3639310771.py:29: FutureWarning: DataFrame.applymap has been deprecated. Use DataFrame.map instead.\n",
      "  df = df.applymap(lambda x: ''.join(c for c in str(x) if c.isalnum() or c == '.'))\n",
      "/tmp/ipykernel_213204/3639310771.py:48: FutureWarning: DataFrame.applymap has been deprecated. Use DataFrame.map instead.\n",
      "  df = df[df[columns_to_process].applymap(lambda x: pd.isna(x) or isinstance(x, (int, float))).all(axis=1)]\n"
     ]
    },
    {
     "name": "stdout",
     "output_type": "stream",
     "text": [
      "2\n",
      "0\n"
     ]
    },
    {
     "name": "stderr",
     "output_type": "stream",
     "text": [
      "/tmp/ipykernel_213204/3639310771.py:29: FutureWarning: DataFrame.applymap has been deprecated. Use DataFrame.map instead.\n",
      "  df = df.applymap(lambda x: ''.join(c for c in str(x) if c.isalnum() or c == '.'))\n",
      "/tmp/ipykernel_213204/3639310771.py:48: FutureWarning: DataFrame.applymap has been deprecated. Use DataFrame.map instead.\n",
      "  df = df[df[columns_to_process].applymap(lambda x: pd.isna(x) or isinstance(x, (int, float))).all(axis=1)]\n"
     ]
    },
    {
     "name": "stdout",
     "output_type": "stream",
     "text": [
      "1\n"
     ]
    },
    {
     "name": "stderr",
     "output_type": "stream",
     "text": [
      "/tmp/ipykernel_213204/3639310771.py:29: FutureWarning: DataFrame.applymap has been deprecated. Use DataFrame.map instead.\n",
      "  df = df.applymap(lambda x: ''.join(c for c in str(x) if c.isalnum() or c == '.'))\n",
      "/tmp/ipykernel_213204/3639310771.py:48: FutureWarning: DataFrame.applymap has been deprecated. Use DataFrame.map instead.\n",
      "  df = df[df[columns_to_process].applymap(lambda x: pd.isna(x) or isinstance(x, (int, float))).all(axis=1)]\n",
      "/tmp/ipykernel_213204/3639310771.py:29: FutureWarning: DataFrame.applymap has been deprecated. Use DataFrame.map instead.\n",
      "  df = df.applymap(lambda x: ''.join(c for c in str(x) if c.isalnum() or c == '.'))\n"
     ]
    },
    {
     "name": "stdout",
     "output_type": "stream",
     "text": [
      "0\n"
     ]
    },
    {
     "name": "stderr",
     "output_type": "stream",
     "text": [
      "/tmp/ipykernel_213204/3639310771.py:48: FutureWarning: DataFrame.applymap has been deprecated. Use DataFrame.map instead.\n",
      "  df = df[df[columns_to_process].applymap(lambda x: pd.isna(x) or isinstance(x, (int, float))).all(axis=1)]\n",
      "/tmp/ipykernel_213204/3639310771.py:29: FutureWarning: DataFrame.applymap has been deprecated. Use DataFrame.map instead.\n",
      "  df = df.applymap(lambda x: ''.join(c for c in str(x) if c.isalnum() or c == '.'))\n",
      "/tmp/ipykernel_213204/3639310771.py:48: FutureWarning: DataFrame.applymap has been deprecated. Use DataFrame.map instead.\n",
      "  df = df[df[columns_to_process].applymap(lambda x: pd.isna(x) or isinstance(x, (int, float))).all(axis=1)]\n",
      "/tmp/ipykernel_213204/3639310771.py:29: FutureWarning: DataFrame.applymap has been deprecated. Use DataFrame.map instead.\n",
      "  df = df.applymap(lambda x: ''.join(c for c in str(x) if c.isalnum() or c == '.'))\n"
     ]
    },
    {
     "name": "stdout",
     "output_type": "stream",
     "text": [
      "339\n",
      "70\n"
     ]
    },
    {
     "name": "stderr",
     "output_type": "stream",
     "text": [
      "/tmp/ipykernel_213204/3639310771.py:48: FutureWarning: DataFrame.applymap has been deprecated. Use DataFrame.map instead.\n",
      "  df = df[df[columns_to_process].applymap(lambda x: pd.isna(x) or isinstance(x, (int, float))).all(axis=1)]\n",
      "/tmp/ipykernel_213204/3639310771.py:29: FutureWarning: DataFrame.applymap has been deprecated. Use DataFrame.map instead.\n",
      "  df = df.applymap(lambda x: ''.join(c for c in str(x) if c.isalnum() or c == '.'))\n",
      "/tmp/ipykernel_213204/3639310771.py:48: FutureWarning: DataFrame.applymap has been deprecated. Use DataFrame.map instead.\n",
      "  df = df[df[columns_to_process].applymap(lambda x: pd.isna(x) or isinstance(x, (int, float))).all(axis=1)]\n"
     ]
    },
    {
     "name": "stdout",
     "output_type": "stream",
     "text": [
      "54\n",
      "320\n"
     ]
    },
    {
     "name": "stderr",
     "output_type": "stream",
     "text": [
      "/tmp/ipykernel_213204/3639310771.py:29: FutureWarning: DataFrame.applymap has been deprecated. Use DataFrame.map instead.\n",
      "  df = df.applymap(lambda x: ''.join(c for c in str(x) if c.isalnum() or c == '.'))\n",
      "/tmp/ipykernel_213204/3639310771.py:48: FutureWarning: DataFrame.applymap has been deprecated. Use DataFrame.map instead.\n",
      "  df = df[df[columns_to_process].applymap(lambda x: pd.isna(x) or isinstance(x, (int, float))).all(axis=1)]\n",
      "/tmp/ipykernel_213204/3639310771.py:29: FutureWarning: DataFrame.applymap has been deprecated. Use DataFrame.map instead.\n",
      "  df = df.applymap(lambda x: ''.join(c for c in str(x) if c.isalnum() or c == '.'))\n",
      "/tmp/ipykernel_213204/3639310771.py:48: FutureWarning: DataFrame.applymap has been deprecated. Use DataFrame.map instead.\n",
      "  df = df[df[columns_to_process].applymap(lambda x: pd.isna(x) or isinstance(x, (int, float))).all(axis=1)]\n"
     ]
    },
    {
     "name": "stdout",
     "output_type": "stream",
     "text": [
      "383\n",
      "2\n"
     ]
    },
    {
     "name": "stderr",
     "output_type": "stream",
     "text": [
      "/tmp/ipykernel_213204/3639310771.py:29: FutureWarning: DataFrame.applymap has been deprecated. Use DataFrame.map instead.\n",
      "  df = df.applymap(lambda x: ''.join(c for c in str(x) if c.isalnum() or c == '.'))\n",
      "/tmp/ipykernel_213204/3639310771.py:48: FutureWarning: DataFrame.applymap has been deprecated. Use DataFrame.map instead.\n",
      "  df = df[df[columns_to_process].applymap(lambda x: pd.isna(x) or isinstance(x, (int, float))).all(axis=1)]\n",
      "/tmp/ipykernel_213204/3639310771.py:29: FutureWarning: DataFrame.applymap has been deprecated. Use DataFrame.map instead.\n",
      "  df = df.applymap(lambda x: ''.join(c for c in str(x) if c.isalnum() or c == '.'))\n",
      "/tmp/ipykernel_213204/3639310771.py:48: FutureWarning: DataFrame.applymap has been deprecated. Use DataFrame.map instead.\n",
      "  df = df[df[columns_to_process].applymap(lambda x: pd.isna(x) or isinstance(x, (int, float))).all(axis=1)]\n",
      "/tmp/ipykernel_213204/3639310771.py:29: FutureWarning: DataFrame.applymap has been deprecated. Use DataFrame.map instead.\n",
      "  df = df.applymap(lambda x: ''.join(c for c in str(x) if c.isalnum() or c == '.'))\n",
      "/tmp/ipykernel_213204/3639310771.py:48: FutureWarning: DataFrame.applymap has been deprecated. Use DataFrame.map instead.\n",
      "  df = df[df[columns_to_process].applymap(lambda x: pd.isna(x) or isinstance(x, (int, float))).all(axis=1)]\n"
     ]
    },
    {
     "name": "stdout",
     "output_type": "stream",
     "text": [
      "291\n",
      "20\n",
      "35\n"
     ]
    },
    {
     "name": "stderr",
     "output_type": "stream",
     "text": [
      "/tmp/ipykernel_213204/3639310771.py:29: FutureWarning: DataFrame.applymap has been deprecated. Use DataFrame.map instead.\n",
      "  df = df.applymap(lambda x: ''.join(c for c in str(x) if c.isalnum() or c == '.'))\n",
      "/tmp/ipykernel_213204/3639310771.py:48: FutureWarning: DataFrame.applymap has been deprecated. Use DataFrame.map instead.\n",
      "  df = df[df[columns_to_process].applymap(lambda x: pd.isna(x) or isinstance(x, (int, float))).all(axis=1)]\n",
      "/tmp/ipykernel_213204/3639310771.py:29: FutureWarning: DataFrame.applymap has been deprecated. Use DataFrame.map instead.\n",
      "  df = df.applymap(lambda x: ''.join(c for c in str(x) if c.isalnum() or c == '.'))\n",
      "/tmp/ipykernel_213204/3639310771.py:32: FutureWarning: Downcasting behavior in `replace` is deprecated and will be removed in a future version. To retain the old behavior, explicitly call `result.infer_objects(copy=False)`. To opt-in to the future behavior, set `pd.set_option('future.no_silent_downcasting', True)`\n",
      "  df.replace(to_replace='^nan$', value=np.nan, regex=True, inplace=True)\n",
      "/tmp/ipykernel_213204/3639310771.py:48: FutureWarning: DataFrame.applymap has been deprecated. Use DataFrame.map instead.\n",
      "  df = df[df[columns_to_process].applymap(lambda x: pd.isna(x) or isinstance(x, (int, float))).all(axis=1)]\n"
     ]
    },
    {
     "name": "stdout",
     "output_type": "stream",
     "text": [
      "343\n",
      "5\n"
     ]
    },
    {
     "name": "stderr",
     "output_type": "stream",
     "text": [
      "/tmp/ipykernel_213204/3639310771.py:29: FutureWarning: DataFrame.applymap has been deprecated. Use DataFrame.map instead.\n",
      "  df = df.applymap(lambda x: ''.join(c for c in str(x) if c.isalnum() or c == '.'))\n",
      "/tmp/ipykernel_213204/3639310771.py:48: FutureWarning: DataFrame.applymap has been deprecated. Use DataFrame.map instead.\n",
      "  df = df[df[columns_to_process].applymap(lambda x: pd.isna(x) or isinstance(x, (int, float))).all(axis=1)]\n",
      "/tmp/ipykernel_213204/3639310771.py:29: FutureWarning: DataFrame.applymap has been deprecated. Use DataFrame.map instead.\n",
      "  df = df.applymap(lambda x: ''.join(c for c in str(x) if c.isalnum() or c == '.'))\n",
      "/tmp/ipykernel_213204/3639310771.py:48: FutureWarning: DataFrame.applymap has been deprecated. Use DataFrame.map instead.\n",
      "  df = df[df[columns_to_process].applymap(lambda x: pd.isna(x) or isinstance(x, (int, float))).all(axis=1)]\n"
     ]
    },
    {
     "name": "stdout",
     "output_type": "stream",
     "text": [
      "16\n",
      "1\n"
     ]
    },
    {
     "name": "stderr",
     "output_type": "stream",
     "text": [
      "/tmp/ipykernel_213204/3639310771.py:29: FutureWarning: DataFrame.applymap has been deprecated. Use DataFrame.map instead.\n",
      "  df = df.applymap(lambda x: ''.join(c for c in str(x) if c.isalnum() or c == '.'))\n",
      "/tmp/ipykernel_213204/3639310771.py:48: FutureWarning: DataFrame.applymap has been deprecated. Use DataFrame.map instead.\n",
      "  df = df[df[columns_to_process].applymap(lambda x: pd.isna(x) or isinstance(x, (int, float))).all(axis=1)]\n"
     ]
    },
    {
     "name": "stdout",
     "output_type": "stream",
     "text": [
      "15\n"
     ]
    },
    {
     "name": "stderr",
     "output_type": "stream",
     "text": [
      "/tmp/ipykernel_213204/3639310771.py:29: FutureWarning: DataFrame.applymap has been deprecated. Use DataFrame.map instead.\n",
      "  df = df.applymap(lambda x: ''.join(c for c in str(x) if c.isalnum() or c == '.'))\n",
      "/tmp/ipykernel_213204/3639310771.py:48: FutureWarning: DataFrame.applymap has been deprecated. Use DataFrame.map instead.\n",
      "  df = df[df[columns_to_process].applymap(lambda x: pd.isna(x) or isinstance(x, (int, float))).all(axis=1)]\n",
      "/tmp/ipykernel_213204/3639310771.py:29: FutureWarning: DataFrame.applymap has been deprecated. Use DataFrame.map instead.\n",
      "  df = df.applymap(lambda x: ''.join(c for c in str(x) if c.isalnum() or c == '.'))\n",
      "/tmp/ipykernel_213204/3639310771.py:48: FutureWarning: DataFrame.applymap has been deprecated. Use DataFrame.map instead.\n",
      "  df = df[df[columns_to_process].applymap(lambda x: pd.isna(x) or isinstance(x, (int, float))).all(axis=1)]\n"
     ]
    },
    {
     "name": "stdout",
     "output_type": "stream",
     "text": [
      "3\n",
      "0\n"
     ]
    },
    {
     "name": "stderr",
     "output_type": "stream",
     "text": [
      "/tmp/ipykernel_213204/3639310771.py:29: FutureWarning: DataFrame.applymap has been deprecated. Use DataFrame.map instead.\n",
      "  df = df.applymap(lambda x: ''.join(c for c in str(x) if c.isalnum() or c == '.'))\n",
      "/tmp/ipykernel_213204/3639310771.py:48: FutureWarning: DataFrame.applymap has been deprecated. Use DataFrame.map instead.\n",
      "  df = df[df[columns_to_process].applymap(lambda x: pd.isna(x) or isinstance(x, (int, float))).all(axis=1)]\n",
      "/tmp/ipykernel_213204/3639310771.py:29: FutureWarning: DataFrame.applymap has been deprecated. Use DataFrame.map instead.\n",
      "  df = df.applymap(lambda x: ''.join(c for c in str(x) if c.isalnum() or c == '.'))\n",
      "/tmp/ipykernel_213204/3639310771.py:48: FutureWarning: DataFrame.applymap has been deprecated. Use DataFrame.map instead.\n",
      "  df = df[df[columns_to_process].applymap(lambda x: pd.isna(x) or isinstance(x, (int, float))).all(axis=1)]\n"
     ]
    },
    {
     "name": "stdout",
     "output_type": "stream",
     "text": [
      "323\n",
      "305\n",
      "22\n"
     ]
    },
    {
     "name": "stderr",
     "output_type": "stream",
     "text": [
      "/tmp/ipykernel_213204/3639310771.py:29: FutureWarning: DataFrame.applymap has been deprecated. Use DataFrame.map instead.\n",
      "  df = df.applymap(lambda x: ''.join(c for c in str(x) if c.isalnum() or c == '.'))\n",
      "/tmp/ipykernel_213204/3639310771.py:32: FutureWarning: Downcasting behavior in `replace` is deprecated and will be removed in a future version. To retain the old behavior, explicitly call `result.infer_objects(copy=False)`. To opt-in to the future behavior, set `pd.set_option('future.no_silent_downcasting', True)`\n",
      "  df.replace(to_replace='^nan$', value=np.nan, regex=True, inplace=True)\n",
      "/tmp/ipykernel_213204/3639310771.py:48: FutureWarning: DataFrame.applymap has been deprecated. Use DataFrame.map instead.\n",
      "  df = df[df[columns_to_process].applymap(lambda x: pd.isna(x) or isinstance(x, (int, float))).all(axis=1)]\n",
      "/tmp/ipykernel_213204/3639310771.py:29: FutureWarning: DataFrame.applymap has been deprecated. Use DataFrame.map instead.\n",
      "  df = df.applymap(lambda x: ''.join(c for c in str(x) if c.isalnum() or c == '.'))\n",
      "/tmp/ipykernel_213204/3639310771.py:48: FutureWarning: DataFrame.applymap has been deprecated. Use DataFrame.map instead.\n",
      "  df = df[df[columns_to_process].applymap(lambda x: pd.isna(x) or isinstance(x, (int, float))).all(axis=1)]\n",
      "/tmp/ipykernel_213204/3639310771.py:29: FutureWarning: DataFrame.applymap has been deprecated. Use DataFrame.map instead.\n",
      "  df = df.applymap(lambda x: ''.join(c for c in str(x) if c.isalnum() or c == '.'))\n",
      "/tmp/ipykernel_213204/3639310771.py:48: FutureWarning: DataFrame.applymap has been deprecated. Use DataFrame.map instead.\n",
      "  df = df[df[columns_to_process].applymap(lambda x: pd.isna(x) or isinstance(x, (int, float))).all(axis=1)]\n",
      "/tmp/ipykernel_213204/3639310771.py:29: FutureWarning: DataFrame.applymap has been deprecated. Use DataFrame.map instead.\n",
      "  df = df.applymap(lambda x: ''.join(c for c in str(x) if c.isalnum() or c == '.'))\n",
      "/tmp/ipykernel_213204/3639310771.py:48: FutureWarning: DataFrame.applymap has been deprecated. Use DataFrame.map instead.\n",
      "  df = df[df[columns_to_process].applymap(lambda x: pd.isna(x) or isinstance(x, (int, float))).all(axis=1)]\n"
     ]
    },
    {
     "name": "stdout",
     "output_type": "stream",
     "text": [
      "371\n",
      "21\n",
      "1\n",
      "0\n"
     ]
    },
    {
     "name": "stderr",
     "output_type": "stream",
     "text": [
      "/tmp/ipykernel_213204/3639310771.py:29: FutureWarning: DataFrame.applymap has been deprecated. Use DataFrame.map instead.\n",
      "  df = df.applymap(lambda x: ''.join(c for c in str(x) if c.isalnum() or c == '.'))\n",
      "/tmp/ipykernel_213204/3639310771.py:48: FutureWarning: DataFrame.applymap has been deprecated. Use DataFrame.map instead.\n",
      "  df = df[df[columns_to_process].applymap(lambda x: pd.isna(x) or isinstance(x, (int, float))).all(axis=1)]\n",
      "/tmp/ipykernel_213204/3639310771.py:29: FutureWarning: DataFrame.applymap has been deprecated. Use DataFrame.map instead.\n",
      "  df = df.applymap(lambda x: ''.join(c for c in str(x) if c.isalnum() or c == '.'))\n",
      "/tmp/ipykernel_213204/3639310771.py:48: FutureWarning: DataFrame.applymap has been deprecated. Use DataFrame.map instead.\n",
      "  df = df[df[columns_to_process].applymap(lambda x: pd.isna(x) or isinstance(x, (int, float))).all(axis=1)]\n"
     ]
    },
    {
     "name": "stdout",
     "output_type": "stream",
     "text": [
      "151\n"
     ]
    },
    {
     "name": "stderr",
     "output_type": "stream",
     "text": [
      "/tmp/ipykernel_213204/3639310771.py:29: FutureWarning: DataFrame.applymap has been deprecated. Use DataFrame.map instead.\n",
      "  df = df.applymap(lambda x: ''.join(c for c in str(x) if c.isalnum() or c == '.'))\n",
      "/tmp/ipykernel_213204/3639310771.py:48: FutureWarning: DataFrame.applymap has been deprecated. Use DataFrame.map instead.\n",
      "  df = df[df[columns_to_process].applymap(lambda x: pd.isna(x) or isinstance(x, (int, float))).all(axis=1)]\n",
      "/tmp/ipykernel_213204/3639310771.py:29: FutureWarning: DataFrame.applymap has been deprecated. Use DataFrame.map instead.\n",
      "  df = df.applymap(lambda x: ''.join(c for c in str(x) if c.isalnum() or c == '.'))\n",
      "/tmp/ipykernel_213204/3639310771.py:48: FutureWarning: DataFrame.applymap has been deprecated. Use DataFrame.map instead.\n",
      "  df = df[df[columns_to_process].applymap(lambda x: pd.isna(x) or isinstance(x, (int, float))).all(axis=1)]\n"
     ]
    },
    {
     "name": "stdout",
     "output_type": "stream",
     "text": [
      "344\n",
      "118\n"
     ]
    },
    {
     "name": "stderr",
     "output_type": "stream",
     "text": [
      "/tmp/ipykernel_213204/3639310771.py:29: FutureWarning: DataFrame.applymap has been deprecated. Use DataFrame.map instead.\n",
      "  df = df.applymap(lambda x: ''.join(c for c in str(x) if c.isalnum() or c == '.'))\n",
      "/tmp/ipykernel_213204/3639310771.py:48: FutureWarning: DataFrame.applymap has been deprecated. Use DataFrame.map instead.\n",
      "  df = df[df[columns_to_process].applymap(lambda x: pd.isna(x) or isinstance(x, (int, float))).all(axis=1)]\n",
      "/tmp/ipykernel_213204/3639310771.py:29: FutureWarning: DataFrame.applymap has been deprecated. Use DataFrame.map instead.\n",
      "  df = df.applymap(lambda x: ''.join(c for c in str(x) if c.isalnum() or c == '.'))\n",
      "/tmp/ipykernel_213204/3639310771.py:48: FutureWarning: DataFrame.applymap has been deprecated. Use DataFrame.map instead.\n",
      "  df = df[df[columns_to_process].applymap(lambda x: pd.isna(x) or isinstance(x, (int, float))).all(axis=1)]\n"
     ]
    },
    {
     "name": "stdout",
     "output_type": "stream",
     "text": [
      "507\n",
      "163\n"
     ]
    },
    {
     "name": "stderr",
     "output_type": "stream",
     "text": [
      "/tmp/ipykernel_213204/3639310771.py:29: FutureWarning: DataFrame.applymap has been deprecated. Use DataFrame.map instead.\n",
      "  df = df.applymap(lambda x: ''.join(c for c in str(x) if c.isalnum() or c == '.'))\n",
      "/tmp/ipykernel_213204/3639310771.py:48: FutureWarning: DataFrame.applymap has been deprecated. Use DataFrame.map instead.\n",
      "  df = df[df[columns_to_process].applymap(lambda x: pd.isna(x) or isinstance(x, (int, float))).all(axis=1)]\n",
      "/tmp/ipykernel_213204/3639310771.py:29: FutureWarning: DataFrame.applymap has been deprecated. Use DataFrame.map instead.\n",
      "  df = df.applymap(lambda x: ''.join(c for c in str(x) if c.isalnum() or c == '.'))\n",
      "/tmp/ipykernel_213204/3639310771.py:32: FutureWarning: Downcasting behavior in `replace` is deprecated and will be removed in a future version. To retain the old behavior, explicitly call `result.infer_objects(copy=False)`. To opt-in to the future behavior, set `pd.set_option('future.no_silent_downcasting', True)`\n",
      "  df.replace(to_replace='^nan$', value=np.nan, regex=True, inplace=True)\n",
      "/tmp/ipykernel_213204/3639310771.py:48: FutureWarning: DataFrame.applymap has been deprecated. Use DataFrame.map instead.\n",
      "  df = df[df[columns_to_process].applymap(lambda x: pd.isna(x) or isinstance(x, (int, float))).all(axis=1)]\n"
     ]
    },
    {
     "name": "stdout",
     "output_type": "stream",
     "text": [
      "358\n",
      "280\n"
     ]
    },
    {
     "name": "stderr",
     "output_type": "stream",
     "text": [
      "/tmp/ipykernel_213204/3639310771.py:29: FutureWarning: DataFrame.applymap has been deprecated. Use DataFrame.map instead.\n",
      "  df = df.applymap(lambda x: ''.join(c for c in str(x) if c.isalnum() or c == '.'))\n",
      "/tmp/ipykernel_213204/3639310771.py:48: FutureWarning: DataFrame.applymap has been deprecated. Use DataFrame.map instead.\n",
      "  df = df[df[columns_to_process].applymap(lambda x: pd.isna(x) or isinstance(x, (int, float))).all(axis=1)]\n",
      "/tmp/ipykernel_213204/3639310771.py:29: FutureWarning: DataFrame.applymap has been deprecated. Use DataFrame.map instead.\n",
      "  df = df.applymap(lambda x: ''.join(c for c in str(x) if c.isalnum() or c == '.'))\n"
     ]
    },
    {
     "name": "stdout",
     "output_type": "stream",
     "text": [
      "303\n",
      "9\n"
     ]
    },
    {
     "name": "stderr",
     "output_type": "stream",
     "text": [
      "/tmp/ipykernel_213204/3639310771.py:48: FutureWarning: DataFrame.applymap has been deprecated. Use DataFrame.map instead.\n",
      "  df = df[df[columns_to_process].applymap(lambda x: pd.isna(x) or isinstance(x, (int, float))).all(axis=1)]\n",
      "/tmp/ipykernel_213204/3639310771.py:29: FutureWarning: DataFrame.applymap has been deprecated. Use DataFrame.map instead.\n",
      "  df = df.applymap(lambda x: ''.join(c for c in str(x) if c.isalnum() or c == '.'))\n",
      "/tmp/ipykernel_213204/3639310771.py:48: FutureWarning: DataFrame.applymap has been deprecated. Use DataFrame.map instead.\n",
      "  df = df[df[columns_to_process].applymap(lambda x: pd.isna(x) or isinstance(x, (int, float))).all(axis=1)]\n",
      "/tmp/ipykernel_213204/3639310771.py:29: FutureWarning: DataFrame.applymap has been deprecated. Use DataFrame.map instead.\n",
      "  df = df.applymap(lambda x: ''.join(c for c in str(x) if c.isalnum() or c == '.'))\n",
      "/tmp/ipykernel_213204/3639310771.py:48: FutureWarning: DataFrame.applymap has been deprecated. Use DataFrame.map instead.\n",
      "  df = df[df[columns_to_process].applymap(lambda x: pd.isna(x) or isinstance(x, (int, float))).all(axis=1)]\n"
     ]
    },
    {
     "name": "stdout",
     "output_type": "stream",
     "text": [
      "2\n",
      "0\n"
     ]
    },
    {
     "name": "stderr",
     "output_type": "stream",
     "text": [
      "/tmp/ipykernel_213204/3639310771.py:29: FutureWarning: DataFrame.applymap has been deprecated. Use DataFrame.map instead.\n",
      "  df = df.applymap(lambda x: ''.join(c for c in str(x) if c.isalnum() or c == '.'))\n",
      "/tmp/ipykernel_213204/3639310771.py:48: FutureWarning: DataFrame.applymap has been deprecated. Use DataFrame.map instead.\n",
      "  df = df[df[columns_to_process].applymap(lambda x: pd.isna(x) or isinstance(x, (int, float))).all(axis=1)]\n",
      "/tmp/ipykernel_213204/3639310771.py:29: FutureWarning: DataFrame.applymap has been deprecated. Use DataFrame.map instead.\n",
      "  df = df.applymap(lambda x: ''.join(c for c in str(x) if c.isalnum() or c == '.'))\n"
     ]
    },
    {
     "name": "stdout",
     "output_type": "stream",
     "text": [
      "54\n"
     ]
    },
    {
     "name": "stderr",
     "output_type": "stream",
     "text": [
      "/tmp/ipykernel_213204/3639310771.py:48: FutureWarning: DataFrame.applymap has been deprecated. Use DataFrame.map instead.\n",
      "  df = df[df[columns_to_process].applymap(lambda x: pd.isna(x) or isinstance(x, (int, float))).all(axis=1)]\n",
      "/tmp/ipykernel_213204/3639310771.py:29: FutureWarning: DataFrame.applymap has been deprecated. Use DataFrame.map instead.\n",
      "  df = df.applymap(lambda x: ''.join(c for c in str(x) if c.isalnum() or c == '.'))\n",
      "/tmp/ipykernel_213204/3639310771.py:48: FutureWarning: DataFrame.applymap has been deprecated. Use DataFrame.map instead.\n",
      "  df = df[df[columns_to_process].applymap(lambda x: pd.isna(x) or isinstance(x, (int, float))).all(axis=1)]\n",
      "/tmp/ipykernel_213204/3639310771.py:29: FutureWarning: DataFrame.applymap has been deprecated. Use DataFrame.map instead.\n",
      "  df = df.applymap(lambda x: ''.join(c for c in str(x) if c.isalnum() or c == '.'))\n"
     ]
    },
    {
     "name": "stdout",
     "output_type": "stream",
     "text": [
      "0\n",
      "46\n"
     ]
    },
    {
     "name": "stderr",
     "output_type": "stream",
     "text": [
      "/tmp/ipykernel_213204/3639310771.py:48: FutureWarning: DataFrame.applymap has been deprecated. Use DataFrame.map instead.\n",
      "  df = df[df[columns_to_process].applymap(lambda x: pd.isna(x) or isinstance(x, (int, float))).all(axis=1)]\n",
      "/tmp/ipykernel_213204/3639310771.py:29: FutureWarning: DataFrame.applymap has been deprecated. Use DataFrame.map instead.\n",
      "  df = df.applymap(lambda x: ''.join(c for c in str(x) if c.isalnum() or c == '.'))\n",
      "/tmp/ipykernel_213204/3639310771.py:48: FutureWarning: DataFrame.applymap has been deprecated. Use DataFrame.map instead.\n",
      "  df = df[df[columns_to_process].applymap(lambda x: pd.isna(x) or isinstance(x, (int, float))).all(axis=1)]\n"
     ]
    },
    {
     "name": "stdout",
     "output_type": "stream",
     "text": [
      "89\n",
      "0\n"
     ]
    },
    {
     "name": "stderr",
     "output_type": "stream",
     "text": [
      "/tmp/ipykernel_213204/3639310771.py:29: FutureWarning: DataFrame.applymap has been deprecated. Use DataFrame.map instead.\n",
      "  df = df.applymap(lambda x: ''.join(c for c in str(x) if c.isalnum() or c == '.'))\n",
      "/tmp/ipykernel_213204/3639310771.py:48: FutureWarning: DataFrame.applymap has been deprecated. Use DataFrame.map instead.\n",
      "  df = df[df[columns_to_process].applymap(lambda x: pd.isna(x) or isinstance(x, (int, float))).all(axis=1)]\n",
      "/tmp/ipykernel_213204/3639310771.py:29: FutureWarning: DataFrame.applymap has been deprecated. Use DataFrame.map instead.\n",
      "  df = df.applymap(lambda x: ''.join(c for c in str(x) if c.isalnum() or c == '.'))\n",
      "/tmp/ipykernel_213204/3639310771.py:48: FutureWarning: DataFrame.applymap has been deprecated. Use DataFrame.map instead.\n",
      "  df = df[df[columns_to_process].applymap(lambda x: pd.isna(x) or isinstance(x, (int, float))).all(axis=1)]\n"
     ]
    },
    {
     "name": "stdout",
     "output_type": "stream",
     "text": [
      "21\n",
      "0\n"
     ]
    },
    {
     "name": "stderr",
     "output_type": "stream",
     "text": [
      "/tmp/ipykernel_213204/3639310771.py:29: FutureWarning: DataFrame.applymap has been deprecated. Use DataFrame.map instead.\n",
      "  df = df.applymap(lambda x: ''.join(c for c in str(x) if c.isalnum() or c == '.'))\n",
      "/tmp/ipykernel_213204/3639310771.py:48: FutureWarning: DataFrame.applymap has been deprecated. Use DataFrame.map instead.\n",
      "  df = df[df[columns_to_process].applymap(lambda x: pd.isna(x) or isinstance(x, (int, float))).all(axis=1)]\n",
      "/tmp/ipykernel_213204/3639310771.py:29: FutureWarning: DataFrame.applymap has been deprecated. Use DataFrame.map instead.\n",
      "  df = df.applymap(lambda x: ''.join(c for c in str(x) if c.isalnum() or c == '.'))\n",
      "/tmp/ipykernel_213204/3639310771.py:48: FutureWarning: DataFrame.applymap has been deprecated. Use DataFrame.map instead.\n",
      "  df = df[df[columns_to_process].applymap(lambda x: pd.isna(x) or isinstance(x, (int, float))).all(axis=1)]\n"
     ]
    },
    {
     "name": "stdout",
     "output_type": "stream",
     "text": [
      "311\n",
      "300\n"
     ]
    },
    {
     "name": "stderr",
     "output_type": "stream",
     "text": [
      "/tmp/ipykernel_213204/3639310771.py:29: FutureWarning: DataFrame.applymap has been deprecated. Use DataFrame.map instead.\n",
      "  df = df.applymap(lambda x: ''.join(c for c in str(x) if c.isalnum() or c == '.'))\n",
      "/tmp/ipykernel_213204/3639310771.py:48: FutureWarning: DataFrame.applymap has been deprecated. Use DataFrame.map instead.\n",
      "  df = df[df[columns_to_process].applymap(lambda x: pd.isna(x) or isinstance(x, (int, float))).all(axis=1)]\n",
      "/tmp/ipykernel_213204/3639310771.py:29: FutureWarning: DataFrame.applymap has been deprecated. Use DataFrame.map instead.\n",
      "  df = df.applymap(lambda x: ''.join(c for c in str(x) if c.isalnum() or c == '.'))\n",
      "/tmp/ipykernel_213204/3639310771.py:32: FutureWarning: Downcasting behavior in `replace` is deprecated and will be removed in a future version. To retain the old behavior, explicitly call `result.infer_objects(copy=False)`. To opt-in to the future behavior, set `pd.set_option('future.no_silent_downcasting', True)`\n",
      "  df.replace(to_replace='^nan$', value=np.nan, regex=True, inplace=True)\n",
      "/tmp/ipykernel_213204/3639310771.py:48: FutureWarning: DataFrame.applymap has been deprecated. Use DataFrame.map instead.\n",
      "  df = df[df[columns_to_process].applymap(lambda x: pd.isna(x) or isinstance(x, (int, float))).all(axis=1)]\n"
     ]
    },
    {
     "name": "stdout",
     "output_type": "stream",
     "text": [
      "85\n",
      "8\n"
     ]
    },
    {
     "name": "stderr",
     "output_type": "stream",
     "text": [
      "/tmp/ipykernel_213204/3639310771.py:29: FutureWarning: DataFrame.applymap has been deprecated. Use DataFrame.map instead.\n",
      "  df = df.applymap(lambda x: ''.join(c for c in str(x) if c.isalnum() or c == '.'))\n",
      "/tmp/ipykernel_213204/3639310771.py:48: FutureWarning: DataFrame.applymap has been deprecated. Use DataFrame.map instead.\n",
      "  df = df[df[columns_to_process].applymap(lambda x: pd.isna(x) or isinstance(x, (int, float))).all(axis=1)]\n",
      "/tmp/ipykernel_213204/3639310771.py:29: FutureWarning: DataFrame.applymap has been deprecated. Use DataFrame.map instead.\n",
      "  df = df.applymap(lambda x: ''.join(c for c in str(x) if c.isalnum() or c == '.'))\n",
      "/tmp/ipykernel_213204/3639310771.py:48: FutureWarning: DataFrame.applymap has been deprecated. Use DataFrame.map instead.\n",
      "  df = df[df[columns_to_process].applymap(lambda x: pd.isna(x) or isinstance(x, (int, float))).all(axis=1)]\n"
     ]
    },
    {
     "name": "stdout",
     "output_type": "stream",
     "text": [
      "286\n",
      "48\n"
     ]
    },
    {
     "name": "stderr",
     "output_type": "stream",
     "text": [
      "/tmp/ipykernel_213204/3639310771.py:29: FutureWarning: DataFrame.applymap has been deprecated. Use DataFrame.map instead.\n",
      "  df = df.applymap(lambda x: ''.join(c for c in str(x) if c.isalnum() or c == '.'))\n",
      "/tmp/ipykernel_213204/3639310771.py:48: FutureWarning: DataFrame.applymap has been deprecated. Use DataFrame.map instead.\n",
      "  df = df[df[columns_to_process].applymap(lambda x: pd.isna(x) or isinstance(x, (int, float))).all(axis=1)]\n",
      "/tmp/ipykernel_213204/3639310771.py:29: FutureWarning: DataFrame.applymap has been deprecated. Use DataFrame.map instead.\n",
      "  df = df.applymap(lambda x: ''.join(c for c in str(x) if c.isalnum() or c == '.'))\n",
      "/tmp/ipykernel_213204/3639310771.py:48: FutureWarning: DataFrame.applymap has been deprecated. Use DataFrame.map instead.\n",
      "  df = df[df[columns_to_process].applymap(lambda x: pd.isna(x) or isinstance(x, (int, float))).all(axis=1)]\n"
     ]
    },
    {
     "name": "stdout",
     "output_type": "stream",
     "text": [
      "507\n",
      "325\n"
     ]
    },
    {
     "name": "stderr",
     "output_type": "stream",
     "text": [
      "/tmp/ipykernel_213204/3639310771.py:29: FutureWarning: DataFrame.applymap has been deprecated. Use DataFrame.map instead.\n",
      "  df = df.applymap(lambda x: ''.join(c for c in str(x) if c.isalnum() or c == '.'))\n",
      "/tmp/ipykernel_213204/3639310771.py:48: FutureWarning: DataFrame.applymap has been deprecated. Use DataFrame.map instead.\n",
      "  df = df[df[columns_to_process].applymap(lambda x: pd.isna(x) or isinstance(x, (int, float))).all(axis=1)]\n",
      "/tmp/ipykernel_213204/3639310771.py:29: FutureWarning: DataFrame.applymap has been deprecated. Use DataFrame.map instead.\n",
      "  df = df.applymap(lambda x: ''.join(c for c in str(x) if c.isalnum() or c == '.'))\n",
      "/tmp/ipykernel_213204/3639310771.py:48: FutureWarning: DataFrame.applymap has been deprecated. Use DataFrame.map instead.\n",
      "  df = df[df[columns_to_process].applymap(lambda x: pd.isna(x) or isinstance(x, (int, float))).all(axis=1)]\n"
     ]
    },
    {
     "name": "stdout",
     "output_type": "stream",
     "text": [
      "0\n",
      "270\n"
     ]
    },
    {
     "name": "stderr",
     "output_type": "stream",
     "text": [
      "/tmp/ipykernel_213204/3639310771.py:29: FutureWarning: DataFrame.applymap has been deprecated. Use DataFrame.map instead.\n",
      "  df = df.applymap(lambda x: ''.join(c for c in str(x) if c.isalnum() or c == '.'))\n",
      "/tmp/ipykernel_213204/3639310771.py:48: FutureWarning: DataFrame.applymap has been deprecated. Use DataFrame.map instead.\n",
      "  df = df[df[columns_to_process].applymap(lambda x: pd.isna(x) or isinstance(x, (int, float))).all(axis=1)]\n",
      "/tmp/ipykernel_213204/3639310771.py:29: FutureWarning: DataFrame.applymap has been deprecated. Use DataFrame.map instead.\n",
      "  df = df.applymap(lambda x: ''.join(c for c in str(x) if c.isalnum() or c == '.'))\n"
     ]
    },
    {
     "name": "stdout",
     "output_type": "stream",
     "text": [
      "400\n"
     ]
    },
    {
     "name": "stderr",
     "output_type": "stream",
     "text": [
      "/tmp/ipykernel_213204/3639310771.py:48: FutureWarning: DataFrame.applymap has been deprecated. Use DataFrame.map instead.\n",
      "  df = df[df[columns_to_process].applymap(lambda x: pd.isna(x) or isinstance(x, (int, float))).all(axis=1)]\n"
     ]
    },
    {
     "name": "stdout",
     "output_type": "stream",
     "text": [
      "290\n"
     ]
    },
    {
     "name": "stderr",
     "output_type": "stream",
     "text": [
      "/tmp/ipykernel_213204/3639310771.py:29: FutureWarning: DataFrame.applymap has been deprecated. Use DataFrame.map instead.\n",
      "  df = df.applymap(lambda x: ''.join(c for c in str(x) if c.isalnum() or c == '.'))\n",
      "/tmp/ipykernel_213204/3639310771.py:48: FutureWarning: DataFrame.applymap has been deprecated. Use DataFrame.map instead.\n",
      "  df = df[df[columns_to_process].applymap(lambda x: pd.isna(x) or isinstance(x, (int, float))).all(axis=1)]\n",
      "/tmp/ipykernel_213204/3639310771.py:29: FutureWarning: DataFrame.applymap has been deprecated. Use DataFrame.map instead.\n",
      "  df = df.applymap(lambda x: ''.join(c for c in str(x) if c.isalnum() or c == '.'))\n",
      "/tmp/ipykernel_213204/3639310771.py:48: FutureWarning: DataFrame.applymap has been deprecated. Use DataFrame.map instead.\n",
      "  df = df[df[columns_to_process].applymap(lambda x: pd.isna(x) or isinstance(x, (int, float))).all(axis=1)]\n"
     ]
    },
    {
     "name": "stdout",
     "output_type": "stream",
     "text": [
      "0\n",
      "274\n"
     ]
    },
    {
     "name": "stderr",
     "output_type": "stream",
     "text": [
      "/tmp/ipykernel_213204/3639310771.py:29: FutureWarning: DataFrame.applymap has been deprecated. Use DataFrame.map instead.\n",
      "  df = df.applymap(lambda x: ''.join(c for c in str(x) if c.isalnum() or c == '.'))\n",
      "/tmp/ipykernel_213204/3639310771.py:48: FutureWarning: DataFrame.applymap has been deprecated. Use DataFrame.map instead.\n",
      "  df = df[df[columns_to_process].applymap(lambda x: pd.isna(x) or isinstance(x, (int, float))).all(axis=1)]\n"
     ]
    },
    {
     "name": "stdout",
     "output_type": "stream",
     "text": [
      "272\n"
     ]
    },
    {
     "name": "stderr",
     "output_type": "stream",
     "text": [
      "/tmp/ipykernel_213204/3639310771.py:29: FutureWarning: DataFrame.applymap has been deprecated. Use DataFrame.map instead.\n",
      "  df = df.applymap(lambda x: ''.join(c for c in str(x) if c.isalnum() or c == '.'))\n",
      "/tmp/ipykernel_213204/3639310771.py:48: FutureWarning: DataFrame.applymap has been deprecated. Use DataFrame.map instead.\n",
      "  df = df[df[columns_to_process].applymap(lambda x: pd.isna(x) or isinstance(x, (int, float))).all(axis=1)]\n",
      "/tmp/ipykernel_213204/3639310771.py:29: FutureWarning: DataFrame.applymap has been deprecated. Use DataFrame.map instead.\n",
      "  df = df.applymap(lambda x: ''.join(c for c in str(x) if c.isalnum() or c == '.'))\n"
     ]
    },
    {
     "name": "stdout",
     "output_type": "stream",
     "text": [
      "431\n",
      "315\n"
     ]
    },
    {
     "name": "stderr",
     "output_type": "stream",
     "text": [
      "/tmp/ipykernel_213204/3639310771.py:48: FutureWarning: DataFrame.applymap has been deprecated. Use DataFrame.map instead.\n",
      "  df = df[df[columns_to_process].applymap(lambda x: pd.isna(x) or isinstance(x, (int, float))).all(axis=1)]\n",
      "/tmp/ipykernel_213204/3639310771.py:29: FutureWarning: DataFrame.applymap has been deprecated. Use DataFrame.map instead.\n",
      "  df = df.applymap(lambda x: ''.join(c for c in str(x) if c.isalnum() or c == '.'))\n",
      "/tmp/ipykernel_213204/3639310771.py:48: FutureWarning: DataFrame.applymap has been deprecated. Use DataFrame.map instead.\n",
      "  df = df[df[columns_to_process].applymap(lambda x: pd.isna(x) or isinstance(x, (int, float))).all(axis=1)]\n",
      "/tmp/ipykernel_213204/3639310771.py:29: FutureWarning: DataFrame.applymap has been deprecated. Use DataFrame.map instead.\n",
      "  df = df.applymap(lambda x: ''.join(c for c in str(x) if c.isalnum() or c == '.'))\n",
      "/tmp/ipykernel_213204/3639310771.py:48: FutureWarning: DataFrame.applymap has been deprecated. Use DataFrame.map instead.\n",
      "  df = df[df[columns_to_process].applymap(lambda x: pd.isna(x) or isinstance(x, (int, float))).all(axis=1)]\n"
     ]
    },
    {
     "name": "stdout",
     "output_type": "stream",
     "text": [
      "21\n",
      "10\n"
     ]
    },
    {
     "name": "stderr",
     "output_type": "stream",
     "text": [
      "/tmp/ipykernel_213204/3639310771.py:29: FutureWarning: DataFrame.applymap has been deprecated. Use DataFrame.map instead.\n",
      "  df = df.applymap(lambda x: ''.join(c for c in str(x) if c.isalnum() or c == '.'))\n",
      "/tmp/ipykernel_213204/3639310771.py:48: FutureWarning: DataFrame.applymap has been deprecated. Use DataFrame.map instead.\n",
      "  df = df[df[columns_to_process].applymap(lambda x: pd.isna(x) or isinstance(x, (int, float))).all(axis=1)]\n",
      "/tmp/ipykernel_213204/3639310771.py:29: FutureWarning: DataFrame.applymap has been deprecated. Use DataFrame.map instead.\n",
      "  df = df.applymap(lambda x: ''.join(c for c in str(x) if c.isalnum() or c == '.'))\n",
      "/tmp/ipykernel_213204/3639310771.py:48: FutureWarning: DataFrame.applymap has been deprecated. Use DataFrame.map instead.\n",
      "  df = df[df[columns_to_process].applymap(lambda x: pd.isna(x) or isinstance(x, (int, float))).all(axis=1)]\n",
      "/tmp/ipykernel_213204/3639310771.py:29: FutureWarning: DataFrame.applymap has been deprecated. Use DataFrame.map instead.\n",
      "  df = df.applymap(lambda x: ''.join(c for c in str(x) if c.isalnum() or c == '.'))\n",
      "/tmp/ipykernel_213204/3639310771.py:48: FutureWarning: DataFrame.applymap has been deprecated. Use DataFrame.map instead.\n",
      "  df = df[df[columns_to_process].applymap(lambda x: pd.isna(x) or isinstance(x, (int, float))).all(axis=1)]\n"
     ]
    },
    {
     "name": "stdout",
     "output_type": "stream",
     "text": [
      "1\n",
      "301\n",
      "1\n"
     ]
    },
    {
     "name": "stderr",
     "output_type": "stream",
     "text": [
      "/tmp/ipykernel_213204/3639310771.py:29: FutureWarning: DataFrame.applymap has been deprecated. Use DataFrame.map instead.\n",
      "  df = df.applymap(lambda x: ''.join(c for c in str(x) if c.isalnum() or c == '.'))\n",
      "/tmp/ipykernel_213204/3639310771.py:48: FutureWarning: DataFrame.applymap has been deprecated. Use DataFrame.map instead.\n",
      "  df = df[df[columns_to_process].applymap(lambda x: pd.isna(x) or isinstance(x, (int, float))).all(axis=1)]\n",
      "/tmp/ipykernel_213204/3639310771.py:29: FutureWarning: DataFrame.applymap has been deprecated. Use DataFrame.map instead.\n",
      "  df = df.applymap(lambda x: ''.join(c for c in str(x) if c.isalnum() or c == '.'))\n"
     ]
    },
    {
     "name": "stdout",
     "output_type": "stream",
     "text": [
      "254\n"
     ]
    },
    {
     "name": "stderr",
     "output_type": "stream",
     "text": [
      "/tmp/ipykernel_213204/3639310771.py:48: FutureWarning: DataFrame.applymap has been deprecated. Use DataFrame.map instead.\n",
      "  df = df[df[columns_to_process].applymap(lambda x: pd.isna(x) or isinstance(x, (int, float))).all(axis=1)]\n",
      "/tmp/ipykernel_213204/3639310771.py:29: FutureWarning: DataFrame.applymap has been deprecated. Use DataFrame.map instead.\n",
      "  df = df.applymap(lambda x: ''.join(c for c in str(x) if c.isalnum() or c == '.'))\n",
      "/tmp/ipykernel_213204/3639310771.py:32: FutureWarning: Downcasting behavior in `replace` is deprecated and will be removed in a future version. To retain the old behavior, explicitly call `result.infer_objects(copy=False)`. To opt-in to the future behavior, set `pd.set_option('future.no_silent_downcasting', True)`\n",
      "  df.replace(to_replace='^nan$', value=np.nan, regex=True, inplace=True)\n",
      "/tmp/ipykernel_213204/3639310771.py:48: FutureWarning: DataFrame.applymap has been deprecated. Use DataFrame.map instead.\n",
      "  df = df[df[columns_to_process].applymap(lambda x: pd.isna(x) or isinstance(x, (int, float))).all(axis=1)]\n"
     ]
    },
    {
     "name": "stdout",
     "output_type": "stream",
     "text": [
      "288\n",
      "0\n"
     ]
    },
    {
     "name": "stderr",
     "output_type": "stream",
     "text": [
      "/tmp/ipykernel_213204/3639310771.py:29: FutureWarning: DataFrame.applymap has been deprecated. Use DataFrame.map instead.\n",
      "  df = df.applymap(lambda x: ''.join(c for c in str(x) if c.isalnum() or c == '.'))\n",
      "/tmp/ipykernel_213204/3639310771.py:48: FutureWarning: DataFrame.applymap has been deprecated. Use DataFrame.map instead.\n",
      "  df = df[df[columns_to_process].applymap(lambda x: pd.isna(x) or isinstance(x, (int, float))).all(axis=1)]\n",
      "/tmp/ipykernel_213204/3639310771.py:29: FutureWarning: DataFrame.applymap has been deprecated. Use DataFrame.map instead.\n",
      "  df = df.applymap(lambda x: ''.join(c for c in str(x) if c.isalnum() or c == '.'))\n",
      "/tmp/ipykernel_213204/3639310771.py:48: FutureWarning: DataFrame.applymap has been deprecated. Use DataFrame.map instead.\n",
      "  df = df[df[columns_to_process].applymap(lambda x: pd.isna(x) or isinstance(x, (int, float))).all(axis=1)]\n"
     ]
    },
    {
     "name": "stdout",
     "output_type": "stream",
     "text": [
      "238\n",
      "321\n"
     ]
    },
    {
     "name": "stderr",
     "output_type": "stream",
     "text": [
      "/tmp/ipykernel_213204/3639310771.py:29: FutureWarning: DataFrame.applymap has been deprecated. Use DataFrame.map instead.\n",
      "  df = df.applymap(lambda x: ''.join(c for c in str(x) if c.isalnum() or c == '.'))\n",
      "/tmp/ipykernel_213204/3639310771.py:48: FutureWarning: DataFrame.applymap has been deprecated. Use DataFrame.map instead.\n",
      "  df = df[df[columns_to_process].applymap(lambda x: pd.isna(x) or isinstance(x, (int, float))).all(axis=1)]\n",
      "/tmp/ipykernel_213204/3639310771.py:29: FutureWarning: DataFrame.applymap has been deprecated. Use DataFrame.map instead.\n",
      "  df = df.applymap(lambda x: ''.join(c for c in str(x) if c.isalnum() or c == '.'))\n",
      "/tmp/ipykernel_213204/3639310771.py:48: FutureWarning: DataFrame.applymap has been deprecated. Use DataFrame.map instead.\n",
      "  df = df[df[columns_to_process].applymap(lambda x: pd.isna(x) or isinstance(x, (int, float))).all(axis=1)]\n"
     ]
    },
    {
     "name": "stdout",
     "output_type": "stream",
     "text": [
      "287\n",
      "Error processing combined_JSON_Maharastra_LokSabha_2014_AC_165.json.xlsx: index 2 is out of bounds for axis 0 with size 0\n",
      "0\n"
     ]
    },
    {
     "name": "stderr",
     "output_type": "stream",
     "text": [
      "/tmp/ipykernel_213204/3639310771.py:29: FutureWarning: DataFrame.applymap has been deprecated. Use DataFrame.map instead.\n",
      "  df = df.applymap(lambda x: ''.join(c for c in str(x) if c.isalnum() or c == '.'))\n",
      "/tmp/ipykernel_213204/3639310771.py:32: FutureWarning: Downcasting behavior in `replace` is deprecated and will be removed in a future version. To retain the old behavior, explicitly call `result.infer_objects(copy=False)`. To opt-in to the future behavior, set `pd.set_option('future.no_silent_downcasting', True)`\n",
      "  df.replace(to_replace='^nan$', value=np.nan, regex=True, inplace=True)\n",
      "/tmp/ipykernel_213204/3639310771.py:48: FutureWarning: DataFrame.applymap has been deprecated. Use DataFrame.map instead.\n",
      "  df = df[df[columns_to_process].applymap(lambda x: pd.isna(x) or isinstance(x, (int, float))).all(axis=1)]\n"
     ]
    },
    {
     "name": "stdout",
     "output_type": "stream",
     "text": [
      "261\n"
     ]
    },
    {
     "name": "stderr",
     "output_type": "stream",
     "text": [
      "/tmp/ipykernel_213204/3639310771.py:29: FutureWarning: DataFrame.applymap has been deprecated. Use DataFrame.map instead.\n",
      "  df = df.applymap(lambda x: ''.join(c for c in str(x) if c.isalnum() or c == '.'))\n",
      "/tmp/ipykernel_213204/3639310771.py:48: FutureWarning: DataFrame.applymap has been deprecated. Use DataFrame.map instead.\n",
      "  df = df[df[columns_to_process].applymap(lambda x: pd.isna(x) or isinstance(x, (int, float))).all(axis=1)]\n"
     ]
    },
    {
     "name": "stdout",
     "output_type": "stream",
     "text": [
      "341\n"
     ]
    },
    {
     "name": "stderr",
     "output_type": "stream",
     "text": [
      "/tmp/ipykernel_213204/3639310771.py:29: FutureWarning: DataFrame.applymap has been deprecated. Use DataFrame.map instead.\n",
      "  df = df.applymap(lambda x: ''.join(c for c in str(x) if c.isalnum() or c == '.'))\n",
      "/tmp/ipykernel_213204/3639310771.py:48: FutureWarning: DataFrame.applymap has been deprecated. Use DataFrame.map instead.\n",
      "  df = df[df[columns_to_process].applymap(lambda x: pd.isna(x) or isinstance(x, (int, float))).all(axis=1)]\n",
      "/tmp/ipykernel_213204/3639310771.py:29: FutureWarning: DataFrame.applymap has been deprecated. Use DataFrame.map instead.\n",
      "  df = df.applymap(lambda x: ''.join(c for c in str(x) if c.isalnum() or c == '.'))\n"
     ]
    },
    {
     "name": "stdout",
     "output_type": "stream",
     "text": [
      "7\n",
      "11\n"
     ]
    },
    {
     "name": "stderr",
     "output_type": "stream",
     "text": [
      "/tmp/ipykernel_213204/3639310771.py:48: FutureWarning: DataFrame.applymap has been deprecated. Use DataFrame.map instead.\n",
      "  df = df[df[columns_to_process].applymap(lambda x: pd.isna(x) or isinstance(x, (int, float))).all(axis=1)]\n",
      "/tmp/ipykernel_213204/3639310771.py:29: FutureWarning: DataFrame.applymap has been deprecated. Use DataFrame.map instead.\n",
      "  df = df.applymap(lambda x: ''.join(c for c in str(x) if c.isalnum() or c == '.'))\n",
      "/tmp/ipykernel_213204/3639310771.py:48: FutureWarning: DataFrame.applymap has been deprecated. Use DataFrame.map instead.\n",
      "  df = df[df[columns_to_process].applymap(lambda x: pd.isna(x) or isinstance(x, (int, float))).all(axis=1)]\n"
     ]
    },
    {
     "name": "stdout",
     "output_type": "stream",
     "text": [
      "0\n",
      "339\n"
     ]
    },
    {
     "name": "stderr",
     "output_type": "stream",
     "text": [
      "/tmp/ipykernel_213204/3639310771.py:29: FutureWarning: DataFrame.applymap has been deprecated. Use DataFrame.map instead.\n",
      "  df = df.applymap(lambda x: ''.join(c for c in str(x) if c.isalnum() or c == '.'))\n",
      "/tmp/ipykernel_213204/3639310771.py:48: FutureWarning: DataFrame.applymap has been deprecated. Use DataFrame.map instead.\n",
      "  df = df[df[columns_to_process].applymap(lambda x: pd.isna(x) or isinstance(x, (int, float))).all(axis=1)]\n",
      "/tmp/ipykernel_213204/3639310771.py:29: FutureWarning: DataFrame.applymap has been deprecated. Use DataFrame.map instead.\n",
      "  df = df.applymap(lambda x: ''.join(c for c in str(x) if c.isalnum() or c == '.'))\n",
      "/tmp/ipykernel_213204/3639310771.py:32: FutureWarning: Downcasting behavior in `replace` is deprecated and will be removed in a future version. To retain the old behavior, explicitly call `result.infer_objects(copy=False)`. To opt-in to the future behavior, set `pd.set_option('future.no_silent_downcasting', True)`\n",
      "  df.replace(to_replace='^nan$', value=np.nan, regex=True, inplace=True)\n",
      "/tmp/ipykernel_213204/3639310771.py:48: FutureWarning: DataFrame.applymap has been deprecated. Use DataFrame.map instead.\n",
      "  df = df[df[columns_to_process].applymap(lambda x: pd.isna(x) or isinstance(x, (int, float))).all(axis=1)]\n",
      "/tmp/ipykernel_213204/3639310771.py:29: FutureWarning: DataFrame.applymap has been deprecated. Use DataFrame.map instead.\n",
      "  df = df.applymap(lambda x: ''.join(c for c in str(x) if c.isalnum() or c == '.'))\n",
      "/tmp/ipykernel_213204/3639310771.py:32: FutureWarning: Downcasting behavior in `replace` is deprecated and will be removed in a future version. To retain the old behavior, explicitly call `result.infer_objects(copy=False)`. To opt-in to the future behavior, set `pd.set_option('future.no_silent_downcasting', True)`\n",
      "  df.replace(to_replace='^nan$', value=np.nan, regex=True, inplace=True)\n",
      "/tmp/ipykernel_213204/3639310771.py:48: FutureWarning: DataFrame.applymap has been deprecated. Use DataFrame.map instead.\n",
      "  df = df[df[columns_to_process].applymap(lambda x: pd.isna(x) or isinstance(x, (int, float))).all(axis=1)]\n"
     ]
    },
    {
     "name": "stdout",
     "output_type": "stream",
     "text": [
      "43\n",
      "53\n",
      "23\n"
     ]
    },
    {
     "name": "stderr",
     "output_type": "stream",
     "text": [
      "/tmp/ipykernel_213204/3639310771.py:29: FutureWarning: DataFrame.applymap has been deprecated. Use DataFrame.map instead.\n",
      "  df = df.applymap(lambda x: ''.join(c for c in str(x) if c.isalnum() or c == '.'))\n",
      "/tmp/ipykernel_213204/3639310771.py:48: FutureWarning: DataFrame.applymap has been deprecated. Use DataFrame.map instead.\n",
      "  df = df[df[columns_to_process].applymap(lambda x: pd.isna(x) or isinstance(x, (int, float))).all(axis=1)]\n",
      "/tmp/ipykernel_213204/3639310771.py:29: FutureWarning: DataFrame.applymap has been deprecated. Use DataFrame.map instead.\n",
      "  df = df.applymap(lambda x: ''.join(c for c in str(x) if c.isalnum() or c == '.'))\n",
      "/tmp/ipykernel_213204/3639310771.py:48: FutureWarning: DataFrame.applymap has been deprecated. Use DataFrame.map instead.\n",
      "  df = df[df[columns_to_process].applymap(lambda x: pd.isna(x) or isinstance(x, (int, float))).all(axis=1)]\n"
     ]
    },
    {
     "name": "stdout",
     "output_type": "stream",
     "text": [
      "11\n"
     ]
    },
    {
     "name": "stderr",
     "output_type": "stream",
     "text": [
      "/tmp/ipykernel_213204/3639310771.py:29: FutureWarning: DataFrame.applymap has been deprecated. Use DataFrame.map instead.\n",
      "  df = df.applymap(lambda x: ''.join(c for c in str(x) if c.isalnum() or c == '.'))\n",
      "/tmp/ipykernel_213204/3639310771.py:48: FutureWarning: DataFrame.applymap has been deprecated. Use DataFrame.map instead.\n",
      "  df = df[df[columns_to_process].applymap(lambda x: pd.isna(x) or isinstance(x, (int, float))).all(axis=1)]\n",
      "/tmp/ipykernel_213204/3639310771.py:29: FutureWarning: DataFrame.applymap has been deprecated. Use DataFrame.map instead.\n",
      "  df = df.applymap(lambda x: ''.join(c for c in str(x) if c.isalnum() or c == '.'))\n",
      "/tmp/ipykernel_213204/3639310771.py:48: FutureWarning: DataFrame.applymap has been deprecated. Use DataFrame.map instead.\n",
      "  df = df[df[columns_to_process].applymap(lambda x: pd.isna(x) or isinstance(x, (int, float))).all(axis=1)]\n"
     ]
    },
    {
     "name": "stdout",
     "output_type": "stream",
     "text": [
      "354\n",
      "9\n"
     ]
    },
    {
     "name": "stderr",
     "output_type": "stream",
     "text": [
      "/tmp/ipykernel_213204/3639310771.py:29: FutureWarning: DataFrame.applymap has been deprecated. Use DataFrame.map instead.\n",
      "  df = df.applymap(lambda x: ''.join(c for c in str(x) if c.isalnum() or c == '.'))\n",
      "/tmp/ipykernel_213204/3639310771.py:48: FutureWarning: DataFrame.applymap has been deprecated. Use DataFrame.map instead.\n",
      "  df = df[df[columns_to_process].applymap(lambda x: pd.isna(x) or isinstance(x, (int, float))).all(axis=1)]\n",
      "/tmp/ipykernel_213204/3639310771.py:29: FutureWarning: DataFrame.applymap has been deprecated. Use DataFrame.map instead.\n",
      "  df = df.applymap(lambda x: ''.join(c for c in str(x) if c.isalnum() or c == '.'))\n",
      "/tmp/ipykernel_213204/3639310771.py:32: FutureWarning: Downcasting behavior in `replace` is deprecated and will be removed in a future version. To retain the old behavior, explicitly call `result.infer_objects(copy=False)`. To opt-in to the future behavior, set `pd.set_option('future.no_silent_downcasting', True)`\n",
      "  df.replace(to_replace='^nan$', value=np.nan, regex=True, inplace=True)\n",
      "/tmp/ipykernel_213204/3639310771.py:48: FutureWarning: DataFrame.applymap has been deprecated. Use DataFrame.map instead.\n",
      "  df = df[df[columns_to_process].applymap(lambda x: pd.isna(x) or isinstance(x, (int, float))).all(axis=1)]\n"
     ]
    },
    {
     "name": "stdout",
     "output_type": "stream",
     "text": [
      "0\n",
      "1\n"
     ]
    },
    {
     "name": "stderr",
     "output_type": "stream",
     "text": [
      "/tmp/ipykernel_213204/3639310771.py:29: FutureWarning: DataFrame.applymap has been deprecated. Use DataFrame.map instead.\n",
      "  df = df.applymap(lambda x: ''.join(c for c in str(x) if c.isalnum() or c == '.'))\n",
      "/tmp/ipykernel_213204/3639310771.py:48: FutureWarning: DataFrame.applymap has been deprecated. Use DataFrame.map instead.\n",
      "  df = df[df[columns_to_process].applymap(lambda x: pd.isna(x) or isinstance(x, (int, float))).all(axis=1)]\n",
      "/tmp/ipykernel_213204/3639310771.py:29: FutureWarning: DataFrame.applymap has been deprecated. Use DataFrame.map instead.\n",
      "  df = df.applymap(lambda x: ''.join(c for c in str(x) if c.isalnum() or c == '.'))\n",
      "/tmp/ipykernel_213204/3639310771.py:48: FutureWarning: DataFrame.applymap has been deprecated. Use DataFrame.map instead.\n",
      "  df = df[df[columns_to_process].applymap(lambda x: pd.isna(x) or isinstance(x, (int, float))).all(axis=1)]\n"
     ]
    },
    {
     "name": "stdout",
     "output_type": "stream",
     "text": [
      "1\n",
      "114\n"
     ]
    },
    {
     "name": "stderr",
     "output_type": "stream",
     "text": [
      "/tmp/ipykernel_213204/3639310771.py:29: FutureWarning: DataFrame.applymap has been deprecated. Use DataFrame.map instead.\n",
      "  df = df.applymap(lambda x: ''.join(c for c in str(x) if c.isalnum() or c == '.'))\n",
      "/tmp/ipykernel_213204/3639310771.py:48: FutureWarning: DataFrame.applymap has been deprecated. Use DataFrame.map instead.\n",
      "  df = df[df[columns_to_process].applymap(lambda x: pd.isna(x) or isinstance(x, (int, float))).all(axis=1)]\n",
      "/tmp/ipykernel_213204/3639310771.py:29: FutureWarning: DataFrame.applymap has been deprecated. Use DataFrame.map instead.\n",
      "  df = df.applymap(lambda x: ''.join(c for c in str(x) if c.isalnum() or c == '.'))\n",
      "/tmp/ipykernel_213204/3639310771.py:48: FutureWarning: DataFrame.applymap has been deprecated. Use DataFrame.map instead.\n",
      "  df = df[df[columns_to_process].applymap(lambda x: pd.isna(x) or isinstance(x, (int, float))).all(axis=1)]\n",
      "/tmp/ipykernel_213204/3639310771.py:29: FutureWarning: DataFrame.applymap has been deprecated. Use DataFrame.map instead.\n",
      "  df = df.applymap(lambda x: ''.join(c for c in str(x) if c.isalnum() or c == '.'))\n"
     ]
    },
    {
     "name": "stdout",
     "output_type": "stream",
     "text": [
      "0\n",
      "23\n"
     ]
    },
    {
     "name": "stderr",
     "output_type": "stream",
     "text": [
      "/tmp/ipykernel_213204/3639310771.py:48: FutureWarning: DataFrame.applymap has been deprecated. Use DataFrame.map instead.\n",
      "  df = df[df[columns_to_process].applymap(lambda x: pd.isna(x) or isinstance(x, (int, float))).all(axis=1)]\n",
      "/tmp/ipykernel_213204/3639310771.py:29: FutureWarning: DataFrame.applymap has been deprecated. Use DataFrame.map instead.\n",
      "  df = df.applymap(lambda x: ''.join(c for c in str(x) if c.isalnum() or c == '.'))\n",
      "/tmp/ipykernel_213204/3639310771.py:48: FutureWarning: DataFrame.applymap has been deprecated. Use DataFrame.map instead.\n",
      "  df = df[df[columns_to_process].applymap(lambda x: pd.isna(x) or isinstance(x, (int, float))).all(axis=1)]\n"
     ]
    },
    {
     "name": "stdout",
     "output_type": "stream",
     "text": [
      "269\n",
      "7\n",
      "1\n",
      "Results saved to mismatch_results.csv\n"
     ]
    },
    {
     "name": "stderr",
     "output_type": "stream",
     "text": [
      "/tmp/ipykernel_213204/3639310771.py:29: FutureWarning: DataFrame.applymap has been deprecated. Use DataFrame.map instead.\n",
      "  df = df.applymap(lambda x: ''.join(c for c in str(x) if c.isalnum() or c == '.'))\n",
      "/tmp/ipykernel_213204/3639310771.py:48: FutureWarning: DataFrame.applymap has been deprecated. Use DataFrame.map instead.\n",
      "  df = df[df[columns_to_process].applymap(lambda x: pd.isna(x) or isinstance(x, (int, float))).all(axis=1)]\n"
     ]
    }
   ],
   "source": [
    "folder_path = 'results/Parsed_Excel/Maharastra/LokSabha Election 2014'\n",
    "mismatch_results = check_all_files(folder_path,2014)\n",
    "# print(mismatch_results)"
   ]
  },
  {
   "cell_type": "code",
   "execution_count": null,
   "metadata": {},
   "outputs": [],
   "source": []
  }
 ],
 "metadata": {
  "kernelspec": {
   "display_name": "Python 3",
   "language": "python",
   "name": "python3"
  },
  "language_info": {
   "codemirror_mode": {
    "name": "ipython",
    "version": 3
   },
   "file_extension": ".py",
   "mimetype": "text/x-python",
   "name": "python",
   "nbconvert_exporter": "python",
   "pygments_lexer": "ipython3",
   "version": "3.10.12"
  }
 },
 "nbformat": 4,
 "nbformat_minor": 2
}
