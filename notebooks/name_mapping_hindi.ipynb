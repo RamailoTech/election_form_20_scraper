{
 "cells": [
  {
   "cell_type": "code",
   "execution_count": 4,
   "metadata": {},
   "outputs": [],
   "source": [
    "import json\n",
    "import os\n",
    "import re\n",
    "\n",
    "# Function to extract mapping entries from a JSON file\n",
    "def extract_mapping_entries(filename):\n",
    "    match = re.search(r'JSON_([a-zA-Z]+)_(\\d{4})_AC_(\\d{2}).json', filename)\n",
    "    # match = re.search(r'JSON_([a-zA-Z]+)_(\\d{4})_AC_(AC\\d{2})Form\\d{2}\\.json',filename)\n",
    "    # match = re.search(r'JSON_([a-zA-Z]+)_LokSabha_Election_(\\d{4})_AC_(\\d{3}).json', filename)\n",
    "\n",
    "    # match = re.search(r\"Form20-(\\d+)\", filename)\n",
    "    # match = re.search(r'JSON_([a-zA-Z]+)_(\\d{4})_AC_(AC\\d{2})Form\\d{2}\\.json',filename)\n",
    "    \n",
    "    if match:\n",
    "        # state = match.group(1).lower()  # Convert state name to lowercase\n",
    "        # state = match.group(1).lower()\n",
    "        state = 'chhattisgarh'\n",
    "        year = int(match.group(2))\n",
    "        AC = int(match.group(3))\n",
    "    else:\n",
    "        print(f\"Filename {filename} does not match expected format.\")\n",
    "        return []\n",
    "\n",
    "    with open(filename) as f:\n",
    "        data = json.load(f)\n",
    "\n",
    "    table = data['tables'][0]\n",
    "    col_headers = []\n",
    "    cells = table.get('cells')\n",
    "\n",
    "    for i in range(1,table.get('column_count')):\n",
    "        col_cells = [cell for cell in cells if cell.get('column_index') == i and cell.get('kind') == 'columnHeader' and cell.get('column_span') == 1]\n",
    "                \n",
    "        # contents = [cell.get('content') for cell in col_cells]\n",
    "        # unwanted_terms = [\"NOTA\", \"None\", \"station\", \"polling\", \"total\", \"vote\", \"rendered\", \"rejected\", \"valid\", \"serial\"]\n",
    "        unwanted_terms = [\"मतदान\",\"केन्द्र\",\"क्रम\",\"संख्या\",\"अवन\",\"प्रयाग\",\"प्रशिक्षित\",\"योग\",\"विधिमान्य\",\"मतों\",\"नोटा\",\"एनओटीए\",\"निविदत्त\",\"कुल\",\"NOTA\",\"निविदत\",\"अस्वीकृत\",\"स.क.\",\"इनमें\" ,\"कोई\",\"नही\",\"पार्टी\",\"बहुजन\",\"मुक्ति\",\"समाज\",\"इंडियन\",\"नेशनल\",\"कौंग्रेस\",\"छत्तीसगढ़\",\"स्वाभिमान\",\"मंच\",\"आबडकराइट\",\"ऑफ\",\"आम\",\"आदमी\",\"निर्दलीय\",\"बहुजन\",\"(भा.ज.पा.)\",\"(ब.स.पा.)\",\"(इं.ने.कां.)\",\"(आ.आ.पा.)\",\"(जद यू.)\",\"(निर्दलीय)\",\"विकल्प\",\"जनता\",\"छत्तीसगढ़\",\"(जे)\",\"आम\", \"आदमी\" ]\n",
    "        # unwanted_terms = [\"मतदान\",\"केन्द्र\",\"क्रम\",\"संख्या\",\"अवन\",\"प्रयाग\",\"प्रशिक्षित\",\"विधिमान्य\",\"मतों\",\"नोटा\",\"एनओटीए\",\"निविदत्त\",\"कुल\",\"NOTA\",\"निविदत\",\"अस्वीकृत\",\"स.क.\",\"इनमें\" ,\"कोई\",\"नही\",\"पार्टी\",\"बहुजन\",\"मुक्ति\",\"समाज\",\"इंडियन\",\"नेशनल\",\"कौंग्रेस\",\"छत्तीसगढ़\",\"स्वाभिमान\",\"मंच\",\"आबडकराइट\",\"ऑफ\",\"आम\",\"आदमी\",\"निर्दलीय\",\"बहुजन\",\"(भा.ज.पा.)\",\"(ब.स.पा.)\",\"(इं.ने.कां.)\",\"(आ.आ.पा.)\",\"(जद यू.)\",\"(निर्दलीय)\"]\n",
    "        \n",
    "\n",
    "        # Filtering out the cells whose content contains any of the unwanted terms\n",
    "        contents = [cell.get('content') for cell in col_cells if not any(term.lower() in (cell.get('content') or \"\").replace(\" \", \"\").replace(\"\\n\",\"\").lower() for term in unwanted_terms)]\n",
    "  \n",
    "        # contents = [content for content in contents if re.search(r'[a-zA-Z0-9]', content) and len(content) > 4]\n",
    "        contents = [content for content in contents if re.search(r'[\\u0900-\\u097F]', content) and len(content) > 2]\n",
    "\n",
    "        content = contents[0] if len(contents) else None\n",
    "        if content: \n",
    "            col_headers.append({\n",
    "                \"name\": content.replace('\\n', ' ').strip(),\n",
    "                \"index\" : i + 1 \n",
    "            })\n",
    "\n",
    "    mapping_entries = []\n",
    "    for column in col_headers:\n",
    "        name = column.get('name')\n",
    "        # name = re.sub(r'[^\\x00-\\x7F]+', '', name)\n",
    "        name = re.sub(r'[^ऀ-ॿ\\s]+', '', name)\n",
    "        mapping_entry = {\n",
    "            \"state\": state,\n",
    "            \"year\": year,\n",
    "            \"AC\": AC,\n",
    "            \"name\": name,\n",
    "            \"column\": column.get('index'),\n",
    "        }\n",
    "        mapping_entries.append(mapping_entry)\n",
    "\n",
    "    return mapping_entries\n"
   ]
  },
  {
   "cell_type": "code",
   "execution_count": 5,
   "metadata": {},
   "outputs": [
    {
     "name": "stdout",
     "output_type": "stream",
     "text": [
      "[{'state': 'chhattisgarh', 'year': 2023, 'AC': 79, 'name': 'रूपसिंह पोटाई मोड़डू', 'column': 2}, {'state': 'chhattisgarh', 'year': 2023, 'AC': 79, 'name': 'संतराम सलाम', 'column': 4}, {'state': 'chhattisgarh', 'year': 2023, 'AC': 79, 'name': 'नरहर देव गावड़े', 'column': 5}, {'state': 'chhattisgarh', 'year': 2023, 'AC': 79, 'name': 'मानचु मण्डावी', 'column': 6}, {'state': 'chhattisgarh', 'year': 2023, 'AC': 79, 'name': 'लिलाधर कोरेटी', 'column': 7}, {'state': 'chhattisgarh', 'year': 2023, 'AC': 79, 'name': 'शिव प्रसाद गोटा', 'column': 8}, {'state': 'chhattisgarh', 'year': 2023, 'AC': 79, 'name': 'सुरेन्द्र कुमार दर्रो', 'column': 9}, {'state': 'chhattisgarh', 'year': 2023, 'AC': 79, 'name': 'अनूप नाग', 'column': 10}, {'state': 'chhattisgarh', 'year': 2023, 'AC': 79, 'name': 'मन्तू राम पवार', 'column': 11}, {'state': 'chhattisgarh', 'year': 2023, 'AC': 79, 'name': 'रमेश मंडावी', 'column': 12}, {'state': 'chhattisgarh', 'year': 2023, 'AC': 79, 'name': 'राम नारायण उसेन्डी', 'column': 13}, {'state': 'chhattisgarh', 'year': 2023, 'AC': 79, 'name': 'सन्तु राम नुरूटी', 'column': 14}]\n"
     ]
    }
   ],
   "source": [
    "folder_path = 'results/Parsed_Pdfs/Chhattisgarh/AE_2023'\n",
    "\n",
    "# folder_path = 'results/Parsed_Pdfs/Chhattisgarh/AE_2018'\n",
    "# folder_path = 'results/Parsed_Pdfs/Maharastra/Lok Sabha Election 2019'\n",
    "final_mapping_entries = []\n",
    "\n",
    "# Iterate over all files in the folder\n",
    "for filename in os.listdir(folder_path):\n",
    "    if filename.endswith(\"79.json\"):\n",
    "        file_path = os.path.join(folder_path, filename)\n",
    "        mapping_entries = extract_mapping_entries(file_path)\n",
    "        final_mapping_entries.extend(mapping_entries)\n",
    "print(final_mapping_entries)\n",
    "\n",
    "        \n",
    "\n",
    "state = 'chhattisgarh'\n",
    "year = 2023\n",
    "# type = 'GA'\n",
    "type = 'AE'\n",
    "# Write final mapping entries to a JSON file\n",
    "final_mapping_filename = f'results/name_mappings/{state}_{year}_{type}.json'\n",
    "\n",
    "with open(final_mapping_filename, 'w') as f:\n",
    "    json.dump(final_mapping_entries, f, indent=4)\n",
    "\n",
    "# print(f\"Final mapping file created: {final_mapping_filename}\")\n"
   ]
  },
  {
   "cell_type": "code",
   "execution_count": 9,
   "metadata": {},
   "outputs": [],
   "source": [
    "import json\n",
    "\n",
    "# Read the existing JSON file\n",
    "with open('results/name_mappings/chhattisgarh_2023_AE.json', 'r', encoding='utf-8') as file:\n",
    "    data = json.load(file)\n",
    "\n",
    "# Write the data back to a new JSON file with literal Devanagari characters\n",
    "with open('results/name_mappings/chhattisgarh_2023_AE_hindi_casted.json', 'w', encoding='utf-8') as file:\n",
    "    json.dump(data, file, ensure_ascii=False, indent=4)\n"
   ]
  },
  {
   "cell_type": "code",
   "execution_count": null,
   "metadata": {},
   "outputs": [],
   "source": []
  },
  {
   "cell_type": "code",
   "execution_count": null,
   "metadata": {},
   "outputs": [],
   "source": []
  }
 ],
 "metadata": {
  "kernelspec": {
   "display_name": "Python 3",
   "language": "python",
   "name": "python3"
  },
  "language_info": {
   "codemirror_mode": {
    "name": "ipython",
    "version": 3
   },
   "file_extension": ".py",
   "mimetype": "text/x-python",
   "name": "python",
   "nbconvert_exporter": "python",
   "pygments_lexer": "ipython3",
   "version": "3.10.12"
  }
 },
 "nbformat": 4,
 "nbformat_minor": 2
}
