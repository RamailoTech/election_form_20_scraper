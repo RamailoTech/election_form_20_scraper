{
 "cells": [
  {
   "cell_type": "code",
   "execution_count": 2,
   "metadata": {},
   "outputs": [],
   "source": [
    "import os \n",
    "import pandas as pd \n",
    "import numpy as np "
   ]
  },
  {
   "cell_type": "code",
   "execution_count": 3,
   "metadata": {},
   "outputs": [
    {
     "name": "stderr",
     "output_type": "stream",
     "text": [
      "/tmp/ipykernel_204337/2797126938.py:2: DtypeWarning: Columns (13,18,19,38,39,40,41,42,43,44,45) have mixed types. Specify dtype option on import or set low_memory=False.\n",
      "  maharashtra_election_df = pd.read_csv(file_name)\n"
     ]
    }
   ],
   "source": [
    "file_name = 'Maharashtra_AE.csv'\n",
    "maharashtra_election_df = pd.read_csv(file_name) \n",
    "\n",
    "file_name = 'Maharashtra_GA.csv'\n",
    "maharashtra_ge_election_df = pd.read_csv(file_name) "
   ]
  },
  {
   "cell_type": "code",
   "execution_count": 4,
   "metadata": {},
   "outputs": [],
   "source": [
    "excel_dir = 'intermediate_tables/MH'\n",
    "years = ['2014', '2019']  # Define the years you want to include\n",
    "excel_files = [] \n",
    "ACS = 288\n"
   ]
  },
  {
   "cell_type": "code",
   "execution_count": 5,
   "metadata": {},
   "outputs": [],
   "source": [
    "import os\n",
    "import pandas as pd\n",
    "from functools import reduce\n",
    "\n",
    "def generate_swing_and_strong_booths_df(AC, years, excel_dir):\n",
    "    # Prepare to collect the file paths\n",
    "    excel_files = []\n",
    "    for dirpath, dirnames, filenames in os.walk(excel_dir):\n",
    "        for year in years:\n",
    "            if os.path.basename(dirpath) == year:  # Checking directory names against the specified years\n",
    "                for filename in filenames:\n",
    "                    if filename == f\"{AC}.xlsx\":  # Looking for specific Excel files\n",
    "                        full_path = os.path.join(dirpath, filename)\n",
    "                        excel_files.append(full_path)\n",
    "\n",
    "    # Reading and merging Excel files\n",
    "    merged_dfs = []\n",
    "    for excel_file in excel_files:\n",
    "        df = pd.read_excel(excel_file)\n",
    "        year = os.path.basename(os.path.dirname(excel_file))  # Assuming folder names are the years\n",
    "        if 'INC_Status' in df.columns:\n",
    "            df.rename(columns={'INC_Status': year}, inplace=True)\n",
    "        df.dropna(subset=['SN'], inplace=True)\n",
    "        df['SN'] = df['SN'].astype(int)\n",
    "        if year in df.columns:  # Check if the 'year' column was successfully added\n",
    "            merged_dfs.append(df[['SN', year]])\n",
    "\n",
    "    # Use reduce to merge all dataframes on 'SN' using an outer join, with an initial value in case of an empty list\n",
    "    if len(merged_dfs):\n",
    "        merged_df = reduce(lambda left, right: pd.merge(left, right, on='SN', how='outer'), merged_dfs)\n",
    "    else:\n",
    "        return pd.DataFrame(), pd.DataFrame()  # Return empty DataFrames if no files were processed\n",
    "\n",
    "    # Keeping only the columns for 'SN' and the specified years\n",
    "    valid_years = [year for year in years if year in merged_df.columns]\n",
    "    required_columns = ['SN'] + valid_years\n",
    "    merged_df = merged_df[required_columns]\n",
    "\n",
    "    # Generating strong and swing DataFrames\n",
    "    if valid_years:  # Only process if there are valid year columns\n",
    "        conditions_won = [merged_df[year] == 'WON' for year in valid_years]\n",
    "        strong_df = merged_df[reduce(lambda x, y: x & y, conditions_won)]\n",
    "        swing_df = merged_df[reduce(lambda x, y: x | y, conditions_won)]\n",
    "    else:\n",
    "        strong_df = pd.DataFrame()  # Empty DataFrame if no valid year columns\n",
    "        swing_df = pd.DataFrame()  # Empty DataFrame if no valid year columns\n",
    "\n",
    "    return swing_df, strong_df\n"
   ]
  },
  {
   "cell_type": "code",
   "execution_count": 6,
   "metadata": {},
   "outputs": [],
   "source": [
    "\n",
    "import os \n",
    "\n",
    "\n",
    "def create_strong_and_swing_and_dump_excel_files(ACS,excel_dir, output_dir, years, log_file_name):\n",
    "    for i in range(1, ACS+1):\n",
    "        try: \n",
    "            swing_df, strong_df = generate_swing_and_strong_booths_df(i, years, excel_dir)\n",
    "            \n",
    "            if not os.path.exists(output_dir):\n",
    "                os.makedirs(output_dir)\n",
    "            strong_file_path = f\"{output_dir}/{i}_strong.xlsx\"\n",
    "            strong_df.to_excel(strong_file_path, index=False)\n",
    "            \n",
    "            swing_file_path = f\"{output_dir}/{i}_swing.xlsx\"\n",
    "            swing_df.to_excel(swing_file_path, index=False)\n",
    "\n",
    "        except Exception as exc: \n",
    "            with open(log_file_name, 'a') as f: \n",
    "                f.write(f\"Error processing file: {i} - {exc}\\n\")\n",
    "            continue\n",
    "                "
   ]
  },
  {
   "cell_type": "code",
   "execution_count": 7,
   "metadata": {},
   "outputs": [],
   "source": [
    "excel_dir = 'results/intermediate_tables/MH'\n",
    "years = ['AE_2014', 'GE_2014', '2019'] \n",
    "ACS = 288\n",
    "output_dir = 'results/strong_and_swing_booths/MH' \n",
    "log_file_name = 'logs/maharashtra_election_strong_swing_booths.txt'\n",
    "\n",
    "create_strong_and_swing_and_dump_excel_files(ACS, excel_dir, output_dir, years, log_file_name)"
   ]
  },
  {
   "cell_type": "code",
   "execution_count": null,
   "metadata": {},
   "outputs": [],
   "source": []
  }
 ],
 "metadata": {
  "kernelspec": {
   "display_name": "Python 3",
   "language": "python",
   "name": "python3"
  },
  "language_info": {
   "codemirror_mode": {
    "name": "ipython",
    "version": 3
   },
   "file_extension": ".py",
   "mimetype": "text/x-python",
   "name": "python",
   "nbconvert_exporter": "python",
   "pygments_lexer": "ipython3",
   "version": "3.10.12"
  }
 },
 "nbformat": 4,
 "nbformat_minor": 2
}
