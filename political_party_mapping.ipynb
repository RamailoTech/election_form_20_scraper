{
 "cells": [
  {
   "cell_type": "code",
   "execution_count": 6,
   "metadata": {},
   "outputs": [],
   "source": [
    "import os \n",
    "import pandas as pd \n",
    "import numpy as np \n",
    "\n"
   ]
  },
  {
   "cell_type": "code",
   "execution_count": 7,
   "metadata": {},
   "outputs": [
    {
     "name": "stderr",
     "output_type": "stream",
     "text": [
      "/tmp/ipykernel_235481/116659333.py:8: DtypeWarning: Columns (13,18,19,38,39,40,41,42,43,44,45) have mixed types. Specify dtype option on import or set low_memory=False.\n",
      "  election_df = pd.read_csv(file_name)\n"
     ]
    }
   ],
   "source": [
    "# file_name = 'Maharashtra_AE.csv'\n",
    "# maharashtra_election_df = pd.read_csv(file_name) \n",
    "\n",
    "# file_name = 'Maharashtra_GA.csv'\n",
    "# maharashtra_ge_election_df = pd.read_csv(file_name) \n",
    "\n",
    "file_name = 'data/AE_RAJASTHAN.csv'\n",
    "election_df = pd.read_csv(file_name)\n",
    "\n",
    "def get_parties(year,AC):\n",
    "    top_3 = [1,2,3]\n",
    "    # Define conditions\n",
    "    condition_general = (\n",
    "        (election_df['Year'] == year) &\n",
    "        (election_df['Constituency_No'] == AC) &\n",
    "        (~election_df['Candidate'].isin(['None of the Above', 'NOTA']))\n",
    "    )\n",
    "\n",
    "    condition_inc = (\n",
    "        (election_df['Party'] == 'INC')\n",
    "    )\n",
    "\n",
    "    # Use bitwise OR to combine conditions\n",
    "    filtered_election_df = election_df[\n",
    "        (condition_general & election_df['Position'].isin(top_3)) |\n",
    "        (condition_inc & condition_general)\n",
    "    ]\n",
    "    \n",
    "    return filtered_election_df.sort_values(by='Position', ascending=True)['Party'].tolist()\n"
   ]
  },
  {
   "cell_type": "code",
   "execution_count": 10,
   "metadata": {},
   "outputs": [],
   "source": [
    "# def intermediate_table(df, year):\n",
    "#     constituency = df.iloc[0]['Constituency']\n",
    "#     year = df.iloc[0]['Year']\n",
    "\n",
    "\n",
    "#     # Filter the columns that start with \"col_\" and include \"NOTA\"\n",
    "#     col_columns = [col for col in df.columns if col.startswith('col_') or col == 'NOTA']\n",
    "\n",
    "#     # Calculate the sum of each column\n",
    "#     columns_order_by_position = df[col_columns].sum().sort_values(ascending=False).index.tolist()\n",
    "#     # if year in [2014,2019]:\n",
    "#     #     parties_ordered = maharashtra_election_df[(maharashtra_election_df['Constituency_No'] == constituency) & (maharashtra_election_df['Year'] == year)].sort_values('Position', ascending=True)['Party'].tolist()\n",
    "\n",
    "#     if year in [2014]:\n",
    "#         parties_ordered = maharashtra_ge_election_df[(maharashtra_ge_election_df['Constituency_No'] == constituency) & (maharashtra_ge_election_df['Year'] == year)].sort_values('Position', ascending=True)['Party'].tolist()\n",
    "\n",
    "#     # Create a dictionary for renaming columns: match with parties, keep remaining original if excess\n",
    "#     max_len = len(columns_order_by_position)\n",
    "#     rename_dict = {columns_order_by_position[i]: parties_ordered[i] if i < len(parties_ordered) else columns_order_by_position[i] for i in range(max_len)}\n",
    "\n",
    "#     # Rename the columns in the original dataframe\n",
    "#     df.rename(columns=rename_dict, inplace=True)\n",
    "#     if len(parties_ordered) > len(columns_order_by_position): \n",
    "#         parties_ordered = parties_ordered[:len(columns_order_by_position)]\n",
    "#     cols = pd.Series(df.columns)\n",
    "#     for dup in cols[cols.duplicated()].unique(): \n",
    "#         cols[cols[cols == dup].index.values.tolist()] = [dup + '_' + str(i) if i != 0 else dup for i in range(sum(cols == dup))]\n",
    "#     df.columns = cols\n",
    "    \n",
    "#     # Add INC Status Column\n",
    "#     max_votes_column = df[parties_ordered].idxmax(axis=1)\n",
    "#     df['INC_Status'] = max_votes_column.map(lambda x: 'WON' if x == 'INC' else 'LOSS')\n",
    "\n",
    "    \n",
    "#     # All columns should be integer columns \n",
    "#     df['Polling_Station'] = df['Polling_Station'].fillna(df['SN'])\n",
    "\n",
    "#     top_parties = parties_ordered[:3] \n",
    "\n",
    "#     for party in top_parties:\n",
    "#         df[f'{party} Share%'] = ((df[party] / df['Total']) * 100).round(2)\n",
    "\n",
    "#     # Prepare the columns for the final DataFrame\n",
    "#     final_columns = ['SN', 'Polling_Station', 'Constituency', 'Year'] + [item for party in top_parties for item in (party, f'{party} Share%')] + ['Total','INC_Status']\n",
    "#     final_df = df[final_columns]\n",
    "    \n",
    "#     return final_df, constituency\n",
    "\n",
    "def intermediate_table(df, year):\n",
    "    constituency = df.iloc[0]['Constituency']\n",
    "    year = df.iloc[0]['Year']\n",
    "\n",
    "    parties_ordered = get_parties(year, constituency)\n",
    "    \n",
    "    # Filter the columns that contains parties_ordered and col_ and 'NOTA' \n",
    "    col_columns = [col for col in df.columns if col in parties_ordered or col.startswith('col_') or col == 'NOTA']\n",
    "\n",
    "    cols = pd.Series(df.columns)\n",
    "    for dup in cols[cols.duplicated()].unique(): \n",
    "        cols[cols[cols == dup].index.values.tolist()] = [dup + '_' + str(i) if i != 0 else dup for i in range(sum(cols == dup))]\n",
    "    df.columns = cols\n",
    "    \n",
    "    # Add INC Status Column\n",
    "    max_votes_column = df[col_columns].idxmax(axis=1)\n",
    "    df['INC_Status'] = max_votes_column.map(lambda x: 'WON' if x == 'INC' else 'LOSS')\n",
    "\n",
    "    \n",
    "    top_parties = parties_ordered[:3] \n",
    "\n",
    "    for party in top_parties:\n",
    "        df[f'{party} Share%'] = ((df[party] / df['Total']) * 100).round(2)\n",
    "\n",
    "    # Prepare the columns for the final DataFrame\n",
    "    final_columns = ['SN', 'Constituency', 'Year'] + [item for party in top_parties for item in (party, f'{party} Share%')] + ['Total','INC_Status']\n",
    "    final_df = df[final_columns]\n",
    "    \n",
    "    # delete rows where SN is null\n",
    "    final_df = final_df[final_df['SN'].notnull()]\n",
    "    \n",
    "    return final_df, constituency\n"
   ]
  },
  {
   "cell_type": "code",
   "execution_count": 11,
   "metadata": {},
   "outputs": [],
   "source": [
    "\n",
    "import os \n",
    "\n",
    "\n",
    "def create_intermediate_tables_and_dump_excel_files(excel_dir, output_dir, log_file_name, year):\n",
    "    os.makedirs(output_dir, exist_ok=True)\n",
    "    for filename in os.listdir(excel_dir):\n",
    "        if filename.endswith('.xlsx'):\n",
    "            try: \n",
    "                df = pd.read_excel(os.path.join(excel_dir, filename))\n",
    "                intermediate_df, constituency = intermediate_table(df, year)\n",
    "                output_file_path = os.path.join(output_dir, f\"{constituency}.xlsx\")\n",
    "                intermediate_df.to_excel(output_file_path, index=False)\n",
    "            except Exception as exc: \n",
    "                with open(log_file_name, 'a') as f: \n",
    "                    f.write(f\"Error processing file: {filename} - {exc}\\n\")\n",
    "                continue\n",
    "                "
   ]
  },
  {
   "cell_type": "code",
   "execution_count": 12,
   "metadata": {},
   "outputs": [
    {
     "name": "stderr",
     "output_type": "stream",
     "text": [
      "/tmp/ipykernel_235481/2027755411.py:64: FutureWarning: The behavior of DataFrame.idxmax with all-NA values, or any-NA and skipna=False, is deprecated. In a future version this will raise ValueError\n",
      "  max_votes_column = df[col_columns].idxmax(axis=1)\n"
     ]
    }
   ],
   "source": [
    "# excel_dir = 'results/cleaned_election_data/MH/GE_2014'\n",
    "# output_dir = 'results/intermediate_tables/MH/GE_2014'\n",
    "# log_file_name = \"logs/maharshtra_loksabha_election_intermediate_2014_cleaning_log.txt\"\n",
    "# year = 2014\n",
    "\n",
    "# excel_dir = 'cleaned_election_data/KA/2018'\n",
    "# output_dir = 'intermediate_tables/KA/2018'\n",
    "# log_file_name = \"logs/karnataka_assembly_election_intermediate_2018_cleaning_log.txt\"\n",
    "# year = 2018\n",
    "\n",
    "# excel_dir = 'cleaned_election_data/KA/2014'\n",
    "# output_dir = 'intermediate_tables/KA/2014'\n",
    "# log_file_name = \"logs/karnataka_assembly_election_intermediate_2014_cleaning_log.txt\"\n",
    "# year = 2014\n",
    "\n",
    "excel_dir = 'results/cleaned_election_data/RA/2018'\n",
    "output_dir = 'results/intermediate_tables/RA/2018'\n",
    "log_file_name = \"logs/rajasthan_election_intermediate_2018_log.txt\"\n",
    "year = 2018\n",
    "\n",
    "create_intermediate_tables_and_dump_excel_files(excel_dir, output_dir, log_file_name, year)\n"
   ]
  },
  {
   "cell_type": "code",
   "execution_count": 9,
   "metadata": {},
   "outputs": [
    {
     "name": "stdout",
     "output_type": "stream",
     "text": [
      "(0, 18)\n"
     ]
    },
    {
     "ename": "IndexError",
     "evalue": "single positional indexer is out-of-bounds",
     "output_type": "error",
     "traceback": [
      "\u001b[0;31m---------------------------------------------------------------------------\u001b[0m",
      "\u001b[0;31mIndexError\u001b[0m                                Traceback (most recent call last)",
      "Cell \u001b[0;32mIn[9], line 7\u001b[0m\n\u001b[1;32m      5\u001b[0m df \u001b[38;5;241m=\u001b[39m pd\u001b[38;5;241m.\u001b[39mread_excel(file_path)\n\u001b[1;32m      6\u001b[0m \u001b[38;5;28mprint\u001b[39m(df\u001b[38;5;241m.\u001b[39mshape)\n\u001b[0;32m----> 7\u001b[0m intermediate_df, constituency \u001b[38;5;241m=\u001b[39m \u001b[43mintermediate_table\u001b[49m\u001b[43m(\u001b[49m\u001b[43mdf\u001b[49m\u001b[43m,\u001b[49m\u001b[43m \u001b[49m\u001b[38;5;241;43m2018\u001b[39;49m\u001b[43m)\u001b[49m\n\u001b[1;32m      9\u001b[0m \u001b[38;5;28mprint\u001b[39m(intermediate_df\u001b[38;5;241m.\u001b[39mshape)\n",
      "Cell \u001b[0;32mIn[8], line 50\u001b[0m, in \u001b[0;36mintermediate_table\u001b[0;34m(df, year)\u001b[0m\n\u001b[1;32m     49\u001b[0m \u001b[38;5;28;01mdef\u001b[39;00m \u001b[38;5;21mintermediate_table\u001b[39m(df, year):\n\u001b[0;32m---> 50\u001b[0m     constituency \u001b[38;5;241m=\u001b[39m \u001b[43mdf\u001b[49m\u001b[38;5;241;43m.\u001b[39;49m\u001b[43miloc\u001b[49m\u001b[43m[\u001b[49m\u001b[38;5;241;43m0\u001b[39;49m\u001b[43m]\u001b[49m[\u001b[38;5;124m'\u001b[39m\u001b[38;5;124mConstituency\u001b[39m\u001b[38;5;124m'\u001b[39m]\n\u001b[1;32m     51\u001b[0m     year \u001b[38;5;241m=\u001b[39m df\u001b[38;5;241m.\u001b[39miloc[\u001b[38;5;241m0\u001b[39m][\u001b[38;5;124m'\u001b[39m\u001b[38;5;124mYear\u001b[39m\u001b[38;5;124m'\u001b[39m]\n\u001b[1;32m     53\u001b[0m     parties_ordered \u001b[38;5;241m=\u001b[39m get_parties(year, constituency)\n",
      "File \u001b[0;32m~/Plaistha/Election_Form_20/ElectionVenv/lib/python3.10/site-packages/pandas/core/indexing.py:1191\u001b[0m, in \u001b[0;36m_LocationIndexer.__getitem__\u001b[0;34m(self, key)\u001b[0m\n\u001b[1;32m   1189\u001b[0m maybe_callable \u001b[38;5;241m=\u001b[39m com\u001b[38;5;241m.\u001b[39mapply_if_callable(key, \u001b[38;5;28mself\u001b[39m\u001b[38;5;241m.\u001b[39mobj)\n\u001b[1;32m   1190\u001b[0m maybe_callable \u001b[38;5;241m=\u001b[39m \u001b[38;5;28mself\u001b[39m\u001b[38;5;241m.\u001b[39m_check_deprecated_callable_usage(key, maybe_callable)\n\u001b[0;32m-> 1191\u001b[0m \u001b[38;5;28;01mreturn\u001b[39;00m \u001b[38;5;28;43mself\u001b[39;49m\u001b[38;5;241;43m.\u001b[39;49m\u001b[43m_getitem_axis\u001b[49m\u001b[43m(\u001b[49m\u001b[43mmaybe_callable\u001b[49m\u001b[43m,\u001b[49m\u001b[43m \u001b[49m\u001b[43maxis\u001b[49m\u001b[38;5;241;43m=\u001b[39;49m\u001b[43maxis\u001b[49m\u001b[43m)\u001b[49m\n",
      "File \u001b[0;32m~/Plaistha/Election_Form_20/ElectionVenv/lib/python3.10/site-packages/pandas/core/indexing.py:1752\u001b[0m, in \u001b[0;36m_iLocIndexer._getitem_axis\u001b[0;34m(self, key, axis)\u001b[0m\n\u001b[1;32m   1749\u001b[0m     \u001b[38;5;28;01mraise\u001b[39;00m \u001b[38;5;167;01mTypeError\u001b[39;00m(\u001b[38;5;124m\"\u001b[39m\u001b[38;5;124mCannot index by location index with a non-integer key\u001b[39m\u001b[38;5;124m\"\u001b[39m)\n\u001b[1;32m   1751\u001b[0m \u001b[38;5;66;03m# validate the location\u001b[39;00m\n\u001b[0;32m-> 1752\u001b[0m \u001b[38;5;28;43mself\u001b[39;49m\u001b[38;5;241;43m.\u001b[39;49m\u001b[43m_validate_integer\u001b[49m\u001b[43m(\u001b[49m\u001b[43mkey\u001b[49m\u001b[43m,\u001b[49m\u001b[43m \u001b[49m\u001b[43maxis\u001b[49m\u001b[43m)\u001b[49m\n\u001b[1;32m   1754\u001b[0m \u001b[38;5;28;01mreturn\u001b[39;00m \u001b[38;5;28mself\u001b[39m\u001b[38;5;241m.\u001b[39mobj\u001b[38;5;241m.\u001b[39m_ixs(key, axis\u001b[38;5;241m=\u001b[39maxis)\n",
      "File \u001b[0;32m~/Plaistha/Election_Form_20/ElectionVenv/lib/python3.10/site-packages/pandas/core/indexing.py:1685\u001b[0m, in \u001b[0;36m_iLocIndexer._validate_integer\u001b[0;34m(self, key, axis)\u001b[0m\n\u001b[1;32m   1683\u001b[0m len_axis \u001b[38;5;241m=\u001b[39m \u001b[38;5;28mlen\u001b[39m(\u001b[38;5;28mself\u001b[39m\u001b[38;5;241m.\u001b[39mobj\u001b[38;5;241m.\u001b[39m_get_axis(axis))\n\u001b[1;32m   1684\u001b[0m \u001b[38;5;28;01mif\u001b[39;00m key \u001b[38;5;241m>\u001b[39m\u001b[38;5;241m=\u001b[39m len_axis \u001b[38;5;129;01mor\u001b[39;00m key \u001b[38;5;241m<\u001b[39m \u001b[38;5;241m-\u001b[39mlen_axis:\n\u001b[0;32m-> 1685\u001b[0m     \u001b[38;5;28;01mraise\u001b[39;00m \u001b[38;5;167;01mIndexError\u001b[39;00m(\u001b[38;5;124m\"\u001b[39m\u001b[38;5;124msingle positional indexer is out-of-bounds\u001b[39m\u001b[38;5;124m\"\u001b[39m)\n",
      "\u001b[0;31mIndexError\u001b[0m: single positional indexer is out-of-bounds"
     ]
    }
   ],
   "source": [
    "# file_path = 'cleaned_election_data/KA/2014/196.xlsx'\n",
    "# file_path = 'cleaned_election_data/KA/2018/187.xlsx'\n",
    "file_path = 'results/cleaned_election_data/RA/2018/130.xlsx'\n",
    "\n",
    "df = pd.read_excel(file_path)\n",
    "print(df.shape)\n",
    "intermediate_df, constituency = intermediate_table(df, 2018)\n",
    "\n",
    "print(intermediate_df.shape)\n"
   ]
  },
  {
   "cell_type": "code",
   "execution_count": 14,
   "metadata": {},
   "outputs": [
    {
     "data": {
      "text/html": [
       "<div>\n",
       "<style scoped>\n",
       "    .dataframe tbody tr th:only-of-type {\n",
       "        vertical-align: middle;\n",
       "    }\n",
       "\n",
       "    .dataframe tbody tr th {\n",
       "        vertical-align: top;\n",
       "    }\n",
       "\n",
       "    .dataframe thead th {\n",
       "        text-align: right;\n",
       "    }\n",
       "</style>\n",
       "<table border=\"1\" class=\"dataframe\">\n",
       "  <thead>\n",
       "    <tr style=\"text-align: right;\">\n",
       "      <th></th>\n",
       "      <th>Position</th>\n",
       "      <th>Candidate</th>\n",
       "      <th>Party</th>\n",
       "    </tr>\n",
       "  </thead>\n",
       "  <tbody>\n",
       "    <tr>\n",
       "      <th>209</th>\n",
       "      <td>1</td>\n",
       "      <td>SUMIT GODARA</td>\n",
       "      <td>BJP</td>\n",
       "    </tr>\n",
       "    <tr>\n",
       "      <th>210</th>\n",
       "      <td>2</td>\n",
       "      <td>VIRENDRA BENIWAL</td>\n",
       "      <td>INC</td>\n",
       "    </tr>\n",
       "    <tr>\n",
       "      <th>211</th>\n",
       "      <td>3</td>\n",
       "      <td>PRABHUDAYAL</td>\n",
       "      <td>IND</td>\n",
       "    </tr>\n",
       "  </tbody>\n",
       "</table>\n",
       "</div>"
      ],
      "text/plain": [
       "     Position         Candidate Party\n",
       "209         1      SUMIT GODARA   BJP\n",
       "210         2  VIRENDRA BENIWAL   INC\n",
       "211         3       PRABHUDAYAL   IND"
      ]
     },
     "execution_count": 14,
     "metadata": {},
     "output_type": "execute_result"
    }
   ],
   "source": [
    "top_3 = [1,2,3]\n",
    "year = 2018 \n",
    "AC = 16\n",
    "# Define conditions\n",
    "condition_general = (\n",
    "    (election_df['Year'] == year) &\n",
    "    (election_df['Constituency_No'] == AC) &\n",
    "    (~election_df['Candidate'].isin(['None of the Above', 'NOTA']))\n",
    ")\n",
    "\n",
    "condition_inc = (\n",
    "    (election_df['Party'] == 'INC')\n",
    ")\n",
    "\n",
    "# Use bitwise OR to combine conditions\n",
    "filtered_election_df = election_df[\n",
    "    (condition_general & election_df['Position'].isin(top_3)) |\n",
    "    (condition_inc & condition_general)\n",
    "]\n",
    "\n",
    "filtered_election_df[['Position','Candidate','Party']].head(10)"
   ]
  },
  {
   "cell_type": "code",
   "execution_count": null,
   "metadata": {},
   "outputs": [],
   "source": []
  }
 ],
 "metadata": {
  "kernelspec": {
   "display_name": "Python 3",
   "language": "python",
   "name": "python3"
  },
  "language_info": {
   "codemirror_mode": {
    "name": "ipython",
    "version": 3
   },
   "file_extension": ".py",
   "mimetype": "text/x-python",
   "name": "python",
   "nbconvert_exporter": "python",
   "pygments_lexer": "ipython3",
   "version": "3.10.12"
  }
 },
 "nbformat": 4,
 "nbformat_minor": 2
}
