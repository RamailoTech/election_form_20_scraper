{
 "cells": [
  {
   "cell_type": "code",
   "execution_count": 1,
   "metadata": {},
   "outputs": [],
   "source": [
    "import os \n",
    "import pandas as pd \n",
    "import numpy as np \n",
    "\n"
   ]
  },
  {
   "cell_type": "code",
   "execution_count": 2,
   "metadata": {},
   "outputs": [],
   "source": [
    "def get_election_df(type):\n",
    "    if type == 'AE':\n",
    "        election_df = pd.read_csv('data/Chhattisgarh_AE.csv')\n",
    "    # if type == 'GA':\n",
    "    #     election_df = pd.read_csv('data/Maharashtra_GA.csv')\n",
    "        \n",
    "    return election_df\n",
    "        "
   ]
  },
  {
   "cell_type": "code",
   "execution_count": 3,
   "metadata": {},
   "outputs": [],
   "source": [
    "\n",
    "def get_parties(year,AC):\n",
    "    top_3 = [1,2,3]\n",
    "    # Define conditions\n",
    "    condition_general = (\n",
    "        (election_df['Year'] == year) &\n",
    "        (election_df['Constituency_No'] == AC) &\n",
    "        (~election_df['Candidate'].isin(['None of the Above', 'NOTA']))\n",
    "    )\n",
    "\n",
    "    condition_inc = (\n",
    "        (election_df['Party'] == 'INC')\n",
    "    )\n",
    "\n",
    "    # Use bitwise OR to combine conditions\n",
    "    filtered_election_df = election_df[\n",
    "        (condition_general & election_df['Position'].isin(top_3)) |\n",
    "        (condition_inc & condition_general)\n",
    "    ]\n",
    "    \n",
    "    return filtered_election_df.sort_values(by='Position', ascending=True)['Party'].tolist()\n"
   ]
  },
  {
   "cell_type": "code",
   "execution_count": 4,
   "metadata": {},
   "outputs": [],
   "source": [
    "def intermediate_table(df, year):\n",
    "    constituency = df.iloc[0]['Constituency']\n",
    "    year = df.iloc[0]['Year']\n",
    "\n",
    "    parties_ordered = get_parties(year, constituency)\n",
    "    \n",
    "    # Filter the columns that contains parties_ordered and col_ and 'NOTA' \n",
    "    col_columns = [col for col in df.columns if col in parties_ordered or col.startswith('col_') or col == 'NOTA']\n",
    "\n",
    "    cols = pd.Series(df.columns)\n",
    "    for dup in cols[cols.duplicated()].unique(): \n",
    "        cols[cols[cols == dup].index.values.tolist()] = [dup + '_' + str(i) if i != 0 else dup for i in range(sum(cols == dup))]\n",
    "    df.columns = cols\n",
    "    \n",
    "    # Add INC Status Column\n",
    "    max_votes_column = df[col_columns].idxmax(axis=1)\n",
    "    df['INC_Status'] = max_votes_column.map(lambda x: 'WON' if x == 'INC' else 'LOSS')\n",
    "\n",
    "    \n",
    "    top_parties = parties_ordered[:3] \n",
    "\n",
    "    for party in top_parties:\n",
    "        df[f'{party} Share%'] = ((df[party] / df['Total']) * 100).round(2)\n",
    "\n",
    "    # Prepare the columns for the final DataFrame\n",
    "    final_columns = ['SN', 'Constituency', 'Year'] + [item for party in top_parties for item in (party, f'{party} Share%')] + ['Total','INC_Status']\n",
    "    final_df = df[final_columns]\n",
    "    \n",
    "    # delete rows where SN is null\n",
    "    final_df = final_df[final_df['SN'].notnull()]\n",
    "    \n",
    "    return final_df, constituency\n"
   ]
  },
  {
   "cell_type": "code",
   "execution_count": 5,
   "metadata": {},
   "outputs": [],
   "source": [
    "\n",
    "import os \n",
    "\n",
    "\n",
    "def create_intermediate_tables_and_dump_excel_files(excel_dir, output_dir, log_file_name, year):\n",
    "    os.makedirs(output_dir, exist_ok=True)\n",
    "    for filename in os.listdir(excel_dir):\n",
    "        if filename.endswith('.xlsx'):\n",
    "            try: \n",
    "                df = pd.read_excel(os.path.join(excel_dir, filename))\n",
    "                intermediate_df, constituency = intermediate_table(df, year)\n",
    "                output_file_path = os.path.join(output_dir, f\"{constituency}.xlsx\")\n",
    "                intermediate_df.to_excel(output_file_path, index=False)\n",
    "            except Exception as exc: \n",
    "                with open(log_file_name, 'a') as f: \n",
    "                    f.write(f\"Error processing file: {filename} - {exc}\\n\")\n",
    "                continue\n",
    "                "
   ]
  },
  {
   "cell_type": "code",
   "execution_count": 6,
   "metadata": {},
   "outputs": [],
   "source": [
    "\n",
    "excel_dir = 'results/cleaned_election_data/CH/AE_2018'\n",
    "output_dir = 'results/intermediate_tables/CH/AE_2018'\n",
    "log_file_name = \"logs/CH_AE_election_intermediate_2018_log.txt\"\n",
    "year = 2018\n",
    "type = 'AE'\n",
    "election_df = get_election_df(type)\n",
    "\n",
    "create_intermediate_tables_and_dump_excel_files(excel_dir, output_dir, log_file_name, year)"
   ]
  },
  {
   "cell_type": "code",
   "execution_count": 12,
   "metadata": {},
   "outputs": [
    {
     "name": "stderr",
     "output_type": "stream",
     "text": [
      "/tmp/ipykernel_288152/2716788153.py:16: FutureWarning: The behavior of DataFrame.idxmax with all-NA values, or any-NA and skipna=False, is deprecated. In a future version this will raise ValueError\n",
      "  max_votes_column = df[col_columns].idxmax(axis=1)\n",
      "/tmp/ipykernel_288152/2716788153.py:16: FutureWarning: The behavior of DataFrame.idxmax with all-NA values, or any-NA and skipna=False, is deprecated. In a future version this will raise ValueError\n",
      "  max_votes_column = df[col_columns].idxmax(axis=1)\n",
      "/tmp/ipykernel_288152/2716788153.py:16: FutureWarning: The behavior of DataFrame.idxmax with all-NA values, or any-NA and skipna=False, is deprecated. In a future version this will raise ValueError\n",
      "  max_votes_column = df[col_columns].idxmax(axis=1)\n",
      "/tmp/ipykernel_288152/2716788153.py:16: FutureWarning: The behavior of DataFrame.idxmax with all-NA values, or any-NA and skipna=False, is deprecated. In a future version this will raise ValueError\n",
      "  max_votes_column = df[col_columns].idxmax(axis=1)\n"
     ]
    }
   ],
   "source": [
    "# excel_dir = 'results/cleaned_election_data/MH/GE_2014'\n",
    "# output_dir = 'results/intermediate_tables/MH/GE_2014'\n",
    "# log_file_name = \"logs/maharshtra_loksabha_election_intermediate_2014_cleaning_log.txt\"\n",
    "# year = 2014\n",
    "\n",
    "# excel_dir = 'cleaned_election_data/KA/2018'\n",
    "# output_dir = 'intermediate_tables/KA/2018'\n",
    "# log_file_name = \"logs/karnataka_assembly_election_intermediate_2018_cleaning_log.txt\"\n",
    "# year = 2018\n",
    "\n",
    "# excel_dir = 'cleaned_election_data/KA/2014'\n",
    "# output_dir = 'intermediate_tables/KA/2014'\n",
    "# log_file_name = \"logs/karnataka_assembly_election_intermediate_2014_cleaning_log.txt\"\n",
    "# year = 2014\n",
    "\n",
    "# excel_dir = 'results/cleaned_election_data/RA/2018'\n",
    "# output_dir = 'results/intermediate_tables/RA/2018'\n",
    "# log_file_name = \"logs/rajasthan_election_intermediate_2018_log.txt\"\n",
    "\n",
    "# excel_dir = 'results/cleaned_election_data/MH/2019_AE'\n",
    "# output_dir = 'results/intermediate_tables/MH/2019_AE'\n",
    "# log_file_name = \"logs/mh_ae_election_intermediate_2019_log.txt\"\n",
    "# year = 2019\n",
    "# type = 'AE'\n",
    "# election_df = get_election_df(type)\n",
    "\n",
    "# excel_dir = 'results/cleaned_election_data/MH/2019_GA'\n",
    "# output_dir = 'results/intermediate_tables/MH/2019_GA'\n",
    "# log_file_name = \"logs/mh_ga_election_intermediate_2019_log.txt\"\n",
    "# year = 2019\n",
    "# type = 'GA'\n",
    "# election_df = get_election_df(type)\n",
    "\n",
    "# create_intermediate_tables_and_dump_excel_files(excel_dir, output_dir, log_file_name, year)\n"
   ]
  },
  {
   "cell_type": "code",
   "execution_count": 15,
   "metadata": {},
   "outputs": [
    {
     "name": "stdout",
     "output_type": "stream",
     "text": [
      "(93, 29)\n",
      "(93, 11)\n"
     ]
    }
   ],
   "source": [
    "# file_path = 'cleaned_election_data/KA/2014/196.xlsx'\n",
    "# file_path = 'cleaned_election_data/KA/2018/187.xlsx'\n",
    "# file_path = 'results/cleaned_election_data/RA/2018/130.xlsx'\n",
    "file_path = 'results/cleaned_election_data/MH/2019_GA/101.xlsx'\n",
    "\n",
    "df = pd.read_excel(file_path)\n",
    "print(df.shape)\n",
    "intermediate_df, constituency = intermediate_table(df, 2019)\n",
    "\n",
    "print(intermediate_df.shape)\n"
   ]
  },
  {
   "cell_type": "code",
   "execution_count": 16,
   "metadata": {},
   "outputs": [
    {
     "data": {
      "text/plain": [
       "3069"
      ]
     },
     "execution_count": 16,
     "metadata": {},
     "output_type": "execute_result"
    }
   ],
   "source": [
    "df.size"
   ]
  },
  {
   "cell_type": "code",
   "execution_count": 14,
   "metadata": {},
   "outputs": [
    {
     "data": {
      "text/html": [
       "<div>\n",
       "<style scoped>\n",
       "    .dataframe tbody tr th:only-of-type {\n",
       "        vertical-align: middle;\n",
       "    }\n",
       "\n",
       "    .dataframe tbody tr th {\n",
       "        vertical-align: top;\n",
       "    }\n",
       "\n",
       "    .dataframe thead th {\n",
       "        text-align: right;\n",
       "    }\n",
       "</style>\n",
       "<table border=\"1\" class=\"dataframe\">\n",
       "  <thead>\n",
       "    <tr style=\"text-align: right;\">\n",
       "      <th></th>\n",
       "      <th>Position</th>\n",
       "      <th>Candidate</th>\n",
       "      <th>Party</th>\n",
       "    </tr>\n",
       "  </thead>\n",
       "  <tbody>\n",
       "    <tr>\n",
       "      <th>209</th>\n",
       "      <td>1</td>\n",
       "      <td>SUMIT GODARA</td>\n",
       "      <td>BJP</td>\n",
       "    </tr>\n",
       "    <tr>\n",
       "      <th>210</th>\n",
       "      <td>2</td>\n",
       "      <td>VIRENDRA BENIWAL</td>\n",
       "      <td>INC</td>\n",
       "    </tr>\n",
       "    <tr>\n",
       "      <th>211</th>\n",
       "      <td>3</td>\n",
       "      <td>PRABHUDAYAL</td>\n",
       "      <td>IND</td>\n",
       "    </tr>\n",
       "  </tbody>\n",
       "</table>\n",
       "</div>"
      ],
      "text/plain": [
       "     Position         Candidate Party\n",
       "209         1      SUMIT GODARA   BJP\n",
       "210         2  VIRENDRA BENIWAL   INC\n",
       "211         3       PRABHUDAYAL   IND"
      ]
     },
     "execution_count": 14,
     "metadata": {},
     "output_type": "execute_result"
    }
   ],
   "source": [
    "top_3 = [1,2,3]\n",
    "year = 2018 \n",
    "AC = 16\n",
    "# Define conditions\n",
    "condition_general = (\n",
    "    (election_df['Year'] == year) &\n",
    "    (election_df['Constituency_No'] == AC) &\n",
    "    (~election_df['Candidate'].isin(['None of the Above', 'NOTA']))\n",
    ")\n",
    "\n",
    "condition_inc = (\n",
    "    (election_df['Party'] == 'INC')\n",
    ")\n",
    "\n",
    "# Use bitwise OR to combine conditions\n",
    "filtered_election_df = election_df[\n",
    "    (condition_general & election_df['Position'].isin(top_3)) |\n",
    "    (condition_inc & condition_general)\n",
    "]\n",
    "\n",
    "filtered_election_df[['Position','Candidate','Party']].head(10)"
   ]
  },
  {
   "cell_type": "code",
   "execution_count": null,
   "metadata": {},
   "outputs": [],
   "source": []
  }
 ],
 "metadata": {
  "kernelspec": {
   "display_name": "Python 3",
   "language": "python",
   "name": "python3"
  },
  "language_info": {
   "codemirror_mode": {
    "name": "ipython",
    "version": 3
   },
   "file_extension": ".py",
   "mimetype": "text/x-python",
   "name": "python",
   "nbconvert_exporter": "python",
   "pygments_lexer": "ipython3",
   "version": "3.10.12"
  }
 },
 "nbformat": 4,
 "nbformat_minor": 2
}
